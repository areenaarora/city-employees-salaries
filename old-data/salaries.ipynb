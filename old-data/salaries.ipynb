{
 "cells": [
  {
   "cell_type": "markdown",
   "id": "43e8642a",
   "metadata": {},
   "source": [
    "# What can city employees' payroll data tell us?\n",
    "## -A quick data dive!"
   ]
  },
  {
   "cell_type": "markdown",
   "id": "c2d27ab4",
   "metadata": {},
   "source": [
    "### Data source: [Payroll data for NYC employees](https://data.cityofnewyork.us/City-Government/Citywide-Payroll-Data-Fiscal-Year-/k397-673e/data)"
   ]
  },
  {
   "cell_type": "code",
   "execution_count": 1,
   "id": "d1689ca8",
   "metadata": {},
   "outputs": [
    {
     "name": "stderr",
     "output_type": "stream",
     "text": [
      "/Users/areena.arora/.pyenv/versions/3.10.0/lib/python3.10/site-packages/pandas/compat/__init__.py:124: UserWarning: Could not import the lzma module. Your installed Python is incomplete. Attempting to use lzma compression will result in a RuntimeError.\n",
      "  warnings.warn(msg)\n"
     ]
    }
   ],
   "source": [
    "from plotnine import *\n",
    "import pandas as pd\n",
    "df = pd.read_csv('all-employees.csv')\n",
    "df.columns = df.columns.str.replace(\" \", \"_\")\n",
    "df.columns = df.columns.str.replace(\"-\", \"_\")\n",
    "df.columns = df.columns.str.lower()\n",
    "# pd.set_option('display.max_rows', None)\n",
    "pd.set_option('display.max_columns', None)\n",
    "pd.options.display.float_format = '{:,.2f}'.format"
   ]
  },
  {
   "cell_type": "code",
   "execution_count": 2,
   "id": "70373a3f",
   "metadata": {},
   "outputs": [
    {
     "data": {
      "text/plain": [
       "2020    590210\n",
       "2017    458365\n",
       "Name: year, dtype: int64"
      ]
     },
     "execution_count": 2,
     "metadata": {},
     "output_type": "execute_result"
    }
   ],
   "source": [
    "df.year.value_counts()"
   ]
  },
  {
   "cell_type": "markdown",
   "id": "397757a7",
   "metadata": {},
   "source": [
    "#### Cleaning the data\n",
    "I'm choosing to keep only NYC-specific boroughs: Queens, Manhattan, Brooklyn and Bronx. Data for Staten Island wasn't in the data here, unless, those employees were included in the \"other\" location."
   ]
  },
  {
   "cell_type": "code",
   "execution_count": 3,
   "id": "933be3f1",
   "metadata": {},
   "outputs": [],
   "source": [
    "boroughs = ['QUEENS', 'MANHATTAN', 'BROOKLYN', 'BRONX']"
   ]
  },
  {
   "cell_type": "code",
   "execution_count": 4,
   "id": "a13f423e",
   "metadata": {},
   "outputs": [],
   "source": [
    "df = df[df.borough.isin(boroughs)]"
   ]
  },
  {
   "cell_type": "code",
   "execution_count": 5,
   "id": "fa39742f",
   "metadata": {},
   "outputs": [
    {
     "data": {
      "text/html": [
       "<div>\n",
       "<style scoped>\n",
       "    .dataframe tbody tr th:only-of-type {\n",
       "        vertical-align: middle;\n",
       "    }\n",
       "\n",
       "    .dataframe tbody tr th {\n",
       "        vertical-align: top;\n",
       "    }\n",
       "\n",
       "    .dataframe thead th {\n",
       "        text-align: right;\n",
       "    }\n",
       "</style>\n",
       "<table border=\"1\" class=\"dataframe\">\n",
       "  <thead>\n",
       "    <tr style=\"text-align: right;\">\n",
       "      <th></th>\n",
       "      <th>year</th>\n",
       "      <th>payroll_no</th>\n",
       "      <th>agency_name</th>\n",
       "      <th>last_name</th>\n",
       "      <th>first_name</th>\n",
       "      <th>mid_int</th>\n",
       "      <th>start_date</th>\n",
       "      <th>borough</th>\n",
       "      <th>title_desc</th>\n",
       "      <th>leave_status</th>\n",
       "      <th>base_salary</th>\n",
       "      <th>pay_basis</th>\n",
       "      <th>reg_hrs</th>\n",
       "      <th>reg_gross_paid</th>\n",
       "      <th>ot_hrs</th>\n",
       "      <th>ot_paid</th>\n",
       "      <th>other_pay</th>\n",
       "    </tr>\n",
       "  </thead>\n",
       "  <tbody>\n",
       "    <tr>\n",
       "      <th>0</th>\n",
       "      <td>2020</td>\n",
       "      <td>17.00</td>\n",
       "      <td>OFFICE OF EMERGENCY MANAGEMENT</td>\n",
       "      <td>BEREZIN</td>\n",
       "      <td>MIKHAIL</td>\n",
       "      <td>NaN</td>\n",
       "      <td>8/10/15</td>\n",
       "      <td>BROOKLYN</td>\n",
       "      <td>EMERGENCY PREPAREDNESS MANAGER</td>\n",
       "      <td>ACTIVE</td>\n",
       "      <td>86,005.00</td>\n",
       "      <td>per Annum</td>\n",
       "      <td>1,820.00</td>\n",
       "      <td>84,698.21</td>\n",
       "      <td>0.00</td>\n",
       "      <td>0.00</td>\n",
       "      <td>0.00</td>\n",
       "    </tr>\n",
       "    <tr>\n",
       "      <th>1</th>\n",
       "      <td>2020</td>\n",
       "      <td>17.00</td>\n",
       "      <td>OFFICE OF EMERGENCY MANAGEMENT</td>\n",
       "      <td>GEAGER</td>\n",
       "      <td>VERONICA</td>\n",
       "      <td>M</td>\n",
       "      <td>9/12/16</td>\n",
       "      <td>BROOKLYN</td>\n",
       "      <td>EMERGENCY PREPAREDNESS MANAGER</td>\n",
       "      <td>ACTIVE</td>\n",
       "      <td>86,005.00</td>\n",
       "      <td>per Annum</td>\n",
       "      <td>1,820.00</td>\n",
       "      <td>84,698.21</td>\n",
       "      <td>0.00</td>\n",
       "      <td>0.00</td>\n",
       "      <td>0.00</td>\n",
       "    </tr>\n",
       "    <tr>\n",
       "      <th>2</th>\n",
       "      <td>2020</td>\n",
       "      <td>17.00</td>\n",
       "      <td>OFFICE OF EMERGENCY MANAGEMENT</td>\n",
       "      <td>RAMANI</td>\n",
       "      <td>SHRADDHA</td>\n",
       "      <td>NaN</td>\n",
       "      <td>2/22/16</td>\n",
       "      <td>BROOKLYN</td>\n",
       "      <td>EMERGENCY PREPAREDNESS MANAGER</td>\n",
       "      <td>ACTIVE</td>\n",
       "      <td>86,005.00</td>\n",
       "      <td>per Annum</td>\n",
       "      <td>1,820.00</td>\n",
       "      <td>84,698.21</td>\n",
       "      <td>0.00</td>\n",
       "      <td>0.00</td>\n",
       "      <td>0.00</td>\n",
       "    </tr>\n",
       "    <tr>\n",
       "      <th>3</th>\n",
       "      <td>2020</td>\n",
       "      <td>17.00</td>\n",
       "      <td>OFFICE OF EMERGENCY MANAGEMENT</td>\n",
       "      <td>ROTTA</td>\n",
       "      <td>JONATHAN</td>\n",
       "      <td>D</td>\n",
       "      <td>9/16/13</td>\n",
       "      <td>BROOKLYN</td>\n",
       "      <td>EMERGENCY PREPAREDNESS MANAGER</td>\n",
       "      <td>ACTIVE</td>\n",
       "      <td>86,005.00</td>\n",
       "      <td>per Annum</td>\n",
       "      <td>1,820.00</td>\n",
       "      <td>84,698.21</td>\n",
       "      <td>0.00</td>\n",
       "      <td>0.00</td>\n",
       "      <td>0.00</td>\n",
       "    </tr>\n",
       "    <tr>\n",
       "      <th>4</th>\n",
       "      <td>2020</td>\n",
       "      <td>17.00</td>\n",
       "      <td>OFFICE OF EMERGENCY MANAGEMENT</td>\n",
       "      <td>WILSON II</td>\n",
       "      <td>ROBERT</td>\n",
       "      <td>P</td>\n",
       "      <td>4/30/18</td>\n",
       "      <td>BROOKLYN</td>\n",
       "      <td>EMERGENCY PREPAREDNESS MANAGER</td>\n",
       "      <td>ACTIVE</td>\n",
       "      <td>86,005.00</td>\n",
       "      <td>per Annum</td>\n",
       "      <td>1,820.00</td>\n",
       "      <td>84,698.21</td>\n",
       "      <td>0.00</td>\n",
       "      <td>0.00</td>\n",
       "      <td>0.00</td>\n",
       "    </tr>\n",
       "  </tbody>\n",
       "</table>\n",
       "</div>"
      ],
      "text/plain": [
       "   year  payroll_no                     agency_name  last_name first_name  \\\n",
       "0  2020       17.00  OFFICE OF EMERGENCY MANAGEMENT    BEREZIN    MIKHAIL   \n",
       "1  2020       17.00  OFFICE OF EMERGENCY MANAGEMENT     GEAGER   VERONICA   \n",
       "2  2020       17.00  OFFICE OF EMERGENCY MANAGEMENT     RAMANI   SHRADDHA   \n",
       "3  2020       17.00  OFFICE OF EMERGENCY MANAGEMENT      ROTTA   JONATHAN   \n",
       "4  2020       17.00  OFFICE OF EMERGENCY MANAGEMENT  WILSON II     ROBERT   \n",
       "\n",
       "  mid_int start_date   borough                      title_desc leave_status  \\\n",
       "0     NaN    8/10/15  BROOKLYN  EMERGENCY PREPAREDNESS MANAGER       ACTIVE   \n",
       "1       M    9/12/16  BROOKLYN  EMERGENCY PREPAREDNESS MANAGER       ACTIVE   \n",
       "2     NaN    2/22/16  BROOKLYN  EMERGENCY PREPAREDNESS MANAGER       ACTIVE   \n",
       "3       D    9/16/13  BROOKLYN  EMERGENCY PREPAREDNESS MANAGER       ACTIVE   \n",
       "4       P    4/30/18  BROOKLYN  EMERGENCY PREPAREDNESS MANAGER       ACTIVE   \n",
       "\n",
       "   base_salary  pay_basis  reg_hrs  reg_gross_paid  ot_hrs  ot_paid  other_pay  \n",
       "0    86,005.00  per Annum 1,820.00       84,698.21    0.00     0.00       0.00  \n",
       "1    86,005.00  per Annum 1,820.00       84,698.21    0.00     0.00       0.00  \n",
       "2    86,005.00  per Annum 1,820.00       84,698.21    0.00     0.00       0.00  \n",
       "3    86,005.00  per Annum 1,820.00       84,698.21    0.00     0.00       0.00  \n",
       "4    86,005.00  per Annum 1,820.00       84,698.21    0.00     0.00       0.00  "
      ]
     },
     "execution_count": 5,
     "metadata": {},
     "output_type": "execute_result"
    }
   ],
   "source": [
    "df.head(5)"
   ]
  },
  {
   "cell_type": "markdown",
   "id": "06bbfec3",
   "metadata": {},
   "source": [
    "🚨 `Editorial choice`\n",
    "\n",
    "\n",
    "Let's narrow down the dataset to focus only on the employees who worked more hours in overtime than regular hours"
   ]
  },
  {
   "cell_type": "code",
   "execution_count": null,
   "id": "2d2d8c85",
   "metadata": {},
   "outputs": [],
   "source": [
    "ot_extra = df.query('ot_hrs > reg_hrs')"
   ]
  },
  {
   "cell_type": "code",
   "execution_count": null,
   "id": "b361cb66",
   "metadata": {},
   "outputs": [],
   "source": [
    "ot_extra"
   ]
  },
  {
   "cell_type": "code",
   "execution_count": null,
   "id": "e39af7e9",
   "metadata": {},
   "outputs": [],
   "source": [
    "ot_extra.last_name.nunique()"
   ]
  },
  {
   "cell_type": "code",
   "execution_count": null,
   "id": "e4c6b6fa",
   "metadata": {},
   "outputs": [],
   "source": [
    "df.last_name.nunique()"
   ]
  },
  {
   "cell_type": "code",
   "execution_count": null,
   "id": "bd58450e",
   "metadata": {},
   "outputs": [],
   "source": [
    "df.agency_name.nunique()"
   ]
  },
  {
   "cell_type": "code",
   "execution_count": null,
   "id": "bc88c3a0",
   "metadata": {},
   "outputs": [],
   "source": [
    "ot_extra.agency_name.nunique()"
   ]
  },
  {
   "cell_type": "markdown",
   "id": "86817d51",
   "metadata": {},
   "source": [
    "`Let's plot these 939 employees (remember 805 unique values, and the rest 134 are repeats!)`\n",
    "\n",
    "#### Preliminary questions to answer with charts:\n",
    "1. What agencies do these 939 employees work for?\n",
    "2. What boroughs do they work for?\n",
    "3. Are most of these employees still working?"
   ]
  },
  {
   "cell_type": "code",
   "execution_count": null,
   "id": "33a24ccb",
   "metadata": {},
   "outputs": [],
   "source": [
    "ot_extra.to_csv('ot_extra.csv')"
   ]
  },
  {
   "cell_type": "code",
   "execution_count": null,
   "id": "e9e8fee4",
   "metadata": {},
   "outputs": [],
   "source": [
    "(\n",
    "    ggplot(ot_extra,\n",
    "        aes('ot_hrs', 'reg_hrs'))\n",
    "        + geom_point(aes(color='borough'))\n",
    "        + facet_wrap('agency_name')\n",
    "        + theme(figure_size=(20, 18))\n",
    ")"
   ]
  },
  {
   "cell_type": "markdown",
   "id": "f186cfc2",
   "metadata": {},
   "source": [
    "#### 👉🏻  Soo ... Let's narrow to the top three agencies with the most number of employees who have worked extra in overtime"
   ]
  },
  {
   "cell_type": "code",
   "execution_count": null,
   "id": "43472f84",
   "metadata": {},
   "outputs": [],
   "source": [
    "agencies_df = ot_extra.agency_name.value_counts().head(3)\n",
    "agencies_df"
   ]
  },
  {
   "cell_type": "markdown",
   "id": "ac811507",
   "metadata": {},
   "source": [
    "To plot this further, I'm re-reading the filtered dataset from a new excel — because I couldn't figure out how to do the filtering while plotting."
   ]
  },
  {
   "cell_type": "code",
   "execution_count": null,
   "id": "8757fd3f",
   "metadata": {},
   "outputs": [],
   "source": [
    "agencies_df = pd.read_excel('agencies.xlsx')"
   ]
  },
  {
   "cell_type": "code",
   "execution_count": null,
   "id": "7d84bca9",
   "metadata": {},
   "outputs": [],
   "source": [
    "agencies_df.query('agency_name ==\"DEPT OF PARKS & RECREATION\"').reg_hrs.value_counts()"
   ]
  },
  {
   "cell_type": "code",
   "execution_count": null,
   "id": "eeeb6370",
   "metadata": {},
   "outputs": [],
   "source": [
    "chart = (\n",
    "    ggplot(agencies_df.query('reg_hrs > 0'),\n",
    "        aes('ot_hrs', 'reg_hrs'))\n",
    "        + geom_point(aes(color='borough'))\n",
    "        + facet_wrap('agency_name')\n",
    "        + theme(figure_size=(16, 5))\n",
    "        + labs(\n",
    "            title = \"City employees who worked more overtime than regular hours for top three agencies, by borough\",\n",
    "            y = \"Regular hours worked\",\n",
    "            x = \"Overtime hours\"\n",
    "        )\n",
    ")\n",
    "chart.save(\"three_agencies.svg\")\n",
    "chart"
   ]
  },
  {
   "cell_type": "markdown",
   "id": "728e37fc",
   "metadata": {},
   "source": [
    "#### Combining the plot into one chart"
   ]
  },
  {
   "cell_type": "code",
   "execution_count": null,
   "id": "d049c603",
   "metadata": {},
   "outputs": [],
   "source": [
    "(\n",
    "    ggplot(agencies_df.query('reg_hrs > 0'),\n",
    "        aes('ot_hrs', 'reg_hrs'))\n",
    "        + geom_point(aes(color='borough', shape='agency_name'))\n",
    "        + theme(figure_size=(8, 5))\n",
    "        + theme_bw()\n",
    "        + labs(\n",
    "            title = \"City employees who worked more overtime than regular hours by top three agencies\",\n",
    "            y = \"Regular hours worked\",\n",
    "            x = \"Overtime hours\"\n",
    "        )\n",
    ")"
   ]
  },
  {
   "cell_type": "code",
   "execution_count": null,
   "id": "6e5bf5f8",
   "metadata": {},
   "outputs": [],
   "source": [
    "(\n",
    "    ggplot(agencies_df.query('reg_hrs > 0'),\n",
    "        aes('ot_hrs', 'reg_hrs'))\n",
    "        + geom_point(aes(color='agency_name'))\n",
    "        + theme(figure_size=(8, 5))\n",
    "        + theme_bw()\n",
    "        + labs(\n",
    "            title = \"City employees who worked more overtime than regular hours by top three agencies\",\n",
    "            y = \"Regular hours worked\",\n",
    "            x = \"Overtime hours\"\n",
    "        )\n",
    ")"
   ]
  },
  {
   "cell_type": "code",
   "execution_count": null,
   "id": "74c98eb8",
   "metadata": {},
   "outputs": [],
   "source": [
    "(\n",
    "    ggplot(agencies_df.query('reg_hrs > 0'),\n",
    "        aes('ot_hrs', 'reg_hrs'))\n",
    "        + geom_point(aes(color='borough'))\n",
    "        + theme(figure_size=(8, 5))\n",
    "        + theme_bw()\n",
    "        + labs(\n",
    "            title = \"City employees who worked more overtime than regular hours by work boroughs\",\n",
    "            y = \"Regular hours worked\",\n",
    "            x = \"Overtime hours\"\n",
    "        )\n",
    ")"
   ]
  },
  {
   "cell_type": "markdown",
   "id": "3e57b4fb",
   "metadata": {},
   "source": [
    "### 📓 Observation\n",
    "\n",
    "`Most of these employees' work location is Brooklyn. Let's see how much overtime of employees with more overtime than regular hours cost the city, broken down by boroughs`\n",
    "\n",
    "But first, a quick refresher: \n",
    "\n",
    "The new dataframe (agencies_df) has employees who worked more in overtime hours than regular hours, sorted by the top three agencies."
   ]
  },
  {
   "cell_type": "code",
   "execution_count": null,
   "id": "66b9172a",
   "metadata": {},
   "outputs": [],
   "source": [
    "agencies_df"
   ]
  },
  {
   "cell_type": "code",
   "execution_count": null,
   "id": "860d89ca",
   "metadata": {},
   "outputs": [],
   "source": [
    "agencies_df.query('reg_hrs > 0').groupby(by='borough').ot_paid.sum()"
   ]
  },
  {
   "cell_type": "code",
   "execution_count": null,
   "id": "528d6aa4",
   "metadata": {},
   "outputs": [],
   "source": [
    "agencies_df.query('reg_hrs > 0').borough.value_counts()"
   ]
  },
  {
   "cell_type": "code",
   "execution_count": null,
   "id": "84d40231",
   "metadata": {},
   "outputs": [],
   "source": [
    "agencies_df.query('reg_hrs > 0').nunique()"
   ]
  },
  {
   "cell_type": "code",
   "execution_count": null,
   "id": "c42341a9",
   "metadata": {},
   "outputs": [],
   "source": [
    "agencies_df.query('reg_hrs > 0').groupby(by='borough').ot_paid.sum().plot(kind='barh')"
   ]
  },
  {
   "cell_type": "code",
   "execution_count": null,
   "id": "2e991fa2",
   "metadata": {},
   "outputs": [],
   "source": [
    "agencies_df.query('reg_hrs > 0').query('borough==\"BROOKLYN\"').agency_name.value_counts()"
   ]
  },
  {
   "cell_type": "markdown",
   "id": "72a89007",
   "metadata": {},
   "source": [
    "- 85 Brooklyn employees made over $366K in overtime and they worked more overtime than regular hours.\n",
    "- They also made more than the 149 employees in Manhattan"
   ]
  },
  {
   "cell_type": "markdown",
   "id": "5b0b46c4",
   "metadata": {},
   "source": [
    "### 📝 More observations📝"
   ]
  },
  {
   "cell_type": "markdown",
   "id": "cafc6d7a",
   "metadata": {},
   "source": [
    "Most of these employees appear to have \"ceased\" in their leave status. Let's take a closer look at that. Also, let's only include employees who have non-negative regular hours"
   ]
  },
  {
   "cell_type": "code",
   "execution_count": null,
   "id": "c66d2de7",
   "metadata": {},
   "outputs": [],
   "source": [
    "ceased_df = agencies_df.query('reg_hrs > 0').query('leave_status == \"CEASED\"')\n",
    "ceased_df"
   ]
  },
  {
   "cell_type": "code",
   "execution_count": null,
   "id": "c745a4af",
   "metadata": {},
   "outputs": [],
   "source": [
    "ceased_df.shape"
   ]
  },
  {
   "cell_type": "markdown",
   "id": "2f4e6307",
   "metadata": {},
   "source": [
    "#### Observation: 40 employees who worked more overtime than regular hours are no longer working. Let's take a closer look!"
   ]
  },
  {
   "cell_type": "code",
   "execution_count": null,
   "id": "729729b6",
   "metadata": {},
   "outputs": [],
   "source": [
    "ceased_df.ot_paid.sum().round()"
   ]
  },
  {
   "cell_type": "code",
   "execution_count": null,
   "id": "87f688ce",
   "metadata": {},
   "outputs": [],
   "source": [
    "ceased_df.ot_paid.mean().round()"
   ]
  },
  {
   "cell_type": "markdown",
   "id": "de3cc387",
   "metadata": {},
   "source": [
    "`Compare this to average overtime earned across all employees`"
   ]
  },
  {
   "cell_type": "code",
   "execution_count": null,
   "id": "de17c0f5",
   "metadata": {},
   "outputs": [],
   "source": [
    "df.ot_paid.mean().round()"
   ]
  },
  {
   "cell_type": "markdown",
   "id": "f6115ae6",
   "metadata": {},
   "source": [
    "# AHHA!"
   ]
  },
  {
   "cell_type": "markdown",
   "id": "a66d8ff7",
   "metadata": {},
   "source": [
    "#### 40 employees, worked more overtime than regular, racked up more money, on average, with overtime than all employees combined. These 40 employees are no longer working."
   ]
  },
  {
   "cell_type": "markdown",
   "id": "d6d664ed",
   "metadata": {},
   "source": [
    "`Where did these 40 employees work and for what agencies?`"
   ]
  },
  {
   "cell_type": "code",
   "execution_count": null,
   "id": "cd83ee88",
   "metadata": {},
   "outputs": [],
   "source": [
    "ceased_df.borough.value_counts()"
   ]
  },
  {
   "cell_type": "code",
   "execution_count": null,
   "id": "61dbaa02",
   "metadata": {},
   "outputs": [],
   "source": [
    "ceased_df.agency_name.value_counts()"
   ]
  },
  {
   "cell_type": "markdown",
   "id": "23a4f204",
   "metadata": {},
   "source": [
    "`Taking a closer look at Brooklyn employees`"
   ]
  },
  {
   "cell_type": "code",
   "execution_count": null,
   "id": "c6c8fb9a",
   "metadata": {},
   "outputs": [],
   "source": [
    "chart = (\n",
    "    ggplot(ceased_df.query('borough == \"BROOKLYN\"'),\n",
    "        aes('ot_hrs', 'reg_hrs'))\n",
    "        + geom_point(aes(color='agency_name'))\n",
    "        + theme(figure_size=(8, 5))\n",
    "        + theme_bw()\n",
    "        + labs(\n",
    "            title = \"Brooklyn employees who worked more overtime than regular hours & are no longer employed\",\n",
    "            y = \"Regular hours worked\",\n",
    "            x = \"Overtime hours\"\n",
    "        )\n",
    ")\n",
    "\n",
    "chart.save(\"brooklyn.svg\")\n",
    "chart"
   ]
  },
  {
   "cell_type": "code",
   "execution_count": null,
   "id": "75d73506",
   "metadata": {},
   "outputs": [],
   "source": [
    "chart = (\n",
    "    ggplot(df.sort_values(by='ot_paid', ascending = False).head(10),\n",
    "        aes('ot_hrs', 'ot_paid'))\n",
    "        + geom_point(aes(shape='agency_name', color='borough', size=4))\n",
    "        + theme(figure_size=(8, 5))\n",
    "        + theme_bw()\n",
    "        + labs(\n",
    "            title = \"Two NYC Housing Authority employees made over $210,000 in overtime pay in 2020\",\n",
    "            x = \"Overtime hours worked\",\n",
    "            y = \"Overtime paid\"\n",
    "        )\n",
    ")\n",
    "\n",
    "chart.save(\"overallNYCHA.svg\")\n",
    "chart"
   ]
  },
  {
   "cell_type": "code",
   "execution_count": null,
   "id": "dc8943ef",
   "metadata": {},
   "outputs": [],
   "source": [
    "df.sort_values(by='ot_paid', ascending = False).head(10)"
   ]
  },
  {
   "cell_type": "code",
   "execution_count": null,
   "id": "0b968dac",
   "metadata": {},
   "outputs": [],
   "source": [
    "(\n",
    "    ggplot(df.sort_values(by='ot_paid', ascending = False).head(100),\n",
    "        aes('year', 'ot_paid'))\n",
    "        + geom_point(aes(color='borough', size=3))\n",
    "        + theme(figure_size=(8, 5))\n",
    "        + theme_bw()\n",
    "        + labs(\n",
    "            title = \"2020 and 2017 saw the most in \",\n",
    "            x = \"Year\",\n",
    "            y = \"Overtime paid\"\n",
    "        )\n",
    ")\n",
    "\n",
    "# chart.save(\"overallNYCHA.svg\")\n",
    "# chart"
   ]
  },
  {
   "cell_type": "code",
   "execution_count": null,
   "id": "d52838d7",
   "metadata": {},
   "outputs": [],
   "source": [
    "df.year.value_counts()"
   ]
  },
  {
   "cell_type": "code",
   "execution_count": null,
   "id": "808dd534",
   "metadata": {},
   "outputs": [],
   "source": []
  },
  {
   "cell_type": "code",
   "execution_count": null,
   "id": "b4c1540c",
   "metadata": {},
   "outputs": [],
   "source": []
  },
  {
   "cell_type": "code",
   "execution_count": null,
   "id": "4ea0ad1a",
   "metadata": {},
   "outputs": [],
   "source": []
  },
  {
   "cell_type": "code",
   "execution_count": null,
   "id": "e5f685d0",
   "metadata": {},
   "outputs": [],
   "source": []
  },
  {
   "cell_type": "markdown",
   "id": "e9a239c2",
   "metadata": {},
   "source": [
    "## Lots more possibilities, but here's some initial observations /// a quick recap!"
   ]
  },
  {
   "cell_type": "markdown",
   "id": "0348dd9c",
   "metadata": {},
   "source": [
    "### 1. 805 city employees, between 2017-2021 worked more in overtime hours than regular hours\n",
    "### 2. Most of these employees were from the Police, Fire and Parks & Rec Departments\n",
    "### 3. While there's one NYPD outlier, most employees were from the fire department, who worked in Brooklyn and are no longer employed\n",
    "### 4. 85 Brooklyn employees made over $366K in overtime\n",
    "### 5. 40 employees, worked more overtime than regular, racked up more money, on average, with overtime than all employees combined. These 40 employees are no longer working."
   ]
  }
 ],
 "metadata": {
  "kernelspec": {
   "display_name": "Python 3 (ipykernel)",
   "language": "python",
   "name": "python3"
  },
  "language_info": {
   "codemirror_mode": {
    "name": "ipython",
    "version": 3
   },
   "file_extension": ".py",
   "mimetype": "text/x-python",
   "name": "python",
   "nbconvert_exporter": "python",
   "pygments_lexer": "ipython3",
   "version": "3.10.0"
  }
 },
 "nbformat": 4,
 "nbformat_minor": 5
}
