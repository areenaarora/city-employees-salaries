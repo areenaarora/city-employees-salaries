{
 "cells": [
  {
   "cell_type": "markdown",
   "id": "43e8642a",
   "metadata": {},
   "source": [
    "# What can city employees' payroll data tell us?\n",
    "## -A quick data dive!"
   ]
  },
  {
   "cell_type": "markdown",
   "id": "c2d27ab4",
   "metadata": {},
   "source": [
    "### Data source: [Payroll data for NYC employees](https://data.cityofnewyork.us/City-Government/Citywide-Payroll-Data-Fiscal-Year-/k397-673e/data)"
   ]
  },
  {
   "cell_type": "code",
   "execution_count": 1,
   "id": "d1689ca8",
   "metadata": {},
   "outputs": [
    {
     "name": "stderr",
     "output_type": "stream",
     "text": [
      "/Users/areena.arora/.pyenv/versions/3.10.0/lib/python3.10/site-packages/pandas/compat/__init__.py:124: UserWarning: Could not import the lzma module. Your installed Python is incomplete. Attempting to use lzma compression will result in a RuntimeError.\n",
      "  warnings.warn(msg)\n"
     ]
    }
   ],
   "source": [
    "from plotnine import *\n",
    "import pandas as pd\n",
    "df = pd.read_csv('Citywide_Payroll_Data__Fiscal_Year_.csv')\n",
    "df.columns = df.columns.str.replace(\" \", \"_\")\n",
    "df.columns = df.columns.str.replace(\"-\", \"_\")\n",
    "df.columns = df.columns.str.lower()\n",
    "# pd.set_option('display.max_rows', None)\n",
    "pd.set_option('display.max_columns', None)\n",
    "# pd.options.display.float_format = '{:,.2f}'.format"
   ]
  },
  {
   "cell_type": "code",
   "execution_count": 2,
   "id": "5334199b",
   "metadata": {},
   "outputs": [
    {
     "data": {
      "text/plain": [
       "2019    592431\n",
       "2020    590210\n",
       "2021    573477\n",
       "2017    562266\n",
       "2018    546161\n",
       "Name: fiscal_year, dtype: int64"
      ]
     },
     "execution_count": 2,
     "metadata": {},
     "output_type": "execute_result"
    }
   ],
   "source": [
    "df.fiscal_year.value_counts()"
   ]
  },
  {
   "cell_type": "markdown",
   "id": "397757a7",
   "metadata": {},
   "source": [
    "#### Cleaning the data\n",
    "I'm choosing to keep only NYC-specific boroughs: Queens, Manhattan, Brooklyn and Bronx. Data for Staten Island wasn't in the data here, unless, those employees were included in the \"other\" location."
   ]
  },
  {
   "cell_type": "code",
   "execution_count": null,
   "id": "933be3f1",
   "metadata": {},
   "outputs": [],
   "source": [
    "boroughs = ['QUEENS', 'MANHATTAN', 'BROOKLYN', 'BRONX']"
   ]
  },
  {
   "cell_type": "code",
   "execution_count": null,
   "id": "a13f423e",
   "metadata": {},
   "outputs": [],
   "source": [
    "df = df[df.work_location_borough.isin(boroughs)]"
   ]
  },
  {
   "cell_type": "code",
   "execution_count": null,
   "id": "fa39742f",
   "metadata": {},
   "outputs": [],
   "source": [
    "df.shape"
   ]
  },
  {
   "cell_type": "code",
   "execution_count": null,
   "id": "8b4a9b56",
   "metadata": {},
   "outputs": [],
   "source": [
    "df.last_name.nunique()"
   ]
  },
  {
   "cell_type": "code",
   "execution_count": null,
   "id": "39b07438",
   "metadata": {},
   "outputs": [],
   "source": [
    "df.fiscal_year.value_counts()"
   ]
  },
  {
   "cell_type": "markdown",
   "id": "06bbfec3",
   "metadata": {},
   "source": [
    "🚨 `Editorial choice`\n",
    "\n",
    "\n",
    "Let's narrow down the dataset to focus only on the employees who worked more hours in overtime than regular hours"
   ]
  },
  {
   "cell_type": "code",
   "execution_count": null,
   "id": "2d2d8c85",
   "metadata": {},
   "outputs": [],
   "source": [
    "ot_extra = df.query('ot_hours > regular_hours')"
   ]
  },
  {
   "cell_type": "code",
   "execution_count": null,
   "id": "b361cb66",
   "metadata": {},
   "outputs": [],
   "source": [
    "ot_extra"
   ]
  },
  {
   "cell_type": "code",
   "execution_count": null,
   "id": "e39af7e9",
   "metadata": {},
   "outputs": [],
   "source": [
    "ot_extra.last_name.nunique()"
   ]
  },
  {
   "cell_type": "code",
   "execution_count": null,
   "id": "e4c6b6fa",
   "metadata": {},
   "outputs": [],
   "source": [
    "df.last_name.nunique()"
   ]
  },
  {
   "cell_type": "code",
   "execution_count": null,
   "id": "bd58450e",
   "metadata": {},
   "outputs": [],
   "source": [
    "df.agency_name.nunique()"
   ]
  },
  {
   "cell_type": "code",
   "execution_count": null,
   "id": "bc88c3a0",
   "metadata": {},
   "outputs": [],
   "source": [
    "ot_extra.agency_name.nunique()"
   ]
  },
  {
   "cell_type": "markdown",
   "id": "86817d51",
   "metadata": {},
   "source": [
    "`Let's plot these 2110 employees (remember 1556 unique values, and the rest 554 are repeats!)`\n",
    "\n",
    "#### Preliminary questions to answer with charts:\n",
    "1. What agencies do these 2110 employees work for?\n",
    "2. What boroughs do they work in?\n",
    "3. Are these people still employed?"
   ]
  },
  {
   "cell_type": "code",
   "execution_count": null,
   "id": "33a24ccb",
   "metadata": {},
   "outputs": [],
   "source": [
    "ot_extra.to_csv('ot_extra.csv')"
   ]
  },
  {
   "cell_type": "code",
   "execution_count": null,
   "id": "e9e8fee4",
   "metadata": {},
   "outputs": [],
   "source": [
    "(\n",
    "    ggplot(ot_extra,\n",
    "        aes('ot_hours', 'regular_hours'))\n",
    "        + geom_point(aes(color='work_location_borough'))\n",
    "        + facet_wrap('agency_name')\n",
    "        + theme(figure_size=(20, 18))\n",
    ")"
   ]
  },
  {
   "cell_type": "markdown",
   "id": "f186cfc2",
   "metadata": {},
   "source": [
    "#### 👉🏻  Soo ... Let's narrow to the top three agencies with the most number of employees who have worked extra in overtime"
   ]
  },
  {
   "cell_type": "code",
   "execution_count": null,
   "id": "43472f84",
   "metadata": {},
   "outputs": [],
   "source": [
    "three = ot_extra.agency_name.value_counts().head(3)\n",
    "three"
   ]
  },
  {
   "cell_type": "code",
   "execution_count": null,
   "id": "dbbcb7ca",
   "metadata": {},
   "outputs": [],
   "source": [
    "three.index"
   ]
  },
  {
   "cell_type": "code",
   "execution_count": null,
   "id": "ef71e86e",
   "metadata": {},
   "outputs": [],
   "source": [
    "ot_extra[ot_extra.agency_name.isin(three.index)]"
   ]
  },
  {
   "cell_type": "markdown",
   "id": "ac811507",
   "metadata": {},
   "source": [
    "To plot this further, I'm re-reading the filtered dataset from a new excel — because I couldn't figure out how to do the filtering while plotting."
   ]
  },
  {
   "cell_type": "code",
   "execution_count": null,
   "id": "8757fd3f",
   "metadata": {},
   "outputs": [],
   "source": [
    "agencies_df = pd.read_csv('three-agencies.csv')"
   ]
  },
  {
   "cell_type": "code",
   "execution_count": null,
   "id": "c58a2e61",
   "metadata": {},
   "outputs": [],
   "source": [
    "agencies_df"
   ]
  },
  {
   "cell_type": "code",
   "execution_count": null,
   "id": "7d84bca9",
   "metadata": {},
   "outputs": [],
   "source": [
    "agencies_df.query('regular_hours < 0')"
   ]
  },
  {
   "cell_type": "markdown",
   "id": "eb34defd",
   "metadata": {},
   "source": [
    "Strangely, a bunch of values for regular hours are listed as negatives. Focussing on those with at least one regular hour moving forward. This would be a reporting question that the dataset doesn't answer"
   ]
  },
  {
   "cell_type": "code",
   "execution_count": null,
   "id": "eeeb6370",
   "metadata": {},
   "outputs": [],
   "source": [
    "chart = (\n",
    "    ggplot(agencies_df.query('regular_hours > 0'),\n",
    "        aes('ot_hours', 'regular_hours'))\n",
    "        + geom_point(aes(color='work_location_borough'))\n",
    "        + facet_wrap('agency_name')\n",
    "        + theme(figure_size=(16, 5))\n",
    "        + labs(\n",
    "            title = \"City employees who worked more overtime than regular hours for top three agencies, by borough\",\n",
    "            y = \"Regular hours worked\",\n",
    "            x = \"Overtime hours\"\n",
    "        )\n",
    ")\n",
    "chart.save(\"top_three_agencies.svg\")\n",
    "chart"
   ]
  },
  {
   "cell_type": "markdown",
   "id": "728e37fc",
   "metadata": {},
   "source": [
    "#### Combining the plot into one chart"
   ]
  },
  {
   "cell_type": "code",
   "execution_count": null,
   "id": "d049c603",
   "metadata": {},
   "outputs": [],
   "source": [
    "(\n",
    "    ggplot(agencies_df.query('regular_hours > 0'),\n",
    "        aes('ot_hours', 'regular_hours'))\n",
    "        + geom_point(aes(color='work_location_borough', shape='agency_name'))\n",
    "        + theme(figure_size=(8, 5))\n",
    "        + theme_bw()\n",
    "        + labs(\n",
    "            title = \"City employees who worked more overtime than regular hours by top three agencies\",\n",
    "            y = \"Regular hours worked\",\n",
    "            x = \"Overtime hours\"\n",
    "        )\n",
    ")"
   ]
  },
  {
   "cell_type": "code",
   "execution_count": null,
   "id": "6e5bf5f8",
   "metadata": {},
   "outputs": [],
   "source": [
    "(\n",
    "    ggplot(agencies_df.query('regular_hours > 0'),\n",
    "        aes('ot_hours', 'regular_hours'))\n",
    "        + geom_point(aes(color='agency_name'))\n",
    "        + theme(figure_size=(8, 5))\n",
    "        + theme_bw()\n",
    "        + labs(\n",
    "            title = \"City employees who worked more overtime than regular hours by top three agencies\",\n",
    "            y = \"Regular hours worked\",\n",
    "            x = \"Overtime hours\"\n",
    "        )\n",
    ")"
   ]
  },
  {
   "cell_type": "code",
   "execution_count": null,
   "id": "74c98eb8",
   "metadata": {},
   "outputs": [],
   "source": [
    "(\n",
    "    ggplot(agencies_df.query('regular_hours > 0'),\n",
    "        aes('ot_hours', 'regular_hours'))\n",
    "        + geom_point(aes(color='work_location_borough'))\n",
    "        + theme(figure_size=(8, 5))\n",
    "        + theme_bw()\n",
    "        + labs(\n",
    "            title = \"City employees who worked more overtime than regular hours by work boroughs\",\n",
    "            y = \"Regular hours worked\",\n",
    "            x = \"Overtime hours\"\n",
    "        )\n",
    ")"
   ]
  },
  {
   "cell_type": "markdown",
   "id": "3e57b4fb",
   "metadata": {},
   "source": [
    "### 📓 Observation\n",
    "\n",
    "Most of these employees' work location is Manhattan and fairly similar number of employees for Police Dept and Children's Services. Let's see how much these employees' overtime cost the city\n",
    "\n",
    "But first, a quick refresher: \n",
    "\n",
    "The new dataframe `agencies_df` has employees who worked more in overtime hours than regular hours, sorted by the top three agencies."
   ]
  },
  {
   "cell_type": "code",
   "execution_count": null,
   "id": "66b9172a",
   "metadata": {},
   "outputs": [],
   "source": [
    "agencies_df.head(10)"
   ]
  },
  {
   "cell_type": "code",
   "execution_count": null,
   "id": "860d89ca",
   "metadata": {},
   "outputs": [],
   "source": [
    "agencies_df.query('regular_hours > 0').groupby(by='work_location_borough').total_ot_paid.sum()"
   ]
  },
  {
   "cell_type": "code",
   "execution_count": null,
   "id": "5e5ab3a4",
   "metadata": {},
   "outputs": [],
   "source": [
    "agencies_df.query('regular_hours > 0').groupby(by='work_location_borough').fiscal_year.value_counts()"
   ]
  },
  {
   "cell_type": "code",
   "execution_count": null,
   "id": "14bfa23a",
   "metadata": {},
   "outputs": [],
   "source": [
    "agencies_df.query('regular_hours > 0').groupby(by='work_location_borough').last_name.nunique()"
   ]
  },
  {
   "cell_type": "code",
   "execution_count": null,
   "id": "528d6aa4",
   "metadata": {},
   "outputs": [],
   "source": [
    "agencies_df.query('regular_hours > 0').work_location_borough.value_counts()"
   ]
  },
  {
   "cell_type": "code",
   "execution_count": null,
   "id": "84d40231",
   "metadata": {},
   "outputs": [],
   "source": [
    "agencies_df.query('regular_hours > 0').nunique()"
   ]
  },
  {
   "cell_type": "code",
   "execution_count": null,
   "id": "c42341a9",
   "metadata": {},
   "outputs": [],
   "source": [
    "agencies_df.query('regular_hours > 0').groupby(by='work_location_borough').total_ot_paid.sum().plot(kind='barh')"
   ]
  },
  {
   "cell_type": "code",
   "execution_count": null,
   "id": "8525eba6",
   "metadata": {},
   "outputs": [],
   "source": [
    "agencies_df.query('regular_hours > 0').query('work_location_borough==\"MANHATTAN\"').agency_name.value_counts()"
   ]
  },
  {
   "cell_type": "code",
   "execution_count": null,
   "id": "a2116db3",
   "metadata": {},
   "outputs": [],
   "source": [
    "# Sanity check -- ignore\n",
    "agencies_df.fiscal_year.value_counts()"
   ]
  },
  {
   "cell_type": "markdown",
   "id": "72a89007",
   "metadata": {},
   "source": [
    "# 32 unique Manhattan employees made over $2.6 million in overtime and they worked more overtime than regular hours — across just three agencies"
   ]
  },
  {
   "cell_type": "markdown",
   "id": "5b0b46c4",
   "metadata": {},
   "source": [
    "### 📝 More observations📝"
   ]
  },
  {
   "cell_type": "markdown",
   "id": "cafc6d7a",
   "metadata": {},
   "source": [
    "Let's see who among these employees have \"ceased\" in their leave status — presumably meaning they've retired. Let's take a closer look at that. Also, let's only include employees who have non-negative regular hours."
   ]
  },
  {
   "cell_type": "code",
   "execution_count": null,
   "id": "c66d2de7",
   "metadata": {},
   "outputs": [],
   "source": [
    "ceased_df = agencies_df.query('regular_hours > 0').query('leave_status_as_of_june_30 == \"CEASED\"')\n",
    "ceased_df"
   ]
  },
  {
   "cell_type": "markdown",
   "id": "2f4e6307",
   "metadata": {},
   "source": [
    "#### Observation: 70 employees who worked more overtime than regular hours are no longer working. Let's take a closer look!"
   ]
  },
  {
   "cell_type": "code",
   "execution_count": null,
   "id": "87f688ce",
   "metadata": {},
   "outputs": [],
   "source": [
    "ceased_df.total_ot_paid.mean().round()"
   ]
  },
  {
   "cell_type": "markdown",
   "id": "de3cc387",
   "metadata": {},
   "source": [
    "> Compare this to average overtime earned across all employees"
   ]
  },
  {
   "cell_type": "code",
   "execution_count": null,
   "id": "de17c0f5",
   "metadata": {},
   "outputs": [],
   "source": [
    "df.total_ot_paid.mean().round()"
   ]
  },
  {
   "cell_type": "markdown",
   "id": "f6115ae6",
   "metadata": {},
   "source": [
    "# AHHA!"
   ]
  },
  {
   "cell_type": "markdown",
   "id": "a66d8ff7",
   "metadata": {},
   "source": [
    "#### 70 employees, worked more overtime than regular, racked up more money, on average, with overtime than all employees combined. And, these 70 employees are no longer working."
   ]
  },
  {
   "cell_type": "markdown",
   "id": "d6d664ed",
   "metadata": {},
   "source": [
    "#### Where did they work and for what agencies?"
   ]
  },
  {
   "cell_type": "code",
   "execution_count": null,
   "id": "cd83ee88",
   "metadata": {},
   "outputs": [],
   "source": [
    "ceased_df.work_location_borough.value_counts()"
   ]
  },
  {
   "cell_type": "code",
   "execution_count": null,
   "id": "61dbaa02",
   "metadata": {},
   "outputs": [],
   "source": [
    "ceased_df.agency_name.value_counts()"
   ]
  },
  {
   "cell_type": "markdown",
   "id": "23a4f204",
   "metadata": {},
   "source": [
    "`Taking a closer look at Manhattan employees`"
   ]
  },
  {
   "cell_type": "code",
   "execution_count": null,
   "id": "c6c8fb9a",
   "metadata": {},
   "outputs": [],
   "source": [
    "chart = (\n",
    "    ggplot(ceased_df.query('work_location_borough == \"MANHATTAN\"'),\n",
    "        aes('total_ot_paid', 'ot_hours'))\n",
    "        + geom_point(aes(color='agency_name'))\n",
    "        + theme(figure_size=(8, 5))\n",
    "        + theme_bw()\n",
    "        + labs(\n",
    "            title = \"Manhattan employees who worked more overtime than regular hours & are no longer employed\",\n",
    "            y = \"Overtime hours worked\",\n",
    "            x = \"Overtime paid\"\n",
    "        )\n",
    ")\n",
    "\n",
    "chart.save(\"manhattan.svg\")\n",
    "chart"
   ]
  },
  {
   "cell_type": "code",
   "execution_count": null,
   "id": "ec315d77",
   "metadata": {},
   "outputs": [],
   "source": [
    "ceased_df.query('work_location_borough == \"MANHATTAN\"').sort_values(by=\"ot_hours\", ascending = False).head(3)"
   ]
  },
  {
   "cell_type": "code",
   "execution_count": null,
   "id": "b3235c16",
   "metadata": {},
   "outputs": [],
   "source": [
    "df.sort_values(by='total_ot_paid', ascending = False).head(5)"
   ]
  },
  {
   "cell_type": "code",
   "execution_count": null,
   "id": "09d629bc",
   "metadata": {},
   "outputs": [],
   "source": [
    "chart = (\n",
    "    ggplot(df.sort_values(by='total_ot_paid', ascending = False).head(10),\n",
    "        aes('total_ot_paid', 'ot_hours'))\n",
    "        + geom_point(aes(shape='agency_name', color='work_location_borough', size=4))\n",
    "        + theme(figure_size=(8, 5))\n",
    "        + theme_bw()\n",
    "        + labs(\n",
    "            title = \"NYC Housing Authority and Health & Mental Hygiene employees made the most in overtime pay in 2021\",\n",
    "            y = \"Overtime hours worked\",\n",
    "            x = \"Overtime paid\"\n",
    "        )\n",
    ")\n",
    "\n",
    "chart.save(\"overall-high-paid.svg\")\n",
    "chart"
   ]
  },
  {
   "cell_type": "code",
   "execution_count": null,
   "id": "7d6c910f",
   "metadata": {},
   "outputs": [],
   "source": [
    "chart = (\n",
    "    ggplot(df,\n",
    "        aes('fiscal_year', 'ot_hours'))\n",
    "        + geom_point(aes(color='work_location_borough', size=3))\n",
    "        + theme(figure_size=(8, 5))\n",
    "        + theme_bw()\n",
    "        + labs(\n",
    "            title = \"Overtime hours for each year \",\n",
    "            x = \"Year\",\n",
    "            y = \"Overtime hours\"\n",
    "        )\n",
    ")\n",
    "\n",
    "# chart.save(\"year.svg\")\n",
    "chart"
   ]
  },
  {
   "cell_type": "code",
   "execution_count": null,
   "id": "6a62ac33",
   "metadata": {},
   "outputs": [],
   "source": [
    "df.sort_values(by='total_ot_paid', ascending = False).fiscal_year.value_counts()"
   ]
  },
  {
   "cell_type": "markdown",
   "id": "e9a239c2",
   "metadata": {},
   "source": [
    "## Lots more possibilities, but here's some initial observations /// a quick recap!"
   ]
  },
  {
   "cell_type": "markdown",
   "id": "0348dd9c",
   "metadata": {},
   "source": [
    "1. 1556 city employees, between 2017-2021 worked more in overtime hours than regular hours\n",
    "2. Of these 1556 employees, 766 were from three agencies: Police, Children's Services and Parks & Rec Departments\n",
    "3. 70 of these 766 employees no longer work for the city. Together they made nearly \\\\$12,500 in overtime, on average. This compares to the average being \\\\$3200 for all employees"
   ]
  },
  {
   "cell_type": "markdown",
   "id": "94394775",
   "metadata": {},
   "source": [
    "## -------"
   ]
  },
  {
   "cell_type": "code",
   "execution_count": null,
   "id": "04fbfc7c",
   "metadata": {},
   "outputs": [],
   "source": [
    "df.sort_values(by='total_ot_paid', ascending = False).head(10)"
   ]
  },
  {
   "cell_type": "code",
   "execution_count": null,
   "id": "d0238345",
   "metadata": {},
   "outputs": [],
   "source": [
    "df.query('total_ot_paid > 200000')"
   ]
  },
  {
   "cell_type": "code",
   "execution_count": null,
   "id": "6ac53396",
   "metadata": {},
   "outputs": [],
   "source": [
    "df.query('total_ot_paid > 200000').agency_name.value_counts()"
   ]
  },
  {
   "cell_type": "code",
   "execution_count": null,
   "id": "2448f8d5",
   "metadata": {},
   "outputs": [],
   "source": [
    "df.query('total_ot_paid > 200000').fiscal_year.value_counts()"
   ]
  },
  {
   "cell_type": "code",
   "execution_count": null,
   "id": "fb3da498",
   "metadata": {},
   "outputs": [],
   "source": [
    "import re\n",
    "df.query('total_ot_paid > 100000').title_description.str.extractall(r'(.PLUMBER)',re.IGNORECASE).count()"
   ]
  },
  {
   "cell_type": "code",
   "execution_count": null,
   "id": "35d02afd",
   "metadata": {},
   "outputs": [],
   "source": [
    "df[df['title_description'].str.contains('.PLUMBER')== True].agency_name.value_counts()"
   ]
  },
  {
   "cell_type": "code",
   "execution_count": null,
   "id": "24750b03",
   "metadata": {},
   "outputs": [],
   "source": [
    "df.title_description.value_counts()"
   ]
  },
  {
   "cell_type": "code",
   "execution_count": null,
   "id": "29481150",
   "metadata": {},
   "outputs": [],
   "source": [
    "df[df['title_description'].str.contains('.PLUMBER')== True]"
   ]
  },
  {
   "cell_type": "code",
   "execution_count": null,
   "id": "6e897060",
   "metadata": {},
   "outputs": [],
   "source": [
    "df[df['title_description'].str.contains('.PLUMBER')== True].total_ot_paid.mean()"
   ]
  },
  {
   "cell_type": "code",
   "execution_count": null,
   "id": "d7225c50",
   "metadata": {},
   "outputs": [],
   "source": [
    "df[df['title_description'].str.contains('.ELECTRICIAN')== True].total_ot_paid.mean()"
   ]
  },
  {
   "cell_type": "code",
   "execution_count": null,
   "id": "f87e4fc5",
   "metadata": {},
   "outputs": [],
   "source": [
    "df[df['title_description'].str.contains('.PLUMBER')== True].total_ot_paid.max()"
   ]
  },
  {
   "cell_type": "code",
   "execution_count": null,
   "id": "c810d67e",
   "metadata": {},
   "outputs": [],
   "source": [
    "df[df['title_description'].str.contains('.PLUMBER')== True].total_ot_paid.min()"
   ]
  },
  {
   "cell_type": "code",
   "execution_count": null,
   "id": "448d7da1",
   "metadata": {},
   "outputs": [],
   "source": [
    "df[df['title_description'].str.contains('.PLUMBER')== True].groupby(by='agency_name').total_ot_paid.sum()"
   ]
  },
  {
   "cell_type": "code",
   "execution_count": null,
   "id": "d7d4d2f5",
   "metadata": {},
   "outputs": [],
   "source": [
    "df[df['title_description'].str.contains('.PLUMBER')== True].groupby(by='agency_name').base_salary.sum()"
   ]
  },
  {
   "cell_type": "code",
   "execution_count": null,
   "id": "fa5262cb",
   "metadata": {},
   "outputs": [],
   "source": [
    "df[df['title_description'].str.contains('.PLUMBER')== True].groupby(['agency_name', 'fiscal_year']).base_salary.sum()"
   ]
  },
  {
   "cell_type": "markdown",
   "id": "731fdcd6",
   "metadata": {},
   "source": [
    "### NYCHA plumbers made \\\\$31,865 in base salary in total over five years. In overtime they made over $7.6 million"
   ]
  },
  {
   "cell_type": "code",
   "execution_count": null,
   "id": "91a250d4",
   "metadata": {},
   "outputs": [],
   "source": []
  },
  {
   "cell_type": "code",
   "execution_count": null,
   "id": "6683ce0d",
   "metadata": {},
   "outputs": [],
   "source": []
  },
  {
   "cell_type": "code",
   "execution_count": null,
   "id": "228a4edf",
   "metadata": {},
   "outputs": [],
   "source": []
  },
  {
   "cell_type": "code",
   "execution_count": null,
   "id": "bcc7cf81",
   "metadata": {},
   "outputs": [],
   "source": []
  },
  {
   "cell_type": "code",
   "execution_count": null,
   "id": "81112e13",
   "metadata": {},
   "outputs": [],
   "source": []
  },
  {
   "cell_type": "code",
   "execution_count": null,
   "id": "7d236795",
   "metadata": {},
   "outputs": [],
   "source": [
    "df.total_ot_paid.sum().round()"
   ]
  },
  {
   "cell_type": "code",
   "execution_count": null,
   "id": "a934fdd5",
   "metadata": {},
   "outputs": [],
   "source": [
    "df.groupby(by='fiscal_year').total_ot_paid.sum().mean().round()"
   ]
  },
  {
   "cell_type": "code",
   "execution_count": null,
   "id": "d2061015",
   "metadata": {},
   "outputs": [],
   "source": [
    "df.groupby(by='fiscal_year').total_ot_paid.mean()"
   ]
  },
  {
   "cell_type": "code",
   "execution_count": null,
   "id": "3add03a5",
   "metadata": {},
   "outputs": [],
   "source": [
    "df.groupby(by='agency_name').total_ot_paid.sum().head(10).plot(kind='barh')"
   ]
  },
  {
   "cell_type": "code",
   "execution_count": null,
   "id": "0575e739",
   "metadata": {},
   "outputs": [],
   "source": [
    "df.groupby(by='agency_name').total_ot_paid.sum().reset_index().sort_values(by='total_ot_paid', ascending = False).head(5)"
   ]
  },
  {
   "cell_type": "code",
   "execution_count": null,
   "id": "0b92fbc8",
   "metadata": {},
   "outputs": [],
   "source": [
    "# pd.set_option('display.max_rows', None)\n",
    "df.groupby(by='agency_name').total_ot_paid.sum().reset_index().sort_values(by='total_ot_paid', ascending = False)"
   ]
  },
  {
   "cell_type": "code",
   "execution_count": null,
   "id": "7147a8f0",
   "metadata": {},
   "outputs": [],
   "source": [
    "df.groupby(by='agency_name').total_ot_paid.sum().reset_index().sort_values(by='total_ot_paid', ascending = False).head(5)"
   ]
  },
  {
   "cell_type": "code",
   "execution_count": null,
   "id": "2294e5bb",
   "metadata": {},
   "outputs": [],
   "source": [
    "df.query('agency_name == \"NYC HOUSING AUTHORITY\"')"
   ]
  },
  {
   "cell_type": "code",
   "execution_count": null,
   "id": "05296755",
   "metadata": {},
   "outputs": [],
   "source": []
  }
 ],
 "metadata": {
  "kernelspec": {
   "display_name": "Python 3 (ipykernel)",
   "language": "python",
   "name": "python3"
  },
  "language_info": {
   "codemirror_mode": {
    "name": "ipython",
    "version": 3
   },
   "file_extension": ".py",
   "mimetype": "text/x-python",
   "name": "python",
   "nbconvert_exporter": "python",
   "pygments_lexer": "ipython3",
   "version": "3.10.0"
  }
 },
 "nbformat": 4,
 "nbformat_minor": 5
}
