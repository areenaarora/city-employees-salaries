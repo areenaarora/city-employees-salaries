{
 "cells": [
  {
   "cell_type": "markdown",
   "id": "17815941",
   "metadata": {},
   "source": [
    "# Analyzing New York City employees' payroll database "
   ]
  },
  {
   "cell_type": "markdown",
   "id": "1a86c451",
   "metadata": {},
   "source": [
    "## Data Source: [NYC open data](https://data.cityofnewyork.us/City-Government/Citywide-Payroll-Data-Fiscal-Year-/k397-673e/data)"
   ]
  },
  {
   "cell_type": "code",
   "execution_count": 1,
   "id": "b600e9c9",
   "metadata": {},
   "outputs": [
    {
     "name": "stderr",
     "output_type": "stream",
     "text": [
      "/Users/areena.arora/.pyenv/versions/3.10.0/lib/python3.10/site-packages/pandas/compat/__init__.py:124: UserWarning: Could not import the lzma module. Your installed Python is incomplete. Attempting to use lzma compression will result in a RuntimeError.\n",
      "  warnings.warn(msg)\n"
     ]
    }
   ],
   "source": [
    "import pandas as pd\n",
    "df = pd.read_csv('Citywide_Payroll_Data__Fiscal_Year_.csv')\n",
    "df.columns = df.columns.str.replace(\" \", \"_\")\n",
    "df.columns = df.columns.str.replace(\"-\", \"_\")\n",
    "df.columns = df.columns.str.lower()\n",
    "# pd.set_option('display.max_rows', None)\n",
    "pd.set_option('display.max_columns', None)\n",
    "pd.options.display.float_format = '{:,.2f}'.format"
   ]
  },
  {
   "cell_type": "code",
   "execution_count": 2,
   "id": "92044cd1",
   "metadata": {},
   "outputs": [
    {
     "data": {
      "text/plain": [
       "(2864545, 17)"
      ]
     },
     "execution_count": 2,
     "metadata": {},
     "output_type": "execute_result"
    }
   ],
   "source": [
    "df.shape"
   ]
  },
  {
   "cell_type": "markdown",
   "id": "219f2424",
   "metadata": {},
   "source": [
    "Previous versions of the dataset didn't import all the years correctly, so I'll do these sanity checks a couple of times"
   ]
  },
  {
   "cell_type": "code",
   "execution_count": 3,
   "id": "97416f0f",
   "metadata": {},
   "outputs": [
    {
     "data": {
      "text/plain": [
       "2019    592431\n",
       "2020    590210\n",
       "2021    573477\n",
       "2017    562266\n",
       "2018    546161\n",
       "Name: fiscal_year, dtype: int64"
      ]
     },
     "execution_count": 3,
     "metadata": {},
     "output_type": "execute_result"
    }
   ],
   "source": [
    "df.fiscal_year.value_counts()"
   ]
  },
  {
   "cell_type": "markdown",
   "id": "d989a3de",
   "metadata": {},
   "source": [
    "#### Cleaning the data\n",
    "\n",
    "The database includes people whose work locations are outside of NYC. For this analyses, I'm only including employees with work locations in NYC boroughs. Since Staten Island wasn't listed (unless included in the \"other\" location, this is filtered down to Queens, Manhattan, Bronx and Brooklyn."
   ]
  },
  {
   "cell_type": "code",
   "execution_count": 4,
   "id": "326687ec",
   "metadata": {},
   "outputs": [],
   "source": [
    "boroughs = ['QUEENS', 'MANHATTAN', 'BROOKLYN', 'BRONX']"
   ]
  },
  {
   "cell_type": "code",
   "execution_count": 5,
   "id": "749c9127",
   "metadata": {},
   "outputs": [],
   "source": [
    "df = df[df.work_location_borough.isin(boroughs)]"
   ]
  },
  {
   "cell_type": "code",
   "execution_count": 6,
   "id": "b615c747",
   "metadata": {},
   "outputs": [
    {
     "data": {
      "text/plain": [
       "(2760682, 17)"
      ]
     },
     "execution_count": 6,
     "metadata": {},
     "output_type": "execute_result"
    }
   ],
   "source": [
    "df.shape"
   ]
  },
  {
   "cell_type": "markdown",
   "id": "0690b659",
   "metadata": {},
   "source": [
    "Note: This reduced the dataset by 103,863 rows."
   ]
  },
  {
   "cell_type": "code",
   "execution_count": 7,
   "id": "707a70f1",
   "metadata": {},
   "outputs": [],
   "source": [
    "df['total_pay'] = df.regular_gross_paid + df.total_ot_paid + df.total_other_pay"
   ]
  },
  {
   "cell_type": "code",
   "execution_count": 8,
   "id": "57496a91",
   "metadata": {},
   "outputs": [
    {
     "data": {
      "text/html": [
       "<div>\n",
       "<style scoped>\n",
       "    .dataframe tbody tr th:only-of-type {\n",
       "        vertical-align: middle;\n",
       "    }\n",
       "\n",
       "    .dataframe tbody tr th {\n",
       "        vertical-align: top;\n",
       "    }\n",
       "\n",
       "    .dataframe thead th {\n",
       "        text-align: right;\n",
       "    }\n",
       "</style>\n",
       "<table border=\"1\" class=\"dataframe\">\n",
       "  <thead>\n",
       "    <tr style=\"text-align: right;\">\n",
       "      <th></th>\n",
       "      <th>fiscal_year</th>\n",
       "      <th>payroll_number</th>\n",
       "      <th>agency_name</th>\n",
       "      <th>last_name</th>\n",
       "      <th>first_name</th>\n",
       "      <th>mid_init</th>\n",
       "      <th>agency_start_date</th>\n",
       "      <th>work_location_borough</th>\n",
       "      <th>title_description</th>\n",
       "      <th>leave_status_as_of_june_30</th>\n",
       "      <th>base_salary</th>\n",
       "      <th>pay_basis</th>\n",
       "      <th>regular_hours</th>\n",
       "      <th>regular_gross_paid</th>\n",
       "      <th>ot_hours</th>\n",
       "      <th>total_ot_paid</th>\n",
       "      <th>total_other_pay</th>\n",
       "      <th>total_pay</th>\n",
       "    </tr>\n",
       "  </thead>\n",
       "  <tbody>\n",
       "    <tr>\n",
       "      <th>1705625</th>\n",
       "      <td>2020</td>\n",
       "      <td>56.00</td>\n",
       "      <td>POLICE DEPARTMENT</td>\n",
       "      <td>MORALES</td>\n",
       "      <td>JOSE</td>\n",
       "      <td>NaN</td>\n",
       "      <td>12/20/1998</td>\n",
       "      <td>MANHATTAN</td>\n",
       "      <td>SUPERVISOR OF SCHOOL SECURITY</td>\n",
       "      <td>CEASED</td>\n",
       "      <td>57,813.00</td>\n",
       "      <td>per Annum</td>\n",
       "      <td>0.00</td>\n",
       "      <td>0.00</td>\n",
       "      <td>0.00</td>\n",
       "      <td>0.00</td>\n",
       "      <td>650,000.00</td>\n",
       "      <td>650,000.00</td>\n",
       "    </tr>\n",
       "    <tr>\n",
       "      <th>979064</th>\n",
       "      <td>2018</td>\n",
       "      <td>826.00</td>\n",
       "      <td>DEPT OF ENVIRONMENT PROTECTION</td>\n",
       "      <td>LAUDANDO</td>\n",
       "      <td>CHRISTOPHER</td>\n",
       "      <td>NaN</td>\n",
       "      <td>04/26/1993</td>\n",
       "      <td>BROOKLYN</td>\n",
       "      <td>SENIOR STATIONARY ENGINEER</td>\n",
       "      <td>ACTIVE</td>\n",
       "      <td>575.52</td>\n",
       "      <td>per Day</td>\n",
       "      <td>2,045.72</td>\n",
       "      <td>362,522.47</td>\n",
       "      <td>767.50</td>\n",
       "      <td>153,226.04</td>\n",
       "      <td>563.00</td>\n",
       "      <td>516,311.51</td>\n",
       "    </tr>\n",
       "    <tr>\n",
       "      <th>2291068</th>\n",
       "      <td>2021</td>\n",
       "      <td>996.00</td>\n",
       "      <td>NYC HOUSING AUTHORITY</td>\n",
       "      <td>MUSTACIUOLO</td>\n",
       "      <td>VITO</td>\n",
       "      <td>J</td>\n",
       "      <td>02/26/2018</td>\n",
       "      <td>MANHATTAN</td>\n",
       "      <td>EXECUTIVE DIRECTOR</td>\n",
       "      <td>ACTIVE</td>\n",
       "      <td>258,000.00</td>\n",
       "      <td>per Annum</td>\n",
       "      <td>1,820.00</td>\n",
       "      <td>257,260.30</td>\n",
       "      <td>0.00</td>\n",
       "      <td>0.00</td>\n",
       "      <td>258,000.00</td>\n",
       "      <td>515,260.30</td>\n",
       "    </tr>\n",
       "    <tr>\n",
       "      <th>979061</th>\n",
       "      <td>2018</td>\n",
       "      <td>826.00</td>\n",
       "      <td>DEPT OF ENVIRONMENT PROTECTION</td>\n",
       "      <td>BUI</td>\n",
       "      <td>HUU</td>\n",
       "      <td>NaN</td>\n",
       "      <td>04/26/1993</td>\n",
       "      <td>BRONX</td>\n",
       "      <td>STATIONARY ENGINEER</td>\n",
       "      <td>ACTIVE</td>\n",
       "      <td>467.20</td>\n",
       "      <td>per Day</td>\n",
       "      <td>2,085.72</td>\n",
       "      <td>265,284.18</td>\n",
       "      <td>1,380.00</td>\n",
       "      <td>182,178.73</td>\n",
       "      <td>60,347.27</td>\n",
       "      <td>507,810.18</td>\n",
       "    </tr>\n",
       "    <tr>\n",
       "      <th>1117631</th>\n",
       "      <td>2019</td>\n",
       "      <td>57.00</td>\n",
       "      <td>FIRE DEPARTMENT</td>\n",
       "      <td>PHILLIPS</td>\n",
       "      <td>LYNDELLE</td>\n",
       "      <td>T</td>\n",
       "      <td>06/05/2006</td>\n",
       "      <td>BROOKLYN</td>\n",
       "      <td>ADMINISTRATIVE STAFF ANALYST</td>\n",
       "      <td>CEASED</td>\n",
       "      <td>129,611.00</td>\n",
       "      <td>per Annum</td>\n",
       "      <td>140.00</td>\n",
       "      <td>500,000.00</td>\n",
       "      <td>0.00</td>\n",
       "      <td>0.00</td>\n",
       "      <td>0.00</td>\n",
       "      <td>500,000.00</td>\n",
       "    </tr>\n",
       "    <tr>\n",
       "      <th>979062</th>\n",
       "      <td>2018</td>\n",
       "      <td>826.00</td>\n",
       "      <td>DEPT OF ENVIRONMENT PROTECTION</td>\n",
       "      <td>GIOVANNIELLO</td>\n",
       "      <td>FRANK</td>\n",
       "      <td>J</td>\n",
       "      <td>06/06/1994</td>\n",
       "      <td>QUEENS</td>\n",
       "      <td>STATIONARY ENGINEER</td>\n",
       "      <td>ACTIVE</td>\n",
       "      <td>467.20</td>\n",
       "      <td>per Day</td>\n",
       "      <td>2,085.72</td>\n",
       "      <td>264,925.47</td>\n",
       "      <td>1,016.50</td>\n",
       "      <td>178,476.58</td>\n",
       "      <td>50,899.01</td>\n",
       "      <td>494,301.06</td>\n",
       "    </tr>\n",
       "    <tr>\n",
       "      <th>979073</th>\n",
       "      <td>2018</td>\n",
       "      <td>826.00</td>\n",
       "      <td>DEPT OF ENVIRONMENT PROTECTION</td>\n",
       "      <td>ANDERSON</td>\n",
       "      <td>COURTNAY</td>\n",
       "      <td>D</td>\n",
       "      <td>02/24/1986</td>\n",
       "      <td>QUEENS</td>\n",
       "      <td>SENIOR STATIONARY ENGINEER</td>\n",
       "      <td>ACTIVE</td>\n",
       "      <td>575.52</td>\n",
       "      <td>per Day</td>\n",
       "      <td>2,045.72</td>\n",
       "      <td>357,426.59</td>\n",
       "      <td>546.50</td>\n",
       "      <td>134,050.29</td>\n",
       "      <td>563.00</td>\n",
       "      <td>492,039.88</td>\n",
       "    </tr>\n",
       "    <tr>\n",
       "      <th>979077</th>\n",
       "      <td>2018</td>\n",
       "      <td>826.00</td>\n",
       "      <td>DEPT OF ENVIRONMENT PROTECTION</td>\n",
       "      <td>ALI</td>\n",
       "      <td>ZAINOOL</td>\n",
       "      <td>NaN</td>\n",
       "      <td>12/02/1996</td>\n",
       "      <td>BROOKLYN</td>\n",
       "      <td>SENIOR STATIONARY ENGINEER</td>\n",
       "      <td>ACTIVE</td>\n",
       "      <td>575.52</td>\n",
       "      <td>per Day</td>\n",
       "      <td>2,045.72</td>\n",
       "      <td>348,668.06</td>\n",
       "      <td>536.75</td>\n",
       "      <td>129,141.26</td>\n",
       "      <td>563.00</td>\n",
       "      <td>478,372.32</td>\n",
       "    </tr>\n",
       "    <tr>\n",
       "      <th>979079</th>\n",
       "      <td>2018</td>\n",
       "      <td>826.00</td>\n",
       "      <td>DEPT OF ENVIRONMENT PROTECTION</td>\n",
       "      <td>KITTEL</td>\n",
       "      <td>ANDREW</td>\n",
       "      <td>M</td>\n",
       "      <td>03/05/1990</td>\n",
       "      <td>BROOKLYN</td>\n",
       "      <td>SENIOR STATIONARY ENGINEER</td>\n",
       "      <td>ACTIVE</td>\n",
       "      <td>575.52</td>\n",
       "      <td>per Day</td>\n",
       "      <td>2,007.72</td>\n",
       "      <td>352,014.45</td>\n",
       "      <td>529.25</td>\n",
       "      <td>123,602.33</td>\n",
       "      <td>563.00</td>\n",
       "      <td>476,179.78</td>\n",
       "    </tr>\n",
       "    <tr>\n",
       "      <th>979065</th>\n",
       "      <td>2018</td>\n",
       "      <td>826.00</td>\n",
       "      <td>DEPT OF ENVIRONMENT PROTECTION</td>\n",
       "      <td>PASTORE</td>\n",
       "      <td>DANIEL</td>\n",
       "      <td>NaN</td>\n",
       "      <td>03/21/1988</td>\n",
       "      <td>MANHATTAN</td>\n",
       "      <td>STATIONARY ENGINEER</td>\n",
       "      <td>ACTIVE</td>\n",
       "      <td>467.20</td>\n",
       "      <td>per Day</td>\n",
       "      <td>2,085.72</td>\n",
       "      <td>263,164.37</td>\n",
       "      <td>849.75</td>\n",
       "      <td>148,809.87</td>\n",
       "      <td>53,345.91</td>\n",
       "      <td>465,320.15</td>\n",
       "    </tr>\n",
       "  </tbody>\n",
       "</table>\n",
       "</div>"
      ],
      "text/plain": [
       "         fiscal_year  payroll_number                     agency_name  \\\n",
       "1705625         2020           56.00               POLICE DEPARTMENT   \n",
       "979064          2018          826.00  DEPT OF ENVIRONMENT PROTECTION   \n",
       "2291068         2021          996.00           NYC HOUSING AUTHORITY   \n",
       "979061          2018          826.00  DEPT OF ENVIRONMENT PROTECTION   \n",
       "1117631         2019           57.00                 FIRE DEPARTMENT   \n",
       "979062          2018          826.00  DEPT OF ENVIRONMENT PROTECTION   \n",
       "979073          2018          826.00  DEPT OF ENVIRONMENT PROTECTION   \n",
       "979077          2018          826.00  DEPT OF ENVIRONMENT PROTECTION   \n",
       "979079          2018          826.00  DEPT OF ENVIRONMENT PROTECTION   \n",
       "979065          2018          826.00  DEPT OF ENVIRONMENT PROTECTION   \n",
       "\n",
       "            last_name   first_name mid_init agency_start_date  \\\n",
       "1705625       MORALES         JOSE      NaN        12/20/1998   \n",
       "979064       LAUDANDO  CHRISTOPHER      NaN        04/26/1993   \n",
       "2291068   MUSTACIUOLO         VITO        J        02/26/2018   \n",
       "979061            BUI          HUU      NaN        04/26/1993   \n",
       "1117631      PHILLIPS     LYNDELLE        T        06/05/2006   \n",
       "979062   GIOVANNIELLO        FRANK        J        06/06/1994   \n",
       "979073       ANDERSON     COURTNAY        D        02/24/1986   \n",
       "979077            ALI      ZAINOOL      NaN        12/02/1996   \n",
       "979079         KITTEL       ANDREW        M        03/05/1990   \n",
       "979065        PASTORE       DANIEL      NaN        03/21/1988   \n",
       "\n",
       "        work_location_borough              title_description  \\\n",
       "1705625             MANHATTAN  SUPERVISOR OF SCHOOL SECURITY   \n",
       "979064               BROOKLYN     SENIOR STATIONARY ENGINEER   \n",
       "2291068             MANHATTAN             EXECUTIVE DIRECTOR   \n",
       "979061                  BRONX            STATIONARY ENGINEER   \n",
       "1117631              BROOKLYN   ADMINISTRATIVE STAFF ANALYST   \n",
       "979062                 QUEENS            STATIONARY ENGINEER   \n",
       "979073                 QUEENS     SENIOR STATIONARY ENGINEER   \n",
       "979077               BROOKLYN     SENIOR STATIONARY ENGINEER   \n",
       "979079               BROOKLYN     SENIOR STATIONARY ENGINEER   \n",
       "979065              MANHATTAN            STATIONARY ENGINEER   \n",
       "\n",
       "        leave_status_as_of_june_30  base_salary  pay_basis  regular_hours  \\\n",
       "1705625                     CEASED    57,813.00  per Annum           0.00   \n",
       "979064                      ACTIVE       575.52    per Day       2,045.72   \n",
       "2291068                     ACTIVE   258,000.00  per Annum       1,820.00   \n",
       "979061                      ACTIVE       467.20    per Day       2,085.72   \n",
       "1117631                     CEASED   129,611.00  per Annum         140.00   \n",
       "979062                      ACTIVE       467.20    per Day       2,085.72   \n",
       "979073                      ACTIVE       575.52    per Day       2,045.72   \n",
       "979077                      ACTIVE       575.52    per Day       2,045.72   \n",
       "979079                      ACTIVE       575.52    per Day       2,007.72   \n",
       "979065                      ACTIVE       467.20    per Day       2,085.72   \n",
       "\n",
       "         regular_gross_paid  ot_hours  total_ot_paid  total_other_pay  \\\n",
       "1705625                0.00      0.00           0.00       650,000.00   \n",
       "979064           362,522.47    767.50     153,226.04           563.00   \n",
       "2291068          257,260.30      0.00           0.00       258,000.00   \n",
       "979061           265,284.18  1,380.00     182,178.73        60,347.27   \n",
       "1117631          500,000.00      0.00           0.00             0.00   \n",
       "979062           264,925.47  1,016.50     178,476.58        50,899.01   \n",
       "979073           357,426.59    546.50     134,050.29           563.00   \n",
       "979077           348,668.06    536.75     129,141.26           563.00   \n",
       "979079           352,014.45    529.25     123,602.33           563.00   \n",
       "979065           263,164.37    849.75     148,809.87        53,345.91   \n",
       "\n",
       "         total_pay  \n",
       "1705625 650,000.00  \n",
       "979064  516,311.51  \n",
       "2291068 515,260.30  \n",
       "979061  507,810.18  \n",
       "1117631 500,000.00  \n",
       "979062  494,301.06  \n",
       "979073  492,039.88  \n",
       "979077  478,372.32  \n",
       "979079  476,179.78  \n",
       "979065  465,320.15  "
      ]
     },
     "execution_count": 8,
     "metadata": {},
     "output_type": "execute_result"
    }
   ],
   "source": [
    "df.sort_values(by='total_pay', ascending = False).head(10)"
   ]
  },
  {
   "cell_type": "code",
   "execution_count": 9,
   "id": "0616398e",
   "metadata": {},
   "outputs": [
    {
     "data": {
      "text/plain": [
       "650000.0"
      ]
     },
     "execution_count": 9,
     "metadata": {},
     "output_type": "execute_result"
    }
   ],
   "source": [
    "df.total_pay.max()"
   ]
  },
  {
   "cell_type": "code",
   "execution_count": 10,
   "id": "4b9b1bf9",
   "metadata": {},
   "outputs": [
    {
     "data": {
      "text/plain": [
       "-137960.51"
      ]
     },
     "execution_count": 10,
     "metadata": {},
     "output_type": "execute_result"
    }
   ],
   "source": [
    "df.total_pay.min()"
   ]
  },
  {
   "cell_type": "markdown",
   "id": "a47cdcfd",
   "metadata": {},
   "source": [
    "### Ignoring the negatives. Assuming this is people who owe money to the city. The dataset alone cannot answer this so leaving this to reporting"
   ]
  },
  {
   "cell_type": "markdown",
   "id": "6200a2b8",
   "metadata": {},
   "source": [
    "### Interesting to see Jose Morales made $650K in 2020 and is no longer on city payroll"
   ]
  },
  {
   "cell_type": "code",
   "execution_count": 11,
   "id": "9a05ee79",
   "metadata": {},
   "outputs": [
    {
     "data": {
      "text/html": [
       "<div>\n",
       "<style scoped>\n",
       "    .dataframe tbody tr th:only-of-type {\n",
       "        vertical-align: middle;\n",
       "    }\n",
       "\n",
       "    .dataframe tbody tr th {\n",
       "        vertical-align: top;\n",
       "    }\n",
       "\n",
       "    .dataframe thead th {\n",
       "        text-align: right;\n",
       "    }\n",
       "</style>\n",
       "<table border=\"1\" class=\"dataframe\">\n",
       "  <thead>\n",
       "    <tr style=\"text-align: right;\">\n",
       "      <th></th>\n",
       "      <th>fiscal_year</th>\n",
       "      <th>payroll_number</th>\n",
       "      <th>agency_name</th>\n",
       "      <th>last_name</th>\n",
       "      <th>first_name</th>\n",
       "      <th>mid_init</th>\n",
       "      <th>agency_start_date</th>\n",
       "      <th>work_location_borough</th>\n",
       "      <th>title_description</th>\n",
       "      <th>leave_status_as_of_june_30</th>\n",
       "      <th>base_salary</th>\n",
       "      <th>pay_basis</th>\n",
       "      <th>regular_hours</th>\n",
       "      <th>regular_gross_paid</th>\n",
       "      <th>ot_hours</th>\n",
       "      <th>total_ot_paid</th>\n",
       "      <th>total_other_pay</th>\n",
       "      <th>total_pay</th>\n",
       "    </tr>\n",
       "  </thead>\n",
       "  <tbody>\n",
       "    <tr>\n",
       "      <th>1705625</th>\n",
       "      <td>2020</td>\n",
       "      <td>56.00</td>\n",
       "      <td>POLICE DEPARTMENT</td>\n",
       "      <td>MORALES</td>\n",
       "      <td>JOSE</td>\n",
       "      <td>NaN</td>\n",
       "      <td>12/20/1998</td>\n",
       "      <td>MANHATTAN</td>\n",
       "      <td>SUPERVISOR OF SCHOOL SECURITY</td>\n",
       "      <td>CEASED</td>\n",
       "      <td>57,813.00</td>\n",
       "      <td>per Annum</td>\n",
       "      <td>0.00</td>\n",
       "      <td>0.00</td>\n",
       "      <td>0.00</td>\n",
       "      <td>0.00</td>\n",
       "      <td>650,000.00</td>\n",
       "      <td>650,000.00</td>\n",
       "    </tr>\n",
       "  </tbody>\n",
       "</table>\n",
       "</div>"
      ],
      "text/plain": [
       "         fiscal_year  payroll_number        agency_name last_name first_name  \\\n",
       "1705625         2020           56.00  POLICE DEPARTMENT   MORALES       JOSE   \n",
       "\n",
       "        mid_init agency_start_date work_location_borough  \\\n",
       "1705625      NaN        12/20/1998             MANHATTAN   \n",
       "\n",
       "                     title_description leave_status_as_of_june_30  \\\n",
       "1705625  SUPERVISOR OF SCHOOL SECURITY                     CEASED   \n",
       "\n",
       "         base_salary  pay_basis  regular_hours  regular_gross_paid  ot_hours  \\\n",
       "1705625    57,813.00  per Annum           0.00                0.00      0.00   \n",
       "\n",
       "         total_ot_paid  total_other_pay  total_pay  \n",
       "1705625           0.00       650,000.00 650,000.00  "
      ]
     },
     "execution_count": 11,
     "metadata": {},
     "output_type": "execute_result"
    }
   ],
   "source": [
    "df.query('last_name == \"MORALES\"').query('first_name == \"JOSE\"').query('agency_name == \"POLICE DEPARTMENT\"').query('agency_start_date == \"12/20/1998\"')"
   ]
  },
  {
   "cell_type": "markdown",
   "id": "354b7487",
   "metadata": {},
   "source": [
    "### Let's dive into overtime now :') !"
   ]
  },
  {
   "cell_type": "code",
   "execution_count": 12,
   "id": "fe509db3",
   "metadata": {},
   "outputs": [
    {
     "data": {
      "text/html": [
       "<div>\n",
       "<style scoped>\n",
       "    .dataframe tbody tr th:only-of-type {\n",
       "        vertical-align: middle;\n",
       "    }\n",
       "\n",
       "    .dataframe tbody tr th {\n",
       "        vertical-align: top;\n",
       "    }\n",
       "\n",
       "    .dataframe thead th {\n",
       "        text-align: right;\n",
       "    }\n",
       "</style>\n",
       "<table border=\"1\" class=\"dataframe\">\n",
       "  <thead>\n",
       "    <tr style=\"text-align: right;\">\n",
       "      <th></th>\n",
       "      <th>fiscal_year</th>\n",
       "      <th>payroll_number</th>\n",
       "      <th>agency_name</th>\n",
       "      <th>last_name</th>\n",
       "      <th>first_name</th>\n",
       "      <th>mid_init</th>\n",
       "      <th>agency_start_date</th>\n",
       "      <th>work_location_borough</th>\n",
       "      <th>title_description</th>\n",
       "      <th>leave_status_as_of_june_30</th>\n",
       "      <th>base_salary</th>\n",
       "      <th>pay_basis</th>\n",
       "      <th>regular_hours</th>\n",
       "      <th>regular_gross_paid</th>\n",
       "      <th>ot_hours</th>\n",
       "      <th>total_ot_paid</th>\n",
       "      <th>total_other_pay</th>\n",
       "      <th>total_pay</th>\n",
       "    </tr>\n",
       "  </thead>\n",
       "  <tbody>\n",
       "    <tr>\n",
       "      <th>2291076</th>\n",
       "      <td>2021</td>\n",
       "      <td>996.00</td>\n",
       "      <td>NYC HOUSING AUTHORITY</td>\n",
       "      <td>PROCIDA</td>\n",
       "      <td>ROBERT</td>\n",
       "      <td>NaN</td>\n",
       "      <td>04/13/1987</td>\n",
       "      <td>BRONX</td>\n",
       "      <td>SUPERVISOR PLUMBER</td>\n",
       "      <td>ACTIVE</td>\n",
       "      <td>387.03</td>\n",
       "      <td>per Day</td>\n",
       "      <td>1,820.00</td>\n",
       "      <td>100,627.80</td>\n",
       "      <td>2,249.50</td>\n",
       "      <td>248,749.72</td>\n",
       "      <td>7,215.34</td>\n",
       "      <td>356,592.86</td>\n",
       "    </tr>\n",
       "    <tr>\n",
       "      <th>2291070</th>\n",
       "      <td>2021</td>\n",
       "      <td>816.00</td>\n",
       "      <td>DEPT OF HEALTH/MENTAL HYGIENE</td>\n",
       "      <td>MCGROARTY</td>\n",
       "      <td>MICHAEL</td>\n",
       "      <td>NaN</td>\n",
       "      <td>10/06/2014</td>\n",
       "      <td>QUEENS</td>\n",
       "      <td>STATIONARY ENGINEER</td>\n",
       "      <td>ACTIVE</td>\n",
       "      <td>508.80</td>\n",
       "      <td>per Day</td>\n",
       "      <td>2,080.00</td>\n",
       "      <td>132,288.00</td>\n",
       "      <td>2,374.75</td>\n",
       "      <td>238,829.13</td>\n",
       "      <td>40,105.00</td>\n",
       "      <td>411,222.13</td>\n",
       "    </tr>\n",
       "    <tr>\n",
       "      <th>2291085</th>\n",
       "      <td>2021</td>\n",
       "      <td>996.00</td>\n",
       "      <td>NYC HOUSING AUTHORITY</td>\n",
       "      <td>MARKOWSKI</td>\n",
       "      <td>JAKUB</td>\n",
       "      <td>NaN</td>\n",
       "      <td>05/31/2016</td>\n",
       "      <td>BRONX</td>\n",
       "      <td>PLUMBER</td>\n",
       "      <td>ACTIVE</td>\n",
       "      <td>369.53</td>\n",
       "      <td>per Day</td>\n",
       "      <td>1,820.00</td>\n",
       "      <td>96,077.80</td>\n",
       "      <td>2,119.50</td>\n",
       "      <td>223,776.86</td>\n",
       "      <td>5,899.29</td>\n",
       "      <td>325,753.95</td>\n",
       "    </tr>\n",
       "    <tr>\n",
       "      <th>2291072</th>\n",
       "      <td>2021</td>\n",
       "      <td>816.00</td>\n",
       "      <td>DEPT OF HEALTH/MENTAL HYGIENE</td>\n",
       "      <td>PETTIT</td>\n",
       "      <td>PATRICK</td>\n",
       "      <td>J</td>\n",
       "      <td>08/02/2010</td>\n",
       "      <td>MANHATTAN</td>\n",
       "      <td>STATIONARY ENGINEER</td>\n",
       "      <td>ACTIVE</td>\n",
       "      <td>508.80</td>\n",
       "      <td>per Day</td>\n",
       "      <td>2,080.00</td>\n",
       "      <td>132,288.00</td>\n",
       "      <td>2,152.75</td>\n",
       "      <td>218,694.96</td>\n",
       "      <td>38,611.82</td>\n",
       "      <td>389,594.78</td>\n",
       "    </tr>\n",
       "    <tr>\n",
       "      <th>2291071</th>\n",
       "      <td>2021</td>\n",
       "      <td>816.00</td>\n",
       "      <td>DEPT OF HEALTH/MENTAL HYGIENE</td>\n",
       "      <td>HALLAHAN</td>\n",
       "      <td>PATRICK</td>\n",
       "      <td>M</td>\n",
       "      <td>02/26/2018</td>\n",
       "      <td>BROOKLYN</td>\n",
       "      <td>STATIONARY ENGINEER</td>\n",
       "      <td>ACTIVE</td>\n",
       "      <td>508.80</td>\n",
       "      <td>per Day</td>\n",
       "      <td>2,080.00</td>\n",
       "      <td>132,288.00</td>\n",
       "      <td>2,115.25</td>\n",
       "      <td>218,628.18</td>\n",
       "      <td>56,616.07</td>\n",
       "      <td>407,532.25</td>\n",
       "    </tr>\n",
       "    <tr>\n",
       "      <th>2291081</th>\n",
       "      <td>2021</td>\n",
       "      <td>3.00</td>\n",
       "      <td>BOARD OF ELECTION</td>\n",
       "      <td>ORTIZ, JR</td>\n",
       "      <td>ANTONIO</td>\n",
       "      <td>NaN</td>\n",
       "      <td>08/27/1995</td>\n",
       "      <td>MANHATTAN</td>\n",
       "      <td>SENIOR SYSTEMS ANALYSTS</td>\n",
       "      <td>ACTIVE</td>\n",
       "      <td>117,003.00</td>\n",
       "      <td>per Annum</td>\n",
       "      <td>1,820.00</td>\n",
       "      <td>116,673.77</td>\n",
       "      <td>2,461.25</td>\n",
       "      <td>217,915.94</td>\n",
       "      <td>2,974.95</td>\n",
       "      <td>337,564.66</td>\n",
       "    </tr>\n",
       "    <tr>\n",
       "      <th>2234227</th>\n",
       "      <td>2020</td>\n",
       "      <td>996.00</td>\n",
       "      <td>NYC HOUSING AUTHORITY</td>\n",
       "      <td>PROCIDA</td>\n",
       "      <td>ROBERT</td>\n",
       "      <td>NaN</td>\n",
       "      <td>04/13/1987</td>\n",
       "      <td>BRONX</td>\n",
       "      <td>SUPERVISOR PLUMBER</td>\n",
       "      <td>ACTIVE</td>\n",
       "      <td>387.03</td>\n",
       "      <td>per Day</td>\n",
       "      <td>1,820.00</td>\n",
       "      <td>100,627.80</td>\n",
       "      <td>1,944.50</td>\n",
       "      <td>215,022.81</td>\n",
       "      <td>6,468.93</td>\n",
       "      <td>322,119.54</td>\n",
       "    </tr>\n",
       "    <tr>\n",
       "      <th>2234228</th>\n",
       "      <td>2020</td>\n",
       "      <td>996.00</td>\n",
       "      <td>NYC HOUSING AUTHORITY</td>\n",
       "      <td>ORTIZ</td>\n",
       "      <td>JOSE</td>\n",
       "      <td>NaN</td>\n",
       "      <td>11/27/1989</td>\n",
       "      <td>QUEENS</td>\n",
       "      <td>SUPERVISOR PLUMBER</td>\n",
       "      <td>ACTIVE</td>\n",
       "      <td>387.03</td>\n",
       "      <td>per Day</td>\n",
       "      <td>1,820.00</td>\n",
       "      <td>100,627.80</td>\n",
       "      <td>1,937.50</td>\n",
       "      <td>214,248.85</td>\n",
       "      <td>5,860.74</td>\n",
       "      <td>320,737.39</td>\n",
       "    </tr>\n",
       "    <tr>\n",
       "      <th>1069369</th>\n",
       "      <td>2018</td>\n",
       "      <td>996.00</td>\n",
       "      <td>NYC HOUSING AUTHORITY</td>\n",
       "      <td>GIURBINO</td>\n",
       "      <td>VINCENZO</td>\n",
       "      <td>NaN</td>\n",
       "      <td>04/28/2003</td>\n",
       "      <td>BROOKLYN</td>\n",
       "      <td>PLUMBER</td>\n",
       "      <td>ACTIVE</td>\n",
       "      <td>361.48</td>\n",
       "      <td>per Day</td>\n",
       "      <td>1,825.00</td>\n",
       "      <td>93,984.80</td>\n",
       "      <td>2,043.00</td>\n",
       "      <td>213,634.68</td>\n",
       "      <td>7,539.44</td>\n",
       "      <td>315,158.92</td>\n",
       "    </tr>\n",
       "    <tr>\n",
       "      <th>2291078</th>\n",
       "      <td>2021</td>\n",
       "      <td>996.00</td>\n",
       "      <td>NYC HOUSING AUTHORITY</td>\n",
       "      <td>DALEY</td>\n",
       "      <td>GARFIELD</td>\n",
       "      <td>D</td>\n",
       "      <td>05/24/1994</td>\n",
       "      <td>BRONX</td>\n",
       "      <td>SUPERVISOR ELECTRICIAN</td>\n",
       "      <td>ACTIVE</td>\n",
       "      <td>460.25</td>\n",
       "      <td>per Day</td>\n",
       "      <td>1,820.00</td>\n",
       "      <td>119,469.25</td>\n",
       "      <td>2,032.50</td>\n",
       "      <td>200,038.56</td>\n",
       "      <td>28,316.97</td>\n",
       "      <td>347,824.78</td>\n",
       "    </tr>\n",
       "  </tbody>\n",
       "</table>\n",
       "</div>"
      ],
      "text/plain": [
       "         fiscal_year  payroll_number                    agency_name  \\\n",
       "2291076         2021          996.00          NYC HOUSING AUTHORITY   \n",
       "2291070         2021          816.00  DEPT OF HEALTH/MENTAL HYGIENE   \n",
       "2291085         2021          996.00          NYC HOUSING AUTHORITY   \n",
       "2291072         2021          816.00  DEPT OF HEALTH/MENTAL HYGIENE   \n",
       "2291071         2021          816.00  DEPT OF HEALTH/MENTAL HYGIENE   \n",
       "2291081         2021            3.00              BOARD OF ELECTION   \n",
       "2234227         2020          996.00          NYC HOUSING AUTHORITY   \n",
       "2234228         2020          996.00          NYC HOUSING AUTHORITY   \n",
       "1069369         2018          996.00          NYC HOUSING AUTHORITY   \n",
       "2291078         2021          996.00          NYC HOUSING AUTHORITY   \n",
       "\n",
       "         last_name first_name mid_init agency_start_date  \\\n",
       "2291076    PROCIDA     ROBERT      NaN        04/13/1987   \n",
       "2291070  MCGROARTY    MICHAEL      NaN        10/06/2014   \n",
       "2291085  MARKOWSKI      JAKUB      NaN        05/31/2016   \n",
       "2291072     PETTIT    PATRICK        J        08/02/2010   \n",
       "2291071   HALLAHAN    PATRICK        M        02/26/2018   \n",
       "2291081  ORTIZ, JR    ANTONIO      NaN        08/27/1995   \n",
       "2234227    PROCIDA     ROBERT      NaN        04/13/1987   \n",
       "2234228      ORTIZ       JOSE      NaN        11/27/1989   \n",
       "1069369   GIURBINO   VINCENZO      NaN        04/28/2003   \n",
       "2291078      DALEY   GARFIELD        D        05/24/1994   \n",
       "\n",
       "        work_location_borough        title_description  \\\n",
       "2291076                 BRONX       SUPERVISOR PLUMBER   \n",
       "2291070                QUEENS      STATIONARY ENGINEER   \n",
       "2291085                 BRONX                  PLUMBER   \n",
       "2291072             MANHATTAN      STATIONARY ENGINEER   \n",
       "2291071              BROOKLYN      STATIONARY ENGINEER   \n",
       "2291081             MANHATTAN  SENIOR SYSTEMS ANALYSTS   \n",
       "2234227                 BRONX       SUPERVISOR PLUMBER   \n",
       "2234228                QUEENS       SUPERVISOR PLUMBER   \n",
       "1069369              BROOKLYN                  PLUMBER   \n",
       "2291078                 BRONX   SUPERVISOR ELECTRICIAN   \n",
       "\n",
       "        leave_status_as_of_june_30  base_salary  pay_basis  regular_hours  \\\n",
       "2291076                     ACTIVE       387.03    per Day       1,820.00   \n",
       "2291070                     ACTIVE       508.80    per Day       2,080.00   \n",
       "2291085                     ACTIVE       369.53    per Day       1,820.00   \n",
       "2291072                     ACTIVE       508.80    per Day       2,080.00   \n",
       "2291071                     ACTIVE       508.80    per Day       2,080.00   \n",
       "2291081                     ACTIVE   117,003.00  per Annum       1,820.00   \n",
       "2234227                     ACTIVE       387.03    per Day       1,820.00   \n",
       "2234228                     ACTIVE       387.03    per Day       1,820.00   \n",
       "1069369                     ACTIVE       361.48    per Day       1,825.00   \n",
       "2291078                     ACTIVE       460.25    per Day       1,820.00   \n",
       "\n",
       "         regular_gross_paid  ot_hours  total_ot_paid  total_other_pay  \\\n",
       "2291076          100,627.80  2,249.50     248,749.72         7,215.34   \n",
       "2291070          132,288.00  2,374.75     238,829.13        40,105.00   \n",
       "2291085           96,077.80  2,119.50     223,776.86         5,899.29   \n",
       "2291072          132,288.00  2,152.75     218,694.96        38,611.82   \n",
       "2291071          132,288.00  2,115.25     218,628.18        56,616.07   \n",
       "2291081          116,673.77  2,461.25     217,915.94         2,974.95   \n",
       "2234227          100,627.80  1,944.50     215,022.81         6,468.93   \n",
       "2234228          100,627.80  1,937.50     214,248.85         5,860.74   \n",
       "1069369           93,984.80  2,043.00     213,634.68         7,539.44   \n",
       "2291078          119,469.25  2,032.50     200,038.56        28,316.97   \n",
       "\n",
       "         total_pay  \n",
       "2291076 356,592.86  \n",
       "2291070 411,222.13  \n",
       "2291085 325,753.95  \n",
       "2291072 389,594.78  \n",
       "2291071 407,532.25  \n",
       "2291081 337,564.66  \n",
       "2234227 322,119.54  \n",
       "2234228 320,737.39  \n",
       "1069369 315,158.92  \n",
       "2291078 347,824.78  "
      ]
     },
     "execution_count": 12,
     "metadata": {},
     "output_type": "execute_result"
    }
   ],
   "source": [
    "df.sort_values(by='total_ot_paid', ascending = False).head(10)"
   ]
  },
  {
   "cell_type": "markdown",
   "id": "e3c0b1b6",
   "metadata": {},
   "source": [
    "#### Five of these ten have the word 'plumber' in their title. Let's inspect further"
   ]
  },
  {
   "cell_type": "code",
   "execution_count": 13,
   "id": "f91aa0b9",
   "metadata": {},
   "outputs": [
    {
     "data": {
      "text/plain": [
       "NYC HOUSING AUTHORITY             83\n",
       "DEPARTMENT OF EDUCATION ADMIN     34\n",
       "DEPT OF ENVIRONMENT PROTECTION    27\n",
       "DEPT OF PARKS & RECREATION        23\n",
       "FIRE DEPARTMENT                   22\n",
       "DEPT. OF HOMELESS SERVICES        14\n",
       "DEPARTMENT OF SANITATION          12\n",
       "POLICE DEPARTMENT                 12\n",
       "HRA/DEPT OF SOCIAL SERVICES       10\n",
       "DEPARTMENT OF CORRECTION           5\n",
       "DEPARTMENT OF TRANSPORTATION       5\n",
       "DEPT OF CITYWIDE ADMIN SVCS        5\n",
       "COMMUNITY COLLEGE (HOSTOS)         1\n",
       "Name: agency_name, dtype: int64"
      ]
     },
     "execution_count": 13,
     "metadata": {},
     "output_type": "execute_result"
    }
   ],
   "source": [
    "import re\n",
    "df[df['title_description'].str.contains('.PLUMBER')== True].agency_name.value_counts()"
   ]
  },
  {
   "cell_type": "code",
   "execution_count": 14,
   "id": "620f2d9b",
   "metadata": {},
   "outputs": [
    {
     "data": {
      "text/plain": [
       "2019    54\n",
       "2021    52\n",
       "2018    51\n",
       "2020    50\n",
       "2017    46\n",
       "Name: fiscal_year, dtype: int64"
      ]
     },
     "execution_count": 14,
     "metadata": {},
     "output_type": "execute_result"
    }
   ],
   "source": [
    "df[df['title_description'].str.contains('.PLUMBER')== True].fiscal_year.value_counts()"
   ]
  },
  {
   "cell_type": "code",
   "execution_count": 15,
   "id": "42df6cc4",
   "metadata": {},
   "outputs": [
    {
     "data": {
      "text/plain": [
       "fiscal_year\n",
       "2017   56,514.89\n",
       "2018   49,544.42\n",
       "2019   55,636.56\n",
       "2020   63,193.66\n",
       "2021   69,361.16\n",
       "Name: total_ot_paid, dtype: float64"
      ]
     },
     "execution_count": 15,
     "metadata": {},
     "output_type": "execute_result"
    }
   ],
   "source": [
    "df[df['title_description'].str.contains('.PLUMBER')== True].groupby(by='fiscal_year').total_ot_paid.mean()"
   ]
  },
  {
   "cell_type": "code",
   "execution_count": 16,
   "id": "0ca41943",
   "metadata": {},
   "outputs": [
    {
     "data": {
      "text/plain": [
       "fiscal_year  agency_name                  \n",
       "2017         DEPARTMENT OF CORRECTION           64,794.76\n",
       "             DEPARTMENT OF EDUCATION ADMIN     205,382.19\n",
       "             DEPARTMENT OF SANITATION           65,996.66\n",
       "             DEPARTMENT OF TRANSPORTATION       34,121.74\n",
       "             DEPT OF CITYWIDE ADMIN SVCS       153,541.04\n",
       "                                                 ...     \n",
       "2021         DEPT. OF HOMELESS SERVICES         60,100.23\n",
       "             FIRE DEPARTMENT                   313,467.52\n",
       "             HRA/DEPT OF SOCIAL SERVICES        35,275.05\n",
       "             NYC HOUSING AUTHORITY           2,161,223.63\n",
       "             POLICE DEPARTMENT                 112,736.36\n",
       "Name: total_ot_paid, Length: 61, dtype: float64"
      ]
     },
     "execution_count": 16,
     "metadata": {},
     "output_type": "execute_result"
    }
   ],
   "source": [
    "df[df['title_description'].str.contains('.PLUMBER')== True].groupby(['fiscal_year', 'agency_name']).total_ot_paid.sum()"
   ]
  },
  {
   "cell_type": "code",
   "execution_count": 17,
   "id": "08177b43",
   "metadata": {},
   "outputs": [
    {
     "data": {
      "text/plain": [
       "fiscal_year  agency_name                  \n",
       "2017         DEPARTMENT OF CORRECTION          167,119.36\n",
       "             DEPARTMENT OF EDUCATION ADMIN     917,629.39\n",
       "             DEPARTMENT OF SANITATION          268,805.10\n",
       "             DEPARTMENT OF TRANSPORTATION      137,204.30\n",
       "             DEPT OF CITYWIDE ADMIN SVCS       258,680.92\n",
       "                                                 ...     \n",
       "2021         DEPT. OF HOMELESS SERVICES        363,642.33\n",
       "             FIRE DEPARTMENT                   728,087.23\n",
       "             HRA/DEPT OF SOCIAL SERVICES       237,415.29\n",
       "             NYC HOUSING AUTHORITY           4,044,701.87\n",
       "             POLICE DEPARTMENT                 415,946.72\n",
       "Name: total_pay, Length: 61, dtype: float64"
      ]
     },
     "execution_count": 17,
     "metadata": {},
     "output_type": "execute_result"
    }
   ],
   "source": [
    "df[df['title_description'].str.contains('.PLUMBER')== True].groupby(['fiscal_year', 'agency_name']).total_pay.sum()"
   ]
  },
  {
   "cell_type": "code",
   "execution_count": 18,
   "id": "1f51aa71",
   "metadata": {},
   "outputs": [
    {
     "data": {
      "text/plain": [
       "58882.56102766799"
      ]
     },
     "execution_count": 18,
     "metadata": {},
     "output_type": "execute_result"
    }
   ],
   "source": [
    "df[df['title_description'].str.contains('.PLUMBER')== True].total_ot_paid.mean()"
   ]
  },
  {
   "cell_type": "code",
   "execution_count": 19,
   "id": "2ca75098",
   "metadata": {},
   "outputs": [
    {
     "data": {
      "text/plain": [
       "agency_name\n",
       "COMMUNITY COLLEGE (HOSTOS)           5,569.37\n",
       "DEPARTMENT OF CORRECTION           457,030.12\n",
       "DEPARTMENT OF EDUCATION ADMIN      756,051.84\n",
       "DEPARTMENT OF SANITATION           220,854.98\n",
       "DEPARTMENT OF TRANSPORTATION       176,641.66\n",
       "DEPT OF CITYWIDE ADMIN SVCS        679,538.41\n",
       "DEPT OF ENVIRONMENT PROTECTION     619,263.96\n",
       "DEPT OF PARKS & RECREATION       1,563,329.13\n",
       "DEPT. OF HOMELESS SERVICES         556,608.68\n",
       "FIRE DEPARTMENT                  1,200,328.52\n",
       "HRA/DEPT OF SOCIAL SERVICES        381,300.86\n",
       "NYC HOUSING AUTHORITY            7,684,816.42\n",
       "POLICE DEPARTMENT                  595,953.99\n",
       "Name: total_ot_paid, dtype: float64"
      ]
     },
     "execution_count": 19,
     "metadata": {},
     "output_type": "execute_result"
    }
   ],
   "source": [
    "df[df['title_description'].str.contains('.PLUMBER')== True].groupby(by='agency_name').total_ot_paid.sum()"
   ]
  },
  {
   "cell_type": "code",
   "execution_count": 20,
   "id": "fd23d9cb",
   "metadata": {},
   "outputs": [
    {
     "data": {
      "text/plain": [
       "agency_name\n",
       "COMMUNITY COLLEGE (HOSTOS)          387.03\n",
       "DEPARTMENT OF CORRECTION          1,919.05\n",
       "DEPARTMENT OF EDUCATION ADMIN    13,046.32\n",
       "DEPARTMENT OF SANITATION          4,596.06\n",
       "DEPARTMENT OF TRANSPORTATION      1,919.05\n",
       "DEPT OF CITYWIDE ADMIN SVCS       1,919.05\n",
       "DEPT OF ENVIRONMENT PROTECTION   10,360.28\n",
       "DEPT OF PARKS & RECREATION        8,837.29\n",
       "DEPT. OF HOMELESS SERVICES        5,378.17\n",
       "FIRE DEPARTMENT                   8,447.46\n",
       "HRA/DEPT OF SOCIAL SERVICES       3,838.10\n",
       "NYC HOUSING AUTHORITY            31,865.89\n",
       "POLICE DEPARTMENT                 4,612.16\n",
       "Name: base_salary, dtype: float64"
      ]
     },
     "execution_count": 20,
     "metadata": {},
     "output_type": "execute_result"
    }
   ],
   "source": [
    "df[df['title_description'].str.contains('.PLUMBER')== True].groupby(by='agency_name').base_salary.sum()"
   ]
  },
  {
   "cell_type": "markdown",
   "id": "55285da9",
   "metadata": {},
   "source": [
    "## 📝 There were 52 plumbers on city payroll in 2021 and they made about \\\\$69,000 on average in overtime. Overall, the agency shelled out over $2 million in overtime just to its plumbers in 2021."
   ]
  },
  {
   "cell_type": "markdown",
   "id": "a986f521",
   "metadata": {},
   "source": [
    "### NYCHA plumbers made \\\\$31,865 in base salary in total over five years. In overtime they made over $7.6 million"
   ]
  },
  {
   "cell_type": "markdown",
   "id": "889d7d5b",
   "metadata": {},
   "source": [
    "### Which agencies paid the most overtime and in which year?"
   ]
  },
  {
   "cell_type": "code",
   "execution_count": 21,
   "id": "22e268d3",
   "metadata": {},
   "outputs": [
    {
     "data": {
      "text/html": [
       "<div>\n",
       "<style scoped>\n",
       "    .dataframe tbody tr th:only-of-type {\n",
       "        vertical-align: middle;\n",
       "    }\n",
       "\n",
       "    .dataframe tbody tr th {\n",
       "        vertical-align: top;\n",
       "    }\n",
       "\n",
       "    .dataframe thead th {\n",
       "        text-align: right;\n",
       "    }\n",
       "</style>\n",
       "<table border=\"1\" class=\"dataframe\">\n",
       "  <thead>\n",
       "    <tr style=\"text-align: right;\">\n",
       "      <th></th>\n",
       "      <th>agency_name</th>\n",
       "      <th>fiscal_year</th>\n",
       "      <th>total_ot_paid</th>\n",
       "    </tr>\n",
       "  </thead>\n",
       "  <tbody>\n",
       "    <tr>\n",
       "      <th>624</th>\n",
       "      <td>POLICE DEPARTMENT</td>\n",
       "      <td>2020</td>\n",
       "      <td>789,030,906.10</td>\n",
       "    </tr>\n",
       "    <tr>\n",
       "      <th>621</th>\n",
       "      <td>POLICE DEPARTMENT</td>\n",
       "      <td>2017</td>\n",
       "      <td>743,243,130.21</td>\n",
       "    </tr>\n",
       "    <tr>\n",
       "      <th>623</th>\n",
       "      <td>POLICE DEPARTMENT</td>\n",
       "      <td>2019</td>\n",
       "      <td>705,970,021.11</td>\n",
       "    </tr>\n",
       "    <tr>\n",
       "      <th>622</th>\n",
       "      <td>POLICE DEPARTMENT</td>\n",
       "      <td>2018</td>\n",
       "      <td>690,899,013.79</td>\n",
       "    </tr>\n",
       "    <tr>\n",
       "      <th>625</th>\n",
       "      <td>POLICE DEPARTMENT</td>\n",
       "      <td>2021</td>\n",
       "      <td>481,517,169.18</td>\n",
       "    </tr>\n",
       "    <tr>\n",
       "      <th>441</th>\n",
       "      <td>FIRE DEPARTMENT</td>\n",
       "      <td>2021</td>\n",
       "      <td>330,179,136.67</td>\n",
       "    </tr>\n",
       "    <tr>\n",
       "      <th>437</th>\n",
       "      <td>FIRE DEPARTMENT</td>\n",
       "      <td>2017</td>\n",
       "      <td>321,097,174.36</td>\n",
       "    </tr>\n",
       "    <tr>\n",
       "      <th>439</th>\n",
       "      <td>FIRE DEPARTMENT</td>\n",
       "      <td>2019</td>\n",
       "      <td>319,265,956.70</td>\n",
       "    </tr>\n",
       "    <tr>\n",
       "      <th>438</th>\n",
       "      <td>FIRE DEPARTMENT</td>\n",
       "      <td>2018</td>\n",
       "      <td>313,309,302.92</td>\n",
       "    </tr>\n",
       "    <tr>\n",
       "      <th>440</th>\n",
       "      <td>FIRE DEPARTMENT</td>\n",
       "      <td>2020</td>\n",
       "      <td>312,990,484.38</td>\n",
       "    </tr>\n",
       "  </tbody>\n",
       "</table>\n",
       "</div>"
      ],
      "text/plain": [
       "           agency_name  fiscal_year  total_ot_paid\n",
       "624  POLICE DEPARTMENT         2020 789,030,906.10\n",
       "621  POLICE DEPARTMENT         2017 743,243,130.21\n",
       "623  POLICE DEPARTMENT         2019 705,970,021.11\n",
       "622  POLICE DEPARTMENT         2018 690,899,013.79\n",
       "625  POLICE DEPARTMENT         2021 481,517,169.18\n",
       "441    FIRE DEPARTMENT         2021 330,179,136.67\n",
       "437    FIRE DEPARTMENT         2017 321,097,174.36\n",
       "439    FIRE DEPARTMENT         2019 319,265,956.70\n",
       "438    FIRE DEPARTMENT         2018 313,309,302.92\n",
       "440    FIRE DEPARTMENT         2020 312,990,484.38"
      ]
     },
     "execution_count": 21,
     "metadata": {},
     "output_type": "execute_result"
    }
   ],
   "source": [
    "# pd.set_option('display.max_rows', None)\n",
    "df.groupby(['agency_name', 'fiscal_year']).total_ot_paid.sum().reset_index().sort_values(by='total_ot_paid', ascending = False).head(10)"
   ]
  },
  {
   "cell_type": "code",
   "execution_count": 22,
   "id": "657a57a2",
   "metadata": {},
   "outputs": [
    {
     "data": {
      "text/html": [
       "<div>\n",
       "<style scoped>\n",
       "    .dataframe tbody tr th:only-of-type {\n",
       "        vertical-align: middle;\n",
       "    }\n",
       "\n",
       "    .dataframe tbody tr th {\n",
       "        vertical-align: top;\n",
       "    }\n",
       "\n",
       "    .dataframe thead th {\n",
       "        text-align: right;\n",
       "    }\n",
       "</style>\n",
       "<table border=\"1\" class=\"dataframe\">\n",
       "  <thead>\n",
       "    <tr style=\"text-align: right;\">\n",
       "      <th></th>\n",
       "      <th>agency_name</th>\n",
       "      <th>total_ot_paid</th>\n",
       "    </tr>\n",
       "  </thead>\n",
       "  <tbody>\n",
       "    <tr>\n",
       "      <th>125</th>\n",
       "      <td>POLICE DEPARTMENT</td>\n",
       "      <td>3,410,660,240.39</td>\n",
       "    </tr>\n",
       "    <tr>\n",
       "      <th>88</th>\n",
       "      <td>FIRE DEPARTMENT</td>\n",
       "      <td>1,596,842,055.03</td>\n",
       "    </tr>\n",
       "    <tr>\n",
       "      <th>59</th>\n",
       "      <td>DEPARTMENT OF CORRECTION</td>\n",
       "      <td>981,672,183.09</td>\n",
       "    </tr>\n",
       "    <tr>\n",
       "      <th>65</th>\n",
       "      <td>DEPARTMENT OF SANITATION</td>\n",
       "      <td>790,873,824.62</td>\n",
       "    </tr>\n",
       "    <tr>\n",
       "      <th>114</th>\n",
       "      <td>NYC HOUSING AUTHORITY</td>\n",
       "      <td>553,297,085.88</td>\n",
       "    </tr>\n",
       "  </tbody>\n",
       "</table>\n",
       "</div>"
      ],
      "text/plain": [
       "                  agency_name    total_ot_paid\n",
       "125         POLICE DEPARTMENT 3,410,660,240.39\n",
       "88            FIRE DEPARTMENT 1,596,842,055.03\n",
       "59   DEPARTMENT OF CORRECTION   981,672,183.09\n",
       "65   DEPARTMENT OF SANITATION   790,873,824.62\n",
       "114     NYC HOUSING AUTHORITY   553,297,085.88"
      ]
     },
     "execution_count": 22,
     "metadata": {},
     "output_type": "execute_result"
    }
   ],
   "source": [
    "df.groupby(by='agency_name').total_ot_paid.sum().reset_index().sort_values(by='total_ot_paid', ascending = False).head(5)"
   ]
  },
  {
   "cell_type": "code",
   "execution_count": 23,
   "id": "4060f96d",
   "metadata": {},
   "outputs": [
    {
     "data": {
      "text/plain": [
       "fiscal_year\n",
       "2017    86,906,355.13\n",
       "2018    93,188,194.70\n",
       "2019    94,279,021.87\n",
       "2020   136,858,912.87\n",
       "2021   142,064,601.31\n",
       "Name: total_ot_paid, dtype: float64"
      ]
     },
     "execution_count": 23,
     "metadata": {},
     "output_type": "execute_result"
    }
   ],
   "source": [
    "df.query('agency_name == \"NYC HOUSING AUTHORITY\"').groupby(by='fiscal_year').total_ot_paid.sum()"
   ]
  },
  {
   "cell_type": "code",
   "execution_count": 24,
   "id": "c5b1821b",
   "metadata": {},
   "outputs": [],
   "source": [
    "from plotnine import *"
   ]
  },
  {
   "cell_type": "code",
   "execution_count": null,
   "id": "2a05d834",
   "metadata": {},
   "outputs": [],
   "source": [
    "(\n",
    "    ggplot(df,\n",
    "        aes('total_ot_paid', 'ot_hours'))\n",
    "        + geom_point(aes(color='work_location_borough', size=3))\n",
    "        + theme(figure_size=(12, 6))\n",
    "        + theme_bw()\n",
    "        + labs(\n",
    "            title = \"Range of overtime hours worked vs overtime earned by borough\",\n",
    "            y = \"Overtime hours worked\",\n",
    "            x = \"Overtime earned\"\n",
    "        )\n",
    ")"
   ]
  },
  {
   "cell_type": "markdown",
   "id": "66713d9e",
   "metadata": {},
   "source": [
    "# Let's zoom into those who made over $200K in overtime"
   ]
  },
  {
   "cell_type": "code",
   "execution_count": null,
   "id": "f1adc256",
   "metadata": {},
   "outputs": [],
   "source": [
    "(\n",
    "    ggplot(df.sort_values(by='total_ot_paid', ascending = False).head(10),\n",
    "        aes('total_ot_paid', 'ot_hours'))\n",
    "        + geom_point(aes(color='agency_name', size=6))\n",
    "        + theme(figure_size=(8, 5))\n",
    "        + theme_bw()\n",
    "        + labs(\n",
    "            title = \"Six out of 10 employees who made over $200K in overtime worked with NYC Housing Authority\",\n",
    "            y = \"Overtime hours worked\",\n",
    "            x = \"Overtime earned\"\n",
    "        )\n",
    ")"
   ]
  },
  {
   "cell_type": "code",
   "execution_count": null,
   "id": "c15461bb",
   "metadata": {},
   "outputs": [],
   "source": [
    "(\n",
    "    ggplot(df.query('total_ot_paid > 200000'),\n",
    "        aes('fiscal_year', 'total_ot_paid'))\n",
    "        + geom_point(aes(color='agency_name', size=6))\n",
    "        + theme(figure_size=(8, 5))\n",
    "        + theme_bw()\n",
    "        + labs(\n",
    "            title = \"Six out of 10 employees who made over $200K in overtime worked with NYC Housing Authority\",\n",
    "            y = \"Overtime earned\",\n",
    "            x = \"Year\"\n",
    "        )\n",
    ")"
   ]
  },
  {
   "cell_type": "markdown",
   "id": "cc2f0582",
   "metadata": {},
   "source": [
    "### I'm also interested in seeing how people's regular hours compare with their overtime hours."
   ]
  },
  {
   "cell_type": "code",
   "execution_count": null,
   "id": "0b1a7f96",
   "metadata": {},
   "outputs": [],
   "source": [
    "(\n",
    "    ggplot(df,\n",
    "        aes('regular_hours', 'ot_hours'))\n",
    "        + geom_point(aes(color='work_location_borough', size=6))\n",
    "        + theme(figure_size=(8, 5))\n",
    "        + theme_bw()\n",
    "        + labs(\n",
    "#             title = \"Six out of 10 employees who made over $200K in overtime worked with NYC Housing Authority\",\n",
    "            y = \"Overtime hours\",\n",
    "            x = \"Regular hours\"\n",
    "        )\n",
    ")"
   ]
  },
  {
   "cell_type": "code",
   "execution_count": null,
   "id": "6fd64dfb",
   "metadata": {},
   "outputs": [],
   "source": [
    "df.query('regular_hours > 3000')"
   ]
  },
  {
   "cell_type": "code",
   "execution_count": null,
   "id": "a479efd5",
   "metadata": {},
   "outputs": [],
   "source": [
    "df.query('ot_hours > 2000')"
   ]
  },
  {
   "cell_type": "code",
   "execution_count": null,
   "id": "e62555a4",
   "metadata": {},
   "outputs": [],
   "source": [
    "df['hrs_diff'] = df.ot_hours - df.regular_hours"
   ]
  },
  {
   "cell_type": "code",
   "execution_count": null,
   "id": "72b9beb1",
   "metadata": {},
   "outputs": [],
   "source": [
    "df.query('regular_hours > 0').sort_values(by='hrs_diff', ascending = False).query('hrs_diff > 1').query('leave_status_as_of_june_30 == \"CEASED\"')"
   ]
  },
  {
   "cell_type": "code",
   "execution_count": null,
   "id": "1ce1431f",
   "metadata": {},
   "outputs": [],
   "source": [
    "# Final sanity check\n",
    "df.fiscal_year.value_counts()"
   ]
  },
  {
   "cell_type": "code",
   "execution_count": null,
   "id": "9f4276dd",
   "metadata": {},
   "outputs": [],
   "source": []
  }
 ],
 "metadata": {
  "kernelspec": {
   "display_name": "Python 3 (ipykernel)",
   "language": "python",
   "name": "python3"
  },
  "language_info": {
   "codemirror_mode": {
    "name": "ipython",
    "version": 3
   },
   "file_extension": ".py",
   "mimetype": "text/x-python",
   "name": "python",
   "nbconvert_exporter": "python",
   "pygments_lexer": "ipython3",
   "version": "3.10.0"
  }
 },
 "nbformat": 4,
 "nbformat_minor": 5
}
