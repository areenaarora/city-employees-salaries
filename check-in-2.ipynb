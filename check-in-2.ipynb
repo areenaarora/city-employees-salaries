{
 "cells": [
  {
   "cell_type": "markdown",
   "id": "17815941",
   "metadata": {},
   "source": [
    "# Analyzing New York City employees' payroll database "
   ]
  },
  {
   "cell_type": "markdown",
   "id": "1a86c451",
   "metadata": {},
   "source": [
    "## Data Source: [NYC open data](https://data.cityofnewyork.us/City-Government/Citywide-Payroll-Data-Fiscal-Year-/k397-673e/data)"
   ]
  },
  {
   "cell_type": "code",
   "execution_count": 1,
   "id": "b600e9c9",
   "metadata": {},
   "outputs": [
    {
     "name": "stderr",
     "output_type": "stream",
     "text": [
      "/Users/areena.arora/.pyenv/versions/3.10.0/lib/python3.10/site-packages/pandas/compat/__init__.py:124: UserWarning: Could not import the lzma module. Your installed Python is incomplete. Attempting to use lzma compression will result in a RuntimeError.\n",
      "  warnings.warn(msg)\n"
     ]
    }
   ],
   "source": [
    "import pandas as pd\n",
    "df = pd.read_csv('Citywide_Payroll_Data__Fiscal_Year_.csv')\n",
    "df.columns = df.columns.str.replace(\" \", \"_\")\n",
    "df.columns = df.columns.str.replace(\"-\", \"_\")\n",
    "df.columns = df.columns.str.lower()\n",
    "# pd.set_option('display.max_rows', None)\n",
    "pd.set_option('display.max_columns', None)\n",
    "pd.options.display.float_format = '{:,.2f}'.format"
   ]
  },
  {
   "cell_type": "code",
   "execution_count": 2,
   "id": "fdc643c1",
   "metadata": {
    "scrolled": true
   },
   "outputs": [
    {
     "ename": "ModuleNotFoundError",
     "evalue": "No module named 'rpy2'",
     "output_type": "error",
     "traceback": [
      "\u001b[0;31m---------------------------------------------------------------------------\u001b[0m",
      "\u001b[0;31mModuleNotFoundError\u001b[0m                       Traceback (most recent call last)",
      "\u001b[0;32m/var/folders/81/2s24wkdd02j9528vnjsx7m080000gn/T/ipykernel_50753/4078053986.py\u001b[0m in \u001b[0;36m<module>\u001b[0;34m\u001b[0m\n\u001b[0;32m----> 1\u001b[0;31m \u001b[0mget_ipython\u001b[0m\u001b[0;34m(\u001b[0m\u001b[0;34m)\u001b[0m\u001b[0;34m.\u001b[0m\u001b[0mrun_line_magic\u001b[0m\u001b[0;34m(\u001b[0m\u001b[0;34m'load_ext'\u001b[0m\u001b[0;34m,\u001b[0m \u001b[0;34m'rpy2.ipython'\u001b[0m\u001b[0;34m)\u001b[0m\u001b[0;34m\u001b[0m\u001b[0;34m\u001b[0m\u001b[0m\n\u001b[0m\u001b[1;32m      2\u001b[0m \u001b[0mget_ipython\u001b[0m\u001b[0;34m(\u001b[0m\u001b[0;34m)\u001b[0m\u001b[0;34m.\u001b[0m\u001b[0mrun_line_magic\u001b[0m\u001b[0;34m(\u001b[0m\u001b[0;34m'load_ext'\u001b[0m\u001b[0;34m,\u001b[0m \u001b[0;34m'autoreload'\u001b[0m\u001b[0;34m)\u001b[0m\u001b[0;34m\u001b[0m\u001b[0;34m\u001b[0m\u001b[0m\n\u001b[1;32m      3\u001b[0m \u001b[0mget_ipython\u001b[0m\u001b[0;34m(\u001b[0m\u001b[0;34m)\u001b[0m\u001b[0;34m.\u001b[0m\u001b[0mrun_line_magic\u001b[0m\u001b[0;34m(\u001b[0m\u001b[0;34m'autoreload'\u001b[0m\u001b[0;34m,\u001b[0m \u001b[0;34m'2'\u001b[0m\u001b[0;34m)\u001b[0m\u001b[0;34m\u001b[0m\u001b[0;34m\u001b[0m\u001b[0m\n\u001b[1;32m      4\u001b[0m \u001b[0;34m\u001b[0m\u001b[0m\n\u001b[1;32m      5\u001b[0m \u001b[0mget_ipython\u001b[0m\u001b[0;34m(\u001b[0m\u001b[0;34m)\u001b[0m\u001b[0;34m.\u001b[0m\u001b[0mrun_line_magic\u001b[0m\u001b[0;34m(\u001b[0m\u001b[0;34m'matplotlib'\u001b[0m\u001b[0;34m,\u001b[0m \u001b[0;34m'inline'\u001b[0m\u001b[0;34m)\u001b[0m\u001b[0;34m\u001b[0m\u001b[0;34m\u001b[0m\u001b[0m\n",
      "\u001b[0;32m~/.pyenv/versions/3.10.0/lib/python3.10/site-packages/IPython/core/interactiveshell.py\u001b[0m in \u001b[0;36mrun_line_magic\u001b[0;34m(self, magic_name, line, _stack_depth)\u001b[0m\n\u001b[1;32m   2349\u001b[0m                 \u001b[0mkwargs\u001b[0m\u001b[0;34m[\u001b[0m\u001b[0;34m'local_ns'\u001b[0m\u001b[0;34m]\u001b[0m \u001b[0;34m=\u001b[0m \u001b[0mself\u001b[0m\u001b[0;34m.\u001b[0m\u001b[0mget_local_scope\u001b[0m\u001b[0;34m(\u001b[0m\u001b[0mstack_depth\u001b[0m\u001b[0;34m)\u001b[0m\u001b[0;34m\u001b[0m\u001b[0;34m\u001b[0m\u001b[0m\n\u001b[1;32m   2350\u001b[0m             \u001b[0;32mwith\u001b[0m \u001b[0mself\u001b[0m\u001b[0;34m.\u001b[0m\u001b[0mbuiltin_trap\u001b[0m\u001b[0;34m:\u001b[0m\u001b[0;34m\u001b[0m\u001b[0;34m\u001b[0m\u001b[0m\n\u001b[0;32m-> 2351\u001b[0;31m                 \u001b[0mresult\u001b[0m \u001b[0;34m=\u001b[0m \u001b[0mfn\u001b[0m\u001b[0;34m(\u001b[0m\u001b[0;34m*\u001b[0m\u001b[0margs\u001b[0m\u001b[0;34m,\u001b[0m \u001b[0;34m**\u001b[0m\u001b[0mkwargs\u001b[0m\u001b[0;34m)\u001b[0m\u001b[0;34m\u001b[0m\u001b[0;34m\u001b[0m\u001b[0m\n\u001b[0m\u001b[1;32m   2352\u001b[0m             \u001b[0;32mreturn\u001b[0m \u001b[0mresult\u001b[0m\u001b[0;34m\u001b[0m\u001b[0;34m\u001b[0m\u001b[0m\n\u001b[1;32m   2353\u001b[0m \u001b[0;34m\u001b[0m\u001b[0m\n",
      "\u001b[0;32m~/.pyenv/versions/3.10.0/lib/python3.10/site-packages/decorator.py\u001b[0m in \u001b[0;36mfun\u001b[0;34m(*args, **kw)\u001b[0m\n\u001b[1;32m    230\u001b[0m             \u001b[0;32mif\u001b[0m \u001b[0;32mnot\u001b[0m \u001b[0mkwsyntax\u001b[0m\u001b[0;34m:\u001b[0m\u001b[0;34m\u001b[0m\u001b[0;34m\u001b[0m\u001b[0m\n\u001b[1;32m    231\u001b[0m                 \u001b[0margs\u001b[0m\u001b[0;34m,\u001b[0m \u001b[0mkw\u001b[0m \u001b[0;34m=\u001b[0m \u001b[0mfix\u001b[0m\u001b[0;34m(\u001b[0m\u001b[0margs\u001b[0m\u001b[0;34m,\u001b[0m \u001b[0mkw\u001b[0m\u001b[0;34m,\u001b[0m \u001b[0msig\u001b[0m\u001b[0;34m)\u001b[0m\u001b[0;34m\u001b[0m\u001b[0;34m\u001b[0m\u001b[0m\n\u001b[0;32m--> 232\u001b[0;31m             \u001b[0;32mreturn\u001b[0m \u001b[0mcaller\u001b[0m\u001b[0;34m(\u001b[0m\u001b[0mfunc\u001b[0m\u001b[0;34m,\u001b[0m \u001b[0;34m*\u001b[0m\u001b[0;34m(\u001b[0m\u001b[0mextras\u001b[0m \u001b[0;34m+\u001b[0m \u001b[0margs\u001b[0m\u001b[0;34m)\u001b[0m\u001b[0;34m,\u001b[0m \u001b[0;34m**\u001b[0m\u001b[0mkw\u001b[0m\u001b[0;34m)\u001b[0m\u001b[0;34m\u001b[0m\u001b[0;34m\u001b[0m\u001b[0m\n\u001b[0m\u001b[1;32m    233\u001b[0m     \u001b[0mfun\u001b[0m\u001b[0;34m.\u001b[0m\u001b[0m__name__\u001b[0m \u001b[0;34m=\u001b[0m \u001b[0mfunc\u001b[0m\u001b[0;34m.\u001b[0m\u001b[0m__name__\u001b[0m\u001b[0;34m\u001b[0m\u001b[0;34m\u001b[0m\u001b[0m\n\u001b[1;32m    234\u001b[0m     \u001b[0mfun\u001b[0m\u001b[0;34m.\u001b[0m\u001b[0m__doc__\u001b[0m \u001b[0;34m=\u001b[0m \u001b[0mfunc\u001b[0m\u001b[0;34m.\u001b[0m\u001b[0m__doc__\u001b[0m\u001b[0;34m\u001b[0m\u001b[0;34m\u001b[0m\u001b[0m\n",
      "\u001b[0;32m~/.pyenv/versions/3.10.0/lib/python3.10/site-packages/IPython/core/magic.py\u001b[0m in \u001b[0;36m<lambda>\u001b[0;34m(f, *a, **k)\u001b[0m\n\u001b[1;32m    185\u001b[0m     \u001b[0;31m# but it's overkill for just that one bit of state.\u001b[0m\u001b[0;34m\u001b[0m\u001b[0;34m\u001b[0m\u001b[0m\n\u001b[1;32m    186\u001b[0m     \u001b[0;32mdef\u001b[0m \u001b[0mmagic_deco\u001b[0m\u001b[0;34m(\u001b[0m\u001b[0marg\u001b[0m\u001b[0;34m)\u001b[0m\u001b[0;34m:\u001b[0m\u001b[0;34m\u001b[0m\u001b[0;34m\u001b[0m\u001b[0m\n\u001b[0;32m--> 187\u001b[0;31m         \u001b[0mcall\u001b[0m \u001b[0;34m=\u001b[0m \u001b[0;32mlambda\u001b[0m \u001b[0mf\u001b[0m\u001b[0;34m,\u001b[0m \u001b[0;34m*\u001b[0m\u001b[0ma\u001b[0m\u001b[0;34m,\u001b[0m \u001b[0;34m**\u001b[0m\u001b[0mk\u001b[0m\u001b[0;34m:\u001b[0m \u001b[0mf\u001b[0m\u001b[0;34m(\u001b[0m\u001b[0;34m*\u001b[0m\u001b[0ma\u001b[0m\u001b[0;34m,\u001b[0m \u001b[0;34m**\u001b[0m\u001b[0mk\u001b[0m\u001b[0;34m)\u001b[0m\u001b[0;34m\u001b[0m\u001b[0;34m\u001b[0m\u001b[0m\n\u001b[0m\u001b[1;32m    188\u001b[0m \u001b[0;34m\u001b[0m\u001b[0m\n\u001b[1;32m    189\u001b[0m         \u001b[0;32mif\u001b[0m \u001b[0mcallable\u001b[0m\u001b[0;34m(\u001b[0m\u001b[0marg\u001b[0m\u001b[0;34m)\u001b[0m\u001b[0;34m:\u001b[0m\u001b[0;34m\u001b[0m\u001b[0;34m\u001b[0m\u001b[0m\n",
      "\u001b[0;32m~/.pyenv/versions/3.10.0/lib/python3.10/site-packages/IPython/core/magics/extension.py\u001b[0m in \u001b[0;36mload_ext\u001b[0;34m(self, module_str)\u001b[0m\n\u001b[1;32m     31\u001b[0m         \u001b[0;32mif\u001b[0m \u001b[0;32mnot\u001b[0m \u001b[0mmodule_str\u001b[0m\u001b[0;34m:\u001b[0m\u001b[0;34m\u001b[0m\u001b[0;34m\u001b[0m\u001b[0m\n\u001b[1;32m     32\u001b[0m             \u001b[0;32mraise\u001b[0m \u001b[0mUsageError\u001b[0m\u001b[0;34m(\u001b[0m\u001b[0;34m'Missing module name.'\u001b[0m\u001b[0;34m)\u001b[0m\u001b[0;34m\u001b[0m\u001b[0;34m\u001b[0m\u001b[0m\n\u001b[0;32m---> 33\u001b[0;31m         \u001b[0mres\u001b[0m \u001b[0;34m=\u001b[0m \u001b[0mself\u001b[0m\u001b[0;34m.\u001b[0m\u001b[0mshell\u001b[0m\u001b[0;34m.\u001b[0m\u001b[0mextension_manager\u001b[0m\u001b[0;34m.\u001b[0m\u001b[0mload_extension\u001b[0m\u001b[0;34m(\u001b[0m\u001b[0mmodule_str\u001b[0m\u001b[0;34m)\u001b[0m\u001b[0;34m\u001b[0m\u001b[0;34m\u001b[0m\u001b[0m\n\u001b[0m\u001b[1;32m     34\u001b[0m \u001b[0;34m\u001b[0m\u001b[0m\n\u001b[1;32m     35\u001b[0m         \u001b[0;32mif\u001b[0m \u001b[0mres\u001b[0m \u001b[0;34m==\u001b[0m \u001b[0;34m'already loaded'\u001b[0m\u001b[0;34m:\u001b[0m\u001b[0;34m\u001b[0m\u001b[0;34m\u001b[0m\u001b[0m\n",
      "\u001b[0;32m~/.pyenv/versions/3.10.0/lib/python3.10/site-packages/IPython/core/extensions.py\u001b[0m in \u001b[0;36mload_extension\u001b[0;34m(self, module_str)\u001b[0m\n\u001b[1;32m     78\u001b[0m             \u001b[0;32mif\u001b[0m \u001b[0mmodule_str\u001b[0m \u001b[0;32mnot\u001b[0m \u001b[0;32min\u001b[0m \u001b[0msys\u001b[0m\u001b[0;34m.\u001b[0m\u001b[0mmodules\u001b[0m\u001b[0;34m:\u001b[0m\u001b[0;34m\u001b[0m\u001b[0;34m\u001b[0m\u001b[0m\n\u001b[1;32m     79\u001b[0m                 \u001b[0;32mwith\u001b[0m \u001b[0mprepended_to_syspath\u001b[0m\u001b[0;34m(\u001b[0m\u001b[0mself\u001b[0m\u001b[0;34m.\u001b[0m\u001b[0mipython_extension_dir\u001b[0m\u001b[0;34m)\u001b[0m\u001b[0;34m:\u001b[0m\u001b[0;34m\u001b[0m\u001b[0;34m\u001b[0m\u001b[0m\n\u001b[0;32m---> 80\u001b[0;31m                     \u001b[0mmod\u001b[0m \u001b[0;34m=\u001b[0m \u001b[0mimport_module\u001b[0m\u001b[0;34m(\u001b[0m\u001b[0mmodule_str\u001b[0m\u001b[0;34m)\u001b[0m\u001b[0;34m\u001b[0m\u001b[0;34m\u001b[0m\u001b[0m\n\u001b[0m\u001b[1;32m     81\u001b[0m                     \u001b[0;32mif\u001b[0m \u001b[0mmod\u001b[0m\u001b[0;34m.\u001b[0m\u001b[0m__file__\u001b[0m\u001b[0;34m.\u001b[0m\u001b[0mstartswith\u001b[0m\u001b[0;34m(\u001b[0m\u001b[0mself\u001b[0m\u001b[0;34m.\u001b[0m\u001b[0mipython_extension_dir\u001b[0m\u001b[0;34m)\u001b[0m\u001b[0;34m:\u001b[0m\u001b[0;34m\u001b[0m\u001b[0;34m\u001b[0m\u001b[0m\n\u001b[1;32m     82\u001b[0m                         print((\"Loading extensions from {dir} is deprecated. \"\n",
      "\u001b[0;32m~/.pyenv/versions/3.10.0/lib/python3.10/importlib/__init__.py\u001b[0m in \u001b[0;36mimport_module\u001b[0;34m(name, package)\u001b[0m\n\u001b[1;32m    124\u001b[0m                 \u001b[0;32mbreak\u001b[0m\u001b[0;34m\u001b[0m\u001b[0;34m\u001b[0m\u001b[0m\n\u001b[1;32m    125\u001b[0m             \u001b[0mlevel\u001b[0m \u001b[0;34m+=\u001b[0m \u001b[0;36m1\u001b[0m\u001b[0;34m\u001b[0m\u001b[0;34m\u001b[0m\u001b[0m\n\u001b[0;32m--> 126\u001b[0;31m     \u001b[0;32mreturn\u001b[0m \u001b[0m_bootstrap\u001b[0m\u001b[0;34m.\u001b[0m\u001b[0m_gcd_import\u001b[0m\u001b[0;34m(\u001b[0m\u001b[0mname\u001b[0m\u001b[0;34m[\u001b[0m\u001b[0mlevel\u001b[0m\u001b[0;34m:\u001b[0m\u001b[0;34m]\u001b[0m\u001b[0;34m,\u001b[0m \u001b[0mpackage\u001b[0m\u001b[0;34m,\u001b[0m \u001b[0mlevel\u001b[0m\u001b[0;34m)\u001b[0m\u001b[0;34m\u001b[0m\u001b[0;34m\u001b[0m\u001b[0m\n\u001b[0m\u001b[1;32m    127\u001b[0m \u001b[0;34m\u001b[0m\u001b[0m\n\u001b[1;32m    128\u001b[0m \u001b[0;34m\u001b[0m\u001b[0m\n",
      "\u001b[0;32m~/.pyenv/versions/3.10.0/lib/python3.10/importlib/_bootstrap.py\u001b[0m in \u001b[0;36m_gcd_import\u001b[0;34m(name, package, level)\u001b[0m\n",
      "\u001b[0;32m~/.pyenv/versions/3.10.0/lib/python3.10/importlib/_bootstrap.py\u001b[0m in \u001b[0;36m_find_and_load\u001b[0;34m(name, import_)\u001b[0m\n",
      "\u001b[0;32m~/.pyenv/versions/3.10.0/lib/python3.10/importlib/_bootstrap.py\u001b[0m in \u001b[0;36m_find_and_load_unlocked\u001b[0;34m(name, import_)\u001b[0m\n",
      "\u001b[0;32m~/.pyenv/versions/3.10.0/lib/python3.10/importlib/_bootstrap.py\u001b[0m in \u001b[0;36m_call_with_frames_removed\u001b[0;34m(f, *args, **kwds)\u001b[0m\n",
      "\u001b[0;32m~/.pyenv/versions/3.10.0/lib/python3.10/importlib/_bootstrap.py\u001b[0m in \u001b[0;36m_gcd_import\u001b[0;34m(name, package, level)\u001b[0m\n",
      "\u001b[0;32m~/.pyenv/versions/3.10.0/lib/python3.10/importlib/_bootstrap.py\u001b[0m in \u001b[0;36m_find_and_load\u001b[0;34m(name, import_)\u001b[0m\n",
      "\u001b[0;32m~/.pyenv/versions/3.10.0/lib/python3.10/importlib/_bootstrap.py\u001b[0m in \u001b[0;36m_find_and_load_unlocked\u001b[0;34m(name, import_)\u001b[0m\n",
      "\u001b[0;31mModuleNotFoundError\u001b[0m: No module named 'rpy2'"
     ]
    }
   ],
   "source": [
    "%load_ext rpy2.ipython\n",
    "%load_ext autoreload\n",
    "%autoreload 2\n",
    "\n",
    "%matplotlib inline  \n",
    "from matplotlib import rcParams\n",
    "rcParams['figure.figsize'] = (16, 100)\n",
    "\n",
    "import warnings\n",
    "from rpy2.rinterface import RRuntimeWarning\n",
    "warnings.filterwarnings(\"ignore\") # Ignore all warnings\n",
    "# warnings.filterwarnings(\"ignore\", category=RRuntimeWarning) # Show some warnings\n",
    "\n",
    "import pandas as pd\n",
    "import numpy as np\n",
    "import matplotlib.pyplot as plt\n",
    "from IPython.display import display, HTML"
   ]
  },
  {
   "cell_type": "code",
   "execution_count": null,
   "id": "326687ec",
   "metadata": {},
   "outputs": [],
   "source": [
    "boroughs = ['QUEENS', 'MANHATTAN', 'BROOKLYN', 'BRONX']"
   ]
  },
  {
   "cell_type": "code",
   "execution_count": null,
   "id": "749c9127",
   "metadata": {},
   "outputs": [],
   "source": [
    "df = df[df.work_location_borough.isin(boroughs)]"
   ]
  },
  {
   "cell_type": "code",
   "execution_count": null,
   "id": "b615c747",
   "metadata": {},
   "outputs": [],
   "source": [
    "df.shape"
   ]
  },
  {
   "cell_type": "markdown",
   "id": "0690b659",
   "metadata": {},
   "source": [
    "Note: This reduced the dataset by 103,863 rows."
   ]
  },
  {
   "cell_type": "code",
   "execution_count": null,
   "id": "707a70f1",
   "metadata": {},
   "outputs": [],
   "source": [
    "df['total_pay'] = df.regular_gross_paid + df.total_ot_paid + df.total_other_pay"
   ]
  },
  {
   "cell_type": "code",
   "execution_count": null,
   "id": "57496a91",
   "metadata": {},
   "outputs": [],
   "source": [
    "df.sort_values(by='total_pay', ascending = False).head(10)"
   ]
  },
  {
   "cell_type": "code",
   "execution_count": null,
   "id": "0616398e",
   "metadata": {},
   "outputs": [],
   "source": [
    "df.total_pay.max()"
   ]
  },
  {
   "cell_type": "code",
   "execution_count": null,
   "id": "4b9b1bf9",
   "metadata": {},
   "outputs": [],
   "source": [
    "df.total_pay.min()"
   ]
  },
  {
   "cell_type": "markdown",
   "id": "a47cdcfd",
   "metadata": {},
   "source": [
    "### Ignoring the negatives. Assuming this is people who owe money to the city. The dataset alone cannot answer this so leaving this to reporting"
   ]
  },
  {
   "cell_type": "markdown",
   "id": "6200a2b8",
   "metadata": {},
   "source": [
    "### Interesting to see Jose Morales made $650K in 2020 and is no longer on city payroll"
   ]
  },
  {
   "cell_type": "code",
   "execution_count": null,
   "id": "9a05ee79",
   "metadata": {},
   "outputs": [],
   "source": [
    "df.query('last_name == \"MORALES\"').query('first_name == \"JOSE\"').query('agency_name == \"POLICE DEPARTMENT\"').query('agency_start_date == \"12/20/1998\"')"
   ]
  },
  {
   "cell_type": "markdown",
   "id": "354b7487",
   "metadata": {},
   "source": [
    "### Let's dive into overtime now :') !"
   ]
  },
  {
   "cell_type": "code",
   "execution_count": null,
   "id": "fe509db3",
   "metadata": {},
   "outputs": [],
   "source": [
    "df.sort_values(by='total_ot_paid', ascending = False).head(10)"
   ]
  },
  {
   "cell_type": "markdown",
   "id": "e3c0b1b6",
   "metadata": {},
   "source": [
    "#### Five of these ten have the word 'plumber' in their title. Let's inspect further"
   ]
  },
  {
   "cell_type": "code",
   "execution_count": null,
   "id": "f91aa0b9",
   "metadata": {},
   "outputs": [],
   "source": [
    "import re\n",
    "df[df['title_description'].str.contains('.PLUMBER')== True].agency_name.value_counts()"
   ]
  },
  {
   "cell_type": "code",
   "execution_count": null,
   "id": "620f2d9b",
   "metadata": {},
   "outputs": [],
   "source": [
    "df[df['title_description'].str.contains('.PLUMBER')== True].fiscal_year.value_counts()"
   ]
  },
  {
   "cell_type": "code",
   "execution_count": null,
   "id": "42df6cc4",
   "metadata": {},
   "outputs": [],
   "source": [
    "df[df['title_description'].str.contains('.PLUMBER')== True].groupby(by='fiscal_year').total_ot_paid.mean()"
   ]
  },
  {
   "cell_type": "code",
   "execution_count": null,
   "id": "0ca41943",
   "metadata": {},
   "outputs": [],
   "source": [
    "df[df['title_description'].str.contains('.PLUMBER')== True].groupby(['fiscal_year', 'agency_name']).total_ot_paid.sum()"
   ]
  },
  {
   "cell_type": "code",
   "execution_count": null,
   "id": "08177b43",
   "metadata": {},
   "outputs": [],
   "source": [
    "df[df['title_description'].str.contains('.PLUMBER')== True].groupby(['fiscal_year', 'agency_name']).total_pay.sum()"
   ]
  },
  {
   "cell_type": "code",
   "execution_count": null,
   "id": "1f51aa71",
   "metadata": {},
   "outputs": [],
   "source": [
    "df[df['title_description'].str.contains('.PLUMBER')== True].total_ot_paid.mean()"
   ]
  },
  {
   "cell_type": "code",
   "execution_count": null,
   "id": "2ca75098",
   "metadata": {},
   "outputs": [],
   "source": [
    "df[df['title_description'].str.contains('.PLUMBER')== True].groupby(by='agency_name').total_ot_paid.sum()"
   ]
  },
  {
   "cell_type": "code",
   "execution_count": null,
   "id": "fd23d9cb",
   "metadata": {},
   "outputs": [],
   "source": [
    "df[df['title_description'].str.contains('.PLUMBER')== True].groupby(by='agency_name').regular_gross_paid.sum()"
   ]
  },
  {
   "cell_type": "markdown",
   "id": "55285da9",
   "metadata": {},
   "source": [
    "## 📝 There were 52 plumbers on city payroll in 2021 and they made about \\\\$69,000 on average in overtime. Overall, the agency shelled out over $2 million in overtime just to its plumbers in 2021."
   ]
  },
  {
   "cell_type": "markdown",
   "id": "a986f521",
   "metadata": {},
   "source": [
    "### NYCHA plumbers made \\\\$31,865 in base salary in total over five years. In overtime they made over $7.6 million"
   ]
  },
  {
   "cell_type": "markdown",
   "id": "889d7d5b",
   "metadata": {},
   "source": [
    "### Which agencies paid the most overtime and in which year?"
   ]
  },
  {
   "cell_type": "code",
   "execution_count": null,
   "id": "22e268d3",
   "metadata": {},
   "outputs": [],
   "source": [
    "# pd.set_option('display.max_rows', None)\n",
    "df.groupby(['agency_name', 'fiscal_year']).total_ot_paid.sum().reset_index().sort_values(by='total_ot_paid', ascending = False).head(10)"
   ]
  },
  {
   "cell_type": "code",
   "execution_count": null,
   "id": "657a57a2",
   "metadata": {},
   "outputs": [],
   "source": [
    "df.groupby(by='agency_name').total_ot_paid.sum().reset_index().sort_values(by='total_ot_paid', ascending = False).head(5)"
   ]
  },
  {
   "cell_type": "code",
   "execution_count": null,
   "id": "4060f96d",
   "metadata": {},
   "outputs": [],
   "source": [
    "df.query('agency_name == \"NYC HOUSING AUTHORITY\"').groupby(by='fiscal_year').total_ot_paid.sum()"
   ]
  },
  {
   "cell_type": "code",
   "execution_count": null,
   "id": "c5b1821b",
   "metadata": {},
   "outputs": [],
   "source": [
    "from plotnine import *"
   ]
  },
  {
   "cell_type": "code",
   "execution_count": null,
   "id": "2a05d834",
   "metadata": {},
   "outputs": [],
   "source": [
    "# (\n",
    "#     ggplot(df,\n",
    "#         aes('total_ot_paid', 'ot_hours'))\n",
    "#         + geom_point(aes(color='work_location_borough', size=3))\n",
    "#         + theme(figure_size=(12, 6))\n",
    "#         + theme_bw()\n",
    "#         + labs(\n",
    "#             title = \"Range of overtime hours worked vs overtime earned by borough\",\n",
    "#             y = \"Overtime hours worked\",\n",
    "#             x = \"Overtime earned\"\n",
    "#         )\n",
    "# )"
   ]
  },
  {
   "cell_type": "markdown",
   "id": "66713d9e",
   "metadata": {},
   "source": [
    "# Let's zoom into those who made over $200K in overtime"
   ]
  },
  {
   "cell_type": "code",
   "execution_count": null,
   "id": "f1adc256",
   "metadata": {},
   "outputs": [],
   "source": [
    "(\n",
    "    ggplot(df.sort_values(by='total_ot_paid', ascending = False).head(10),\n",
    "        aes('total_ot_paid', 'ot_hours'))\n",
    "        + geom_point(aes(color='agency_name', size=6))\n",
    "        + theme(figure_size=(8, 5))\n",
    "        + theme_bw()\n",
    "        + labs(\n",
    "            title = \"Six out of 10 employees who made over $200K in overtime worked with NYC Housing Authority\",\n",
    "            y = \"Overtime hours worked\",\n",
    "            x = \"Overtime earned\"\n",
    "        )\n",
    ")"
   ]
  },
  {
   "cell_type": "markdown",
   "id": "cc2f0582",
   "metadata": {},
   "source": [
    "### I'm also interested in seeing how people's regular hours compare with their overtime hours."
   ]
  },
  {
   "cell_type": "code",
   "execution_count": null,
   "id": "0b1a7f96",
   "metadata": {},
   "outputs": [],
   "source": [
    "(\n",
    "    ggplot(df,\n",
    "        aes('regular_hours', 'ot_hours'))\n",
    "        + geom_point(aes(color='work_location_borough', size=6))\n",
    "        + geom_abline(intercept = 0, slope = 1, color='black')\n",
    "        + theme(figure_size=(8, 5))\n",
    "        + theme_bw()\n",
    "        + labs(\n",
    "            title = \"A lot of employees worked more hours in overtime than regular hours\",\n",
    "            y = \"Overtime hours\",\n",
    "            x = \"Regular hours\"\n",
    "        )\n",
    ")"
   ]
  },
  {
   "cell_type": "code",
   "execution_count": null,
   "id": "6fd64dfb",
   "metadata": {},
   "outputs": [],
   "source": [
    "df.query('regular_hours > 3000')"
   ]
  },
  {
   "cell_type": "code",
   "execution_count": null,
   "id": "a479efd5",
   "metadata": {},
   "outputs": [],
   "source": [
    "df.query('ot_hours > 2000')"
   ]
  },
  {
   "cell_type": "code",
   "execution_count": null,
   "id": "e62555a4",
   "metadata": {},
   "outputs": [],
   "source": [
    "df['hrs_diff'] = df.ot_hours - df.regular_hours"
   ]
  },
  {
   "cell_type": "code",
   "execution_count": null,
   "id": "72b9beb1",
   "metadata": {},
   "outputs": [],
   "source": [
    "df.query('regular_hours > 0').sort_values(by='hrs_diff', ascending = False).query('hrs_diff > 1').query('leave_status_as_of_june_30 == \"CEASED\"')"
   ]
  },
  {
   "cell_type": "code",
   "execution_count": null,
   "id": "1ce1431f",
   "metadata": {},
   "outputs": [],
   "source": [
    "# Final sanity check\n",
    "df.fiscal_year.value_counts()"
   ]
  },
  {
   "cell_type": "markdown",
   "id": "a0f416a1",
   "metadata": {},
   "source": [
    "# Check-In #2 with Dhrumil!"
   ]
  },
  {
   "cell_type": "markdown",
   "id": "76e9b134",
   "metadata": {},
   "source": [
    "Goal: zoom out, identify a few possible questions that will hopefully lead to story angles.\n",
    "\n",
    "I have provided some tools below that you can use to find these stories. Just look for this emoji \"👈\". That will show you places in the code you can make small changes to look at different subsets of the data.\n",
    "\n",
    "This analysis starts with an assumption. The amount of regular hours of work someone does is proportional to the amount of overtime hours they do. That's our model `ot_hours ~ regular_hours` (I later changed it to a squared term `ot_hours ~ I(regular_hours**2)` because that fit slightly better, but either one works just fine). **additional note:** _I later thanged it from `ot_hours ~ I(regular_hours**2)` to `ot_hours ~ I(regular_hours**5)` because that fits even better 😲...message me on slack if you need me to explain this..._"
   ]
  },
  {
   "cell_type": "code",
   "execution_count": null,
   "id": "8837e20c",
   "metadata": {},
   "outputs": [],
   "source": [
    "# df.agency_start_date.dt - pd.Timestamp.today\n",
    "# pd.to_datetime(df.agency_start_date, errors='coerce')\\\n",
    "#     .apply(lambda x: x - pd.to_datetime(\"today\"))\n",
    "df['agency_start_date'] = pd.to_datetime(df.agency_start_date, errors='coerce')\n",
    "df['today'] = pd.to_datetime('today')\n",
    "df['tenure'] = (df.today - df.agency_start_date).astype('timedelta64[Y]')\n",
    "# df.agency_name.unique() \n",
    "df"
   ]
  },
  {
   "cell_type": "code",
   "execution_count": null,
   "id": "8e76838c",
   "metadata": {},
   "outputs": [],
   "source": [
    "import statsmodels.formula.api as smf\n",
    "\n",
    "# YOU CAN ADD FILTERS HERE IF YOU WANT TO LOOK INTO A PARTICULAR AGENCY\n",
    "# Let's start with no filters\n",
    "to_model = df # .query(\"agency_name=='DEPARTMENT OF CORRECTION'\")\n",
    "\n",
    "# title_description\n",
    "# MODEL y=F(X) - which factors do you want to control for? \n",
    "# What do we think should explain the variance in overtime pay\n",
    "model = smf.ols('ot_hours ~ regular_hours + tenure', data=to_model.query(\"agency_name=='POLICE DEPARTMENT'\")) \n",
    "# note that I added a squared term because it fits better\n",
    "# https://stackoverflow.com/questions/31978948/python-stats-models-quadratic-term-in-regression\n",
    "\n",
    "results = model.fit()\n",
    "display(results.summary())\n",
    "\n",
    "# FINDING OUTLIERS\n",
    "# + E (what is still unaccounted for once you have controlled for those factors)\n",
    "outliers = to_model.query(\"agency_name=='POLICE DEPARTMENT'\").assign(\n",
    "    predicted = results.predict(),\n",
    "    residulas = results.resid,\n",
    "    residuals_z = results.resid / results.resid.std()\n",
    "    )\\\n",
    "    .sort_values(by='residuals_z', ascending=False)"
   ]
  },
  {
   "cell_type": "code",
   "execution_count": null,
   "id": "88830118",
   "metadata": {},
   "outputs": [],
   "source": [
    "jobs = [\n",
    "    'LIEUTENANT D/A SPECIAL ASSIGNMENT',\n",
    "    'TRAFFIC ENFORCEMENT AGENT',\n",
    "    'POLICE CADET',\n",
    "    'POLICE OFFICER D/A DETECTIVE 2ND GR',\n",
    "    'POLICE OFFICER D/A DETECTIVE 1ST GR',\n",
    "    'POLICE OFFICER'\n",
    "]\n",
    "(\n",
    "    ggplot(to_model.query(\"agency_name=='POLICE DEPARTMENT'\"), \n",
    "           aes(x='tenure', y='ot_hours/regular_hours')) +\n",
    "        geom_point(alpha=.1)\n",
    ")\n",
    "    "
   ]
  },
  {
   "cell_type": "code",
   "execution_count": null,
   "id": "097575b9",
   "metadata": {},
   "outputs": [],
   "source": [
    "list(df[df.title_description.str.contains('CORR')].unique())"
   ]
  },
  {
   "cell_type": "code",
   "execution_count": null,
   "id": "2fddad72",
   "metadata": {},
   "outputs": [],
   "source": [
    "(\n",
    "    ggplot(df, aes(x='tenure', y='regular_hours')) +\n",
    "        geom_point()\n",
    ")\n",
    "    "
   ]
  },
  {
   "cell_type": "code",
   "execution_count": null,
   "id": "0659f5e3",
   "metadata": {},
   "outputs": [],
   "source": [
    "df"
   ]
  },
  {
   "cell_type": "markdown",
   "id": "d30158bc",
   "metadata": {},
   "source": [
    "## Who are the biggest outliers?\n",
    "\n",
    "Here is a dataframe containing our friend KEVIN MURTHA. Who is Kevin Murtha was a great opening question for your analysis! But if we want to apply the same logic that we used to find Kevin Murtha, here are 25 other Kevin Murthas (note...25 is arbitrary, open the `overtime_outliers.csv` to see them all).\n"
   ]
  },
  {
   "cell_type": "code",
   "execution_count": null,
   "id": "e9a52807",
   "metadata": {},
   "outputs": [],
   "source": [
    "outliers.to_csv('overtime_outliers.csv', index=False) # preivew the df below, open the CSV for details\n",
    "outliers.head(25)[['fiscal_year', 'agency_name', 'first_name', 'last_name', \n",
    "                   'title_description',  'residuals_z', 'ot_hours', 'regular_gross_paid', 'total_ot_paid']]"
   ]
  },
  {
   "cell_type": "code",
   "execution_count": null,
   "id": "93161671",
   "metadata": {
    "scrolled": false
   },
   "outputs": [],
   "source": [
    "# select a person using the index in the DF above \n",
    "INDEX = 1705627 \n",
    "person = outliers.loc[INDEX] # a person in a given year\n",
    "\n",
    "# try and grab that person's records in other years (you may need to modify these queries)\n",
    "person_in_all_years = outliers\\\n",
    "    .query('last_name==@person.last_name and first_name==@person.first_name')\\\n",
    "    .query('agency_name==@person.agency_name')\\\n",
    "    .query('agency_start_date==@person.agency_start_date')\n",
    "\n",
    "# this will fail if we've identified more than one person \n",
    "# (5 records max 2017-2021) or if we identified 0 people\n",
    "try:\n",
    "    assert(len(person_in_all_years) <= 5)\n",
    "    assert(len(person_in_all_years) > 0)\n",
    "except: \n",
    "    print(f\"person_in_all_years returned {len(person_in_all_years)} records (should be between 1 and 5)\")\n",
    "    print(f\"please modify that query so it refers to only one person\")\n",
    "    raise\n",
    "\n",
    "# get other people in that agency/job/year for comparison\n",
    "similar_people = []\n",
    "for i, my in person_in_all_years.iterrows():\n",
    "    similar_people_this_year = df\\\n",
    "        .query(\"fiscal_year == @my.fiscal_year\")\\\n",
    "        .query(\"agency_name == @my.agency_name\")\\\n",
    "        .query(\"title_description == @my.title_description\")\n",
    "    similar_people.append(similar_people_this_year)\n",
    "    \n",
    "other_people_in_the_same_position = pd.concat(similar_people)\n",
    "\n",
    "# PLOT!\n",
    "plt = (\n",
    "    ggplot(other_people_in_the_same_position, \n",
    "           aes(x='regular_gross_paid', y='total_ot_paid')) +\n",
    "        geom_point(aes(color='leave_status_as_of_june_30'), alpha=.5) + \n",
    "        geom_point(aes(color='leave_status_as_of_june_30'), data=person_in_all_years, shape='x',size=5, stroke=2) + \n",
    "        geom_point(data=person_in_all_years, shape='x',size=5) + \n",
    "        geom_abline(intercept=0, slope=1, color='red') +\n",
    "        facet_wrap(['fiscal_year', 'title_description'], nrow=1) +\n",
    "        ggtitle(f\"Who Is {person.first_name} {person.last_name} at {person.agency_name}?\\n\\n(Modify the INDEX at the top to change the chart and table below.)\") + \n",
    "        theme(figure_size=(16,4))\n",
    ")\n",
    "\n",
    "# PLOT!\n",
    "plt2 = (\n",
    "    ggplot(other_people_in_the_same_position, \n",
    "           aes(x='regular_gross_paid', y='total_other_pay')) +\n",
    "        geom_point(aes(color='leave_status_as_of_june_30'), alpha=.5) + \n",
    "        geom_point(aes(color='leave_status_as_of_june_30'), data=person_in_all_years, shape='x',size=5, stroke=2) + \n",
    "        geom_point(data=person_in_all_years, shape='x',size=5) + \n",
    "        facet_wrap(['fiscal_year', 'title_description'], nrow=1) +\n",
    "        ggtitle(f\"Who Is {person.first_name} {person.last_name} at {person.agency_name}?\\n\\n(Modify the INDEX at the top to change the chart and table below.)\") + \n",
    "        theme(figure_size=(16,4))\n",
    ")\n",
    "\n",
    "display(plt) # show plot\n",
    "display(plt2) # show plot2\n",
    "print('Here is a preview of the dataframe below with the person you selected. Check out overtime_outliers.csv if you\\'re curious about other data points or change the INDEX to someone else and rerun the cell')\n",
    "display(person_in_all_years) # show table"
   ]
  },
  {
   "cell_type": "markdown",
   "id": "d72c5d3e",
   "metadata": {},
   "source": [
    "Awesome! Now you can modify the `INDEX` variable in the dataframe and re-run the above cells to see Kevin Murtha-like people in other agencies. This could be a handful of leads for possible stories. Time to start reporting!\n",
    "\n",
    "\"Who is Kevin Murtha\" was a great question...but who is.. OMAR MALCOLM? ROBERT PROCIDA? HOWARD KNOX? \n",
    "\n",
    "Modify the `INDEX` variable in the dataframe and re-run the above to look into any particular person relative to others in similar roles. It's probably also a good time to leave the data notebook and start reporting!!!"
   ]
  },
  {
   "cell_type": "markdown",
   "id": "12030bb4",
   "metadata": {},
   "source": [
    "## What departments do they work in? \n",
    "\n",
    "⚠️ **methodological choice alert**\n",
    "\n",
    "note: when you make this choice, you are drawing attention away from individual people who are outliers and drawing attention towards particular professions/agencies that are prone to work overtimne. So by filtering and getting `value_counts` in this way, something is lost. \n",
    "\n",
    "Take, for example MICHAEL GAGER, a MARINE ENGINEER for the FIRE DEPARTMENT `(residuals_z == 20.41)`. He is not represented in the professions with the most people with high residuals below. Or the police officer you identified earlier KEVIN MURTHA `(residuals_Z==20.52)`. He is also not represented below. \n",
    "\n",
    "See the note in the cell below about the thresholds."
   ]
  },
  {
   "cell_type": "code",
   "execution_count": null,
   "id": "57eb4619",
   "metadata": {
    "scrolled": false
   },
   "outputs": [],
   "source": [
    "# These are the biggest outliers (z score greater than 10)\n",
    "# however if you mess with that threshold, you'll get different agencies/titles\n",
    "# so there may be some agencies with more outliers that are less...outlier-y\n",
    "# that you don't capture until you change the threshold from say 10 to 3\n",
    "\n",
    "THRESHOLD = 10 # 👉 try changing this to 3 and see what happens...\n",
    "               # neither is \"wrong\", they just surface different things\n",
    "               # higher threshold means you get the outlier-iest outliers\n",
    "               # lower threshold means you get all the outliers\n",
    "               # I wouldn't set it to less than 3 (at that point you're not really looking at outliers at all)\n",
    "               #      z-score of less than 3 that would put you in the \"fat\" part of the bell curve...\n",
    "outliers['residuals_above_threshold'] = outliers.residuals_z.apply(lambda x: f'residual_z>{THRESHOLD}' if x > THRESHOLD else f'residual_z<={THRESHOLD}')\n",
    "\n",
    "\n",
    "agencies_containing_outliers = outliers\\\n",
    "    .pivot_table(index=['agency_name', 'title_description'], aggfunc='count', \n",
    "                 columns='residuals_above_threshold', values='first_name')\\\n",
    "    .fillna(0).astype(int).reset_index()\\\n",
    "    .assign(\n",
    "        pct = lambda df: df[f'residual_z>{THRESHOLD}'] / (df[f'residual_z>{THRESHOLD}'] + df[f'residual_z<={THRESHOLD}']) * 100\n",
    "    ).rename_axis(None, axis=1)\n",
    "\n",
    "# display\n",
    "COLUMN_TO_SORT_BY = f'residual_z>{THRESHOLD}'\n",
    "agencies_containing_outliers\\\n",
    "    .sort_values(by=COLUMN_TO_SORT_BY, ascending=False)\\\n",
    "    .head(10)"
   ]
  },
  {
   "cell_type": "markdown",
   "id": "05f1b300",
   "metadata": {},
   "source": [
    "Here is our story about PLUMBERs at NYC HOUSING AUTHORITY that you were able to identify. Looks like we're on the right track, since as you learned from your background reading, it seems like there was [some wrongdoing there](https://twitter.com/thecityny/status/1128017319437971456) around overtime pay. So these are some leads for other \"Plumbers at NYCHA\" style stories. Are there other professions/departments that show the same kind of patterns? Why Focus on PLUMBERs at NYC HOUSING AUTHORITY...instead of say MAINTENANCE WORKERs in the same department?\n",
    "\n",
    "These residuals give us a clue about where else to look. For example, what's up at the DEPARTMENT OF CORRECTION? Lots of people there seem to be getting relatively more ot_hours compared to regular_hours. I wonder why?"
   ]
  },
  {
   "cell_type": "code",
   "execution_count": null,
   "id": "8895dd35",
   "metadata": {},
   "outputs": [],
   "source": [
    "agencies_containing_outliers = agencies_containing_outliers\\\n",
    "    .assign(\n",
    "        pct = lambda df: df[f'residual_z>{THRESHOLD}'] / (df[f'residual_z>{THRESHOLD}'] + df[f'residual_z<={THRESHOLD}']) * 100\n",
    "    ).rename_axis(None, axis=1)"
   ]
  },
  {
   "cell_type": "markdown",
   "id": "e4d0fa4f",
   "metadata": {},
   "source": [
    "**note:** Raw number of outlier people are interesting, and I think it is worth investigating the DEPARTMENT OF CORRECTION. I would follow that lede and try to remake the charts for DEPARTMENT OF CORRECTION employees of interest. But the DEPARTMENT OF CORRECTION is also huge!\n",
    "\n",
    "Above, I create a variable that helps us normalize for the size of the department so that we don't overlook stories of groups of people that are getting lots of overtime pay in smaller departments. Let's see what we find."
   ]
  },
  {
   "cell_type": "code",
   "execution_count": null,
   "id": "18fa6756",
   "metadata": {},
   "outputs": [],
   "source": [
    "agencies_containing_outliers\\\n",
    "    .sort_values(by='pct', ascending=False).head(10)"
   ]
  },
  {
   "cell_type": "markdown",
   "id": "16ece7b3",
   "metadata": {},
   "source": [
    "Hmm...24 out of 60 INSTITUTIONAL AIDEs at DEPT OF HEALTH/MENTAL HYGIENE are outliers to our model...I wonder why? I might want to check the spreadsheet for INSTITUTIONAL AIDEs. What does an INSTITUTIONAL AIDE do? How much do they earn? Maybe this is normal...maybe it's a story? What about some of these other folks that are logging overtime at other departments? \n",
    "\n",
    "You can use this information to go and find individual people of interest in the CSV file. Plug them into the chart at the top of this section and see what the norm is in their profession and department."
   ]
  },
  {
   "cell_type": "markdown",
   "id": "ac246e3c",
   "metadata": {},
   "source": [
    "## Looking at data by department\n",
    "\n",
    "Dhrumil is tired...here are a bunch of charts you can work with if you'd like. OR just stick to the chart above. It is pretty informative to look at a particular person in the context of their profession + department. Just note that everything I did above makes that methodological choice. Why are we not looking, for example, at electricians across all departments. I don't know...I just didn't get around to it.\n",
    "\n",
    "What I have done, is use the regression to generalize the logic you used to get to the Kevin Murtha story and the plumbers in NYCHA story. "
   ]
  },
  {
   "cell_type": "code",
   "execution_count": null,
   "id": "0e48a4e6",
   "metadata": {},
   "outputs": [],
   "source": [
    "# Here is that list of outliers one more time\n",
    "\n",
    "# it is sorted by the z-score of the residuals from the model\n",
    "# so people who got more overtime relative to regular pay will be surfaced\n",
    "to_view =  outliers.\\\n",
    "    sort_values(by='residuals_z', ascending=False)\\\n",
    "    [['agency_name','title_description','residuals_z', 'last_name','first_name', 'mid_init', \n",
    "         'agency_start_date', 'total_ot_paid', 'regular_gross_paid', 'total_other_pay']]\n",
    "\n",
    "to_view.to_csv('to_view.csv') # look at this CSV file to check particular departments\n",
    "\n",
    "# OR try some queries...\n",
    "# to_view = to_view.query('agency_name==\"DEPT OF CITYWIDE ADMIN SVCS\"')\n",
    "# to_view = to_view.query('title_description==\"ELECTRICIAN\"')\n",
    "# to_view = to_view.query('total_ot_paid > 100000')\n",
    "\n",
    "to_view.sort_values(by='total_ot_paid', ascending=False)"
   ]
  },
  {
   "cell_type": "code",
   "execution_count": null,
   "id": "aa92da05",
   "metadata": {},
   "outputs": [],
   "source": [
    "df"
   ]
  },
  {
   "cell_type": "code",
   "execution_count": null,
   "id": "ae319b8a",
   "metadata": {},
   "outputs": [],
   "source": []
  },
  {
   "cell_type": "code",
   "execution_count": null,
   "id": "e4348d90",
   "metadata": {},
   "outputs": [],
   "source": []
  },
  {
   "cell_type": "code",
   "execution_count": null,
   "id": "ab3e830e",
   "metadata": {},
   "outputs": [],
   "source": []
  },
  {
   "cell_type": "code",
   "execution_count": null,
   "id": "59d9e6bc",
   "metadata": {},
   "outputs": [],
   "source": []
  },
  {
   "cell_type": "code",
   "execution_count": null,
   "id": "91e796df",
   "metadata": {},
   "outputs": [],
   "source": []
  },
  {
   "cell_type": "code",
   "execution_count": null,
   "id": "e83bfa71",
   "metadata": {},
   "outputs": [],
   "source": []
  },
  {
   "cell_type": "code",
   "execution_count": null,
   "id": "1bb76b32",
   "metadata": {},
   "outputs": [],
   "source": []
  },
  {
   "cell_type": "markdown",
   "id": "0794dcc6",
   "metadata": {},
   "source": [
    "# bunch of other charts...you can use these, or ignore them. "
   ]
  },
  {
   "cell_type": "code",
   "execution_count": null,
   "id": "a0f37a06",
   "metadata": {
    "scrolled": false
   },
   "outputs": [],
   "source": [
    "# %%R -w 1000 -h 500\n",
    "\n",
    "# require('readr')\n",
    "# require('tidyverse')\n",
    "# require('ggrepel')\n",
    "\n",
    "# # WANT TO LOOK AT A PARTICULAR SUBSET OF PEOPLE? \n",
    "# # FILTER THEM HERE!\n",
    "# df <- read_csv('overtime_outliers.csv') %>%\n",
    "#     filter(agency_name == 'NYC HOUSING AUTHORITY')\n",
    "\n",
    "# # WANT TO HIGHLIGHT PARTICULAR DATA POINTS?  \n",
    "# to_highlight <- df %>%\n",
    "#     filter(grepl('PLUMBER', title_description)) # regex search\n",
    "\n",
    "# # WANT TO LABEL PARTICULAR PEOPLE? \n",
    "# to_label <- df %>%\n",
    "#     filter(total_ot_paid > regular_gross_paid)\n",
    "\n",
    "# # plot\n",
    "# ggplot(df, aes(x=regular_gross_paid, y=total_ot_paid)) +\n",
    "#     aes(color=grepl('PLUMBER', title_description)) +\n",
    "#     geom_point(alpha=.5) +\n",
    "#     geom_abline(intercept=0, slope=1, color='red') + \n",
    "#     geom_label_repel(data = to_label, \n",
    "#                      aes(label=title_description), \n",
    "#                      min.segment.length = 0) + # geom_label_repel labels at least one of every type of label in data\n",
    "#     facet_wrap(~fiscal_year)\n",
    "    "
   ]
  },
  {
   "cell_type": "code",
   "execution_count": null,
   "id": "95b2b165",
   "metadata": {
    "scrolled": false
   },
   "outputs": [],
   "source": [
    "# # Same as above, but in python/plotnine (very slow)\n",
    "\n",
    "# # WANT TO LOOK AT A PARTICULAR SUBSET OF PEOPLE? \n",
    "# to_plot = outliers.query(\"agency_name == 'NYC HOUSING AUTHORITY'\")\n",
    "\n",
    "# # WANT TO HIGHLIGHT PARTICULAR DATA POINTS?  \n",
    "# highlight_query = \"title_description.str.contains('PLUMBER')\"\n",
    "# to_highlight = to_plot.query(highlight_query)\n",
    "\n",
    "# # WANT TO LABEL PARTICULAR PEOPLE? \n",
    "# to_label = to_highlight.query(\"residuals_z > 10\")\n",
    "\n",
    "# # https://stackoverflow.com/questions/57701052/how-do-i-use-adjust-text-with-plotnine\n",
    "# adjust_text_settings = {'expand_points': (2, 2), 'arrowprops': {'arrowstyle': '->', 'color': 'red'}}\n",
    "\n",
    "# display(\n",
    "#     ggplot(df, \n",
    "#            aes(x='regular_gross_paid', y='total_ot_paid')) +\n",
    "#         geom_point(alpha=.2) +\n",
    "#         geom_point(data=to_highlight, color='red', alpha=1) +\n",
    "#         geom_abline(intercept=0, slope=1, color='red') + \n",
    "#         geom_text(to_label, aes(label='first_name'), adjust_text=adjust_text_settings) +\n",
    "#         facet_wrap('fiscal_year') + \n",
    "#         theme(figure_size = (16,9))\n",
    "# )\n",
    "\n",
    "# display(to_label)"
   ]
  },
  {
   "cell_type": "markdown",
   "id": "d46385b1",
   "metadata": {},
   "source": [
    "## And what is going on at that agency overall?\n",
    "\n",
    "Let's look at the bigger picture of that agency. Are they leaning more heavily on overtime workers? \n",
    "\n",
    "This is the kind of analysis that lets you do more big trend stories. I have a feeling that the previous two sections will guide you to more compelling stories, but this could be additional context if it is helpful."
   ]
  },
  {
   "cell_type": "code",
   "execution_count": null,
   "id": "503a38fd",
   "metadata": {
    "scrolled": false
   },
   "outputs": [],
   "source": [
    "\n",
    "\n",
    "# # reads the same variables from above (to_plot)\n",
    "# # but plots a histogram instead of a dot plot\n",
    "\n",
    "# to_plot.query(f\"residuals_above_threshold == 'residual_z>{THRESHOLD}'\")\\\n",
    "#     .title_description\\\n",
    "#     .value_counts()\n",
    "# # ggplot(to_plot, aes(x=ot_hours)) +\n",
    "# #     geom_histogram() +\n",
    "# #     facet_grid(title_description=='CORRECTION OFFICER'~fiscal_year)\n",
    "    "
   ]
  },
  {
   "cell_type": "code",
   "execution_count": null,
   "id": "a6fc347e",
   "metadata": {},
   "outputs": [],
   "source": []
  },
  {
   "cell_type": "code",
   "execution_count": null,
   "id": "87ebae88",
   "metadata": {},
   "outputs": [],
   "source": []
  },
  {
   "cell_type": "code",
   "execution_count": null,
   "id": "1aa5ca80",
   "metadata": {},
   "outputs": [],
   "source": []
  },
  {
   "cell_type": "code",
   "execution_count": null,
   "id": "b28401a0",
   "metadata": {},
   "outputs": [],
   "source": []
  },
  {
   "cell_type": "code",
   "execution_count": null,
   "id": "456520d2",
   "metadata": {},
   "outputs": [],
   "source": []
  },
  {
   "cell_type": "code",
   "execution_count": null,
   "id": "d5e363b7",
   "metadata": {},
   "outputs": [],
   "source": []
  },
  {
   "cell_type": "code",
   "execution_count": null,
   "id": "aefc488a",
   "metadata": {},
   "outputs": [],
   "source": []
  },
  {
   "cell_type": "code",
   "execution_count": null,
   "id": "2c97e523",
   "metadata": {},
   "outputs": [],
   "source": []
  },
  {
   "cell_type": "code",
   "execution_count": null,
   "id": "db0e5f72",
   "metadata": {},
   "outputs": [],
   "source": []
  },
  {
   "cell_type": "code",
   "execution_count": null,
   "id": "fae10f15",
   "metadata": {},
   "outputs": [],
   "source": []
  },
  {
   "cell_type": "code",
   "execution_count": null,
   "id": "f315ee5b",
   "metadata": {},
   "outputs": [],
   "source": []
  },
  {
   "cell_type": "code",
   "execution_count": null,
   "id": "55ada116",
   "metadata": {},
   "outputs": [],
   "source": []
  },
  {
   "cell_type": "code",
   "execution_count": null,
   "id": "5c6a9d40",
   "metadata": {},
   "outputs": [],
   "source": []
  },
  {
   "cell_type": "code",
   "execution_count": null,
   "id": "e7544f28",
   "metadata": {},
   "outputs": [],
   "source": []
  },
  {
   "cell_type": "code",
   "execution_count": null,
   "id": "9a032fb9",
   "metadata": {
    "scrolled": false
   },
   "outputs": [],
   "source": [
    "median_ot = df.pivot_table(index='agency_name', values='ot_hours', aggfunc=['mean'], columns='fiscal_year').reset_index()\n",
    "median_ot['diff'] = median_ot[(     'mean', 2021)] - median_ot[(     'mean', 2017)]\n",
    "median_ot[median_ot[(       'diff',   '')] > 0]\n",
    "# median_ot#.query(\"agency_name=='DEPT OF HEALTH/MENTAL HYGIENE'\")\n",
    "# len(median_ot.sort_values(by='diff').query('diff>0'))\n",
    "# (\n",
    "# ggplot(median_ot.melt(id_vars='agency_name'))\n",
    "#     + aes(x='fiscal_year', y='value', group='agency_name') \n",
    "#     + geom_line(aes(color='agency_name')) \n",
    "    \n",
    "# )   "
   ]
  },
  {
   "cell_type": "code",
   "execution_count": null,
   "id": "882d4168",
   "metadata": {
    "scrolled": true
   },
   "outputs": [],
   "source": [
    "pd.read_csv('highlighted.csv').query('title_description.str.contains(\"WARDEN\")')"
   ]
  },
  {
   "cell_type": "code",
   "execution_count": null,
   "id": "7bc8b429",
   "metadata": {},
   "outputs": [],
   "source": []
  },
  {
   "cell_type": "code",
   "execution_count": null,
   "id": "56817be7",
   "metadata": {},
   "outputs": [],
   "source": []
  },
  {
   "cell_type": "code",
   "execution_count": null,
   "id": "18e7389c",
   "metadata": {},
   "outputs": [],
   "source": []
  },
  {
   "cell_type": "code",
   "execution_count": null,
   "id": "36e04f8b",
   "metadata": {},
   "outputs": [],
   "source": []
  },
  {
   "cell_type": "code",
   "execution_count": null,
   "id": "59877ed1",
   "metadata": {},
   "outputs": [],
   "source": []
  },
  {
   "cell_type": "code",
   "execution_count": null,
   "id": "60b8c004",
   "metadata": {},
   "outputs": [],
   "source": []
  },
  {
   "cell_type": "code",
   "execution_count": null,
   "id": "ab55d793",
   "metadata": {},
   "outputs": [],
   "source": []
  },
  {
   "cell_type": "code",
   "execution_count": null,
   "id": "728d49d6",
   "metadata": {},
   "outputs": [],
   "source": []
  }
 ],
 "metadata": {
  "kernelspec": {
   "display_name": "Python 3 (ipykernel)",
   "language": "python",
   "name": "python3"
  },
  "language_info": {
   "codemirror_mode": {
    "name": "ipython",
    "version": 3
   },
   "file_extension": ".py",
   "mimetype": "text/x-python",
   "name": "python",
   "nbconvert_exporter": "python",
   "pygments_lexer": "ipython3",
   "version": "3.10.0"
  }
 },
 "nbformat": 4,
 "nbformat_minor": 5
}
