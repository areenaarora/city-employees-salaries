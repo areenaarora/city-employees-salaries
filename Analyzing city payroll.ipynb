{
 "cells": [
  {
   "cell_type": "markdown",
   "id": "17815941",
   "metadata": {},
   "source": [
    "# Analyzing New York City employees' payroll database "
   ]
  },
  {
   "cell_type": "markdown",
   "id": "1a86c451",
   "metadata": {},
   "source": [
    "## Data Source: [NYC open data](https://data.cityofnewyork.us/City-Government/Citywide-Payroll-Data-Fiscal-Year-/k397-673e/data)"
   ]
  },
  {
   "cell_type": "code",
   "execution_count": 1,
   "id": "db017eb5",
   "metadata": {},
   "outputs": [
    {
     "name": "stderr",
     "output_type": "stream",
     "text": [
      "/Users/areena.arora/.pyenv/versions/3.10.0/lib/python3.10/site-packages/pandas/compat/__init__.py:124: UserWarning: Could not import the lzma module. Your installed Python is incomplete. Attempting to use lzma compression will result in a RuntimeError.\n",
      "  warnings.warn(msg)\n"
     ]
    }
   ],
   "source": [
    "import pandas as pd\n",
    "df = pd.read_csv('Citywide_Payroll_Data__Fiscal_Year_.csv')\n",
    "df.columns = df.columns.str.replace(\" \", \"_\")\n",
    "df.columns = df.columns.str.replace(\"-\", \"_\")\n",
    "df.columns = df.columns.str.lower()\n",
    "# pd.set_option('display.max_rows', None)\n",
    "pd.set_option('display.max_columns', None)\n",
    "pd.options.display.float_format = '{:,.2f}'.format"
   ]
  },
  {
   "cell_type": "code",
   "execution_count": 2,
   "id": "92044cd1",
   "metadata": {},
   "outputs": [
    {
     "data": {
      "text/plain": [
       "(2864545, 17)"
      ]
     },
     "execution_count": 2,
     "metadata": {},
     "output_type": "execute_result"
    }
   ],
   "source": [
    "df.shape"
   ]
  },
  {
   "cell_type": "markdown",
   "id": "219f2424",
   "metadata": {},
   "source": [
    "Previous versions of the dataset didn't import all the years correctly, so I'll do these sanity checks a couple of times"
   ]
  },
  {
   "cell_type": "code",
   "execution_count": 3,
   "id": "97416f0f",
   "metadata": {},
   "outputs": [
    {
     "data": {
      "text/plain": [
       "2019    592431\n",
       "2020    590210\n",
       "2021    573477\n",
       "2017    562266\n",
       "2018    546161\n",
       "Name: fiscal_year, dtype: int64"
      ]
     },
     "execution_count": 3,
     "metadata": {},
     "output_type": "execute_result"
    }
   ],
   "source": [
    "df.fiscal_year.value_counts()"
   ]
  },
  {
   "cell_type": "markdown",
   "id": "d989a3de",
   "metadata": {},
   "source": [
    "#### Cleaning the data\n",
    "\n",
    "The database includes people whose work locations are outside of NYC. For this analyses, I'm only including employees with work locations in NYC boroughs. Since Staten Island wasn't listed (unless included in the \"other\" location, this is filtered down to Queens, Manhattan, Bronx and Brooklyn."
   ]
  },
  {
   "cell_type": "code",
   "execution_count": 4,
   "id": "326687ec",
   "metadata": {},
   "outputs": [],
   "source": [
    "boroughs = ['QUEENS', 'MANHATTAN', 'BROOKLYN', 'BRONX']"
   ]
  },
  {
   "cell_type": "code",
   "execution_count": 5,
   "id": "749c9127",
   "metadata": {},
   "outputs": [],
   "source": [
    "df = df[df.work_location_borough.isin(boroughs)]"
   ]
  },
  {
   "cell_type": "code",
   "execution_count": 6,
   "id": "cf19101d",
   "metadata": {},
   "outputs": [
    {
     "data": {
      "text/plain": [
       "(2760682, 17)"
      ]
     },
     "execution_count": 6,
     "metadata": {},
     "output_type": "execute_result"
    }
   ],
   "source": [
    "df.shape"
   ]
  },
  {
   "cell_type": "markdown",
   "id": "d6a9b147",
   "metadata": {},
   "source": [
    "Note: This reduced the dataset by 103,863 rows."
   ]
  },
  {
   "cell_type": "markdown",
   "id": "231d4462",
   "metadata": {},
   "source": [
    "## A note on the assumptions I'm making here on:\n",
    "\n",
    "From our reporting, I found that some employees tend to work more overtime as they get closer to retirement. Let's take a closer look here on.\n",
    "\n"
   ]
  }
 ],
 "metadata": {
  "kernelspec": {
   "display_name": "Python 3 (ipykernel)",
   "language": "python",
   "name": "python3"
  },
  "language_info": {
   "codemirror_mode": {
    "name": "ipython",
    "version": 3
   },
   "file_extension": ".py",
   "mimetype": "text/x-python",
   "name": "python",
   "nbconvert_exporter": "python",
   "pygments_lexer": "ipython3",
   "version": "3.10.0"
  }
 },
 "nbformat": 4,
 "nbformat_minor": 5
}
