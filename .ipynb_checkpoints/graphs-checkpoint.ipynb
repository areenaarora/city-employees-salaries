{
 "cells": [
  {
   "cell_type": "code",
   "execution_count": null,
   "id": "efb79df1",
   "metadata": {},
   "outputs": [],
   "source": [
    "import pandas as pd\n",
    "df = pd.read_csv('Citywide_Payroll_Data__Fiscal_Year_.csv')\n",
    "df.columns = df.columns.str.replace(\" \", \"_\")\n",
    "df.columns = df.columns.str.replace(\"-\", \"_\")\n",
    "df.columns = df.columns.str.lower()\n",
    "pd.set_option('display.max_columns', None)\n",
    "pd.options.display.float_format = '{:,.2f}'.format"
   ]
  },
  {
   "cell_type": "markdown",
   "id": "88ea6d06",
   "metadata": {},
   "source": [
    "1. Add column for tenure years\n",
    "2. Show relationship between overtime and tenure -- scrollytelling. \n",
    "   - Use second chart to narrow down to the top three agencies that pay the most in overtime"
   ]
  },
  {
   "cell_type": "markdown",
   "id": "fd082bd0",
   "metadata": {},
   "source": [
    "#### Cleaning the data + adding a column for tenure\n",
    "\n",
    "The database includes people whose work locations are outside of NYC. For this analyses, we're only including employees with work locations in NYC boroughs. Since Staten Island wasn't listed (unless included in the \"other\" location, this is filtered down to Queens, Manhattan, Bronx and Brooklyn."
   ]
  },
  {
   "cell_type": "code",
   "execution_count": null,
   "id": "24aba14f",
   "metadata": {},
   "outputs": [],
   "source": [
    "boroughs = ['QUEENS', 'MANHATTAN', 'BROOKLYN', 'BRONX']"
   ]
  },
  {
   "cell_type": "code",
   "execution_count": null,
   "id": "db1b20cf",
   "metadata": {},
   "outputs": [],
   "source": [
    "df = df[df.work_location_borough.isin(boroughs)]"
   ]
  },
  {
   "cell_type": "code",
   "execution_count": null,
   "id": "19b649bd",
   "metadata": {},
   "outputs": [],
   "source": [
    "df['agency_start_date'] = pd.to_datetime(df.agency_start_date, errors='coerce')\n",
    "df['today'] = pd.to_datetime('today')\n",
    "df['tenure_years'] = (df.today - df.agency_start_date).astype('timedelta64[Y]')"
   ]
  },
  {
   "cell_type": "code",
   "execution_count": null,
   "id": "9d0d3d28",
   "metadata": {},
   "outputs": [],
   "source": [
    "from plotnine import *"
   ]
  },
  {
   "cell_type": "code",
   "execution_count": null,
   "id": "3a64573b",
   "metadata": {},
   "outputs": [],
   "source": [
    "(\n",
    "    ggplot(df.query('tenure_years < 75'), \n",
    "           aes(x='tenure_years', y='ot_hours', color='total_ot_paid')) +\n",
    "        geom_point(alpha=.5) +\n",
    "#         facet_grid('leave_status_as_of_june_30~fiscal_year') +\n",
    "        scale_color_gradient(low='yellow',high='red') + \n",
    "        labs(\n",
    "#             title = 'Overtime earned at NYPD, FD and Dept of Corrections',\n",
    "            y = 'Overtime hours',\n",
    "            x = 'Tenure in years'\n",
    "        ) + \n",
    "        theme(figure_size=(16,9))\n",
    "\n",
    ")    "
   ]
  },
  {
   "cell_type": "code",
   "execution_count": null,
   "id": "f6ce6c62",
   "metadata": {},
   "outputs": [],
   "source": [
    "df.query('regular_hours > 0').query('ot_hours/regular_hours>0').query('ot_hours>0').query('tenure_years < 40')"
   ]
  },
  {
   "cell_type": "code",
   "execution_count": null,
   "id": "a668643d",
   "metadata": {},
   "outputs": [],
   "source": [
    "chart = (\n",
    "    ggplot(df.query('regular_hours > 0').query('ot_hours/regular_hours>0').query('ot_hours>0').query('tenure_years < 75'), \n",
    "           aes(x='tenure_years', y='ot_hours/regular_hours')) +\n",
    "        geom_point(alpha = 0.5) +\n",
    "        geom_vline(aes(xintercept=10), color='red') +\n",
    "        geom_vline(aes(xintercept=30), color='red') +\n",
    "        labs(\n",
    "            y = 'Ratio of overtime to regular hours',\n",
    "            x = 'Tenure in years'\n",
    "        ) + \n",
    "        theme(figure_size=(10,7))\n",
    "\n",
    ")\n",
    "\n",
    "chart"
   ]
  },
  {
   "cell_type": "code",
   "execution_count": null,
   "id": "3356211b",
   "metadata": {},
   "outputs": [],
   "source": [
    "chart.save('tenure_ot.svg')"
   ]
  },
  {
   "cell_type": "code",
   "execution_count": null,
   "id": "a8209c5c",
   "metadata": {},
   "outputs": [],
   "source": []
  }
 ],
 "metadata": {
  "kernelspec": {
   "display_name": "Python 3 (ipykernel)",
   "language": "python",
   "name": "python3"
  },
  "language_info": {
   "codemirror_mode": {
    "name": "ipython",
    "version": 3
   },
   "file_extension": ".py",
   "mimetype": "text/x-python",
   "name": "python",
   "nbconvert_exporter": "python",
   "pygments_lexer": "ipython3",
   "version": "3.10.0"
  }
 },
 "nbformat": 4,
 "nbformat_minor": 5
}
