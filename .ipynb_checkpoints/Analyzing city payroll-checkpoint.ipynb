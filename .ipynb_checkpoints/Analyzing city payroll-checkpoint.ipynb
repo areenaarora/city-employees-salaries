{
 "cells": [
  {
   "cell_type": "markdown",
   "id": "17815941",
   "metadata": {},
   "source": [
    "# Analyzing New York City employees' payroll database "
   ]
  },
  {
   "cell_type": "markdown",
   "id": "1a86c451",
   "metadata": {},
   "source": [
    "## Data Source: [NYC open data](https://data.cityofnewyork.us/City-Government/Citywide-Payroll-Data-Fiscal-Year-/k397-673e/data)"
   ]
  },
  {
   "cell_type": "code",
   "execution_count": 1,
   "id": "db017eb5",
   "metadata": {},
   "outputs": [
    {
     "name": "stderr",
     "output_type": "stream",
     "text": [
      "/Users/areena.arora/.pyenv/versions/3.10.0/lib/python3.10/site-packages/pandas/compat/__init__.py:124: UserWarning: Could not import the lzma module. Your installed Python is incomplete. Attempting to use lzma compression will result in a RuntimeError.\n",
      "  warnings.warn(msg)\n"
     ]
    }
   ],
   "source": [
    "import pandas as pd\n",
    "df = pd.read_csv('Citywide_Payroll_Data__Fiscal_Year_.csv')\n",
    "df.columns = df.columns.str.replace(\" \", \"_\")\n",
    "df.columns = df.columns.str.replace(\"-\", \"_\")\n",
    "df.columns = df.columns.str.lower()\n",
    "# pd.set_option('display.max_rows', None)\n",
    "pd.set_option('display.max_columns', None)\n",
    "pd.options.display.float_format = '{:,.2f}'.format"
   ]
  },
  {
   "cell_type": "code",
   "execution_count": 2,
   "id": "92044cd1",
   "metadata": {},
   "outputs": [
    {
     "data": {
      "text/plain": [
       "(2864545, 17)"
      ]
     },
     "execution_count": 2,
     "metadata": {},
     "output_type": "execute_result"
    }
   ],
   "source": [
    "df.shape"
   ]
  },
  {
   "cell_type": "markdown",
   "id": "219f2424",
   "metadata": {},
   "source": [
    "Previous versions of the dataset didn't import all the years correctly, so I'll do these sanity checks a couple of times"
   ]
  },
  {
   "cell_type": "code",
   "execution_count": 3,
   "id": "97416f0f",
   "metadata": {},
   "outputs": [
    {
     "data": {
      "text/plain": [
       "2019    592431\n",
       "2020    590210\n",
       "2021    573477\n",
       "2017    562266\n",
       "2018    546161\n",
       "Name: fiscal_year, dtype: int64"
      ]
     },
     "execution_count": 3,
     "metadata": {},
     "output_type": "execute_result"
    }
   ],
   "source": [
    "df.fiscal_year.value_counts()"
   ]
  },
  {
   "cell_type": "markdown",
   "id": "d989a3de",
   "metadata": {},
   "source": [
    "#### Cleaning the data\n",
    "\n",
    "The database includes people whose work locations are outside of NYC. For this analyses, I'm only including employees with work locations in NYC boroughs. Since Staten Island wasn't listed (unless included in the \"other\" location, this is filtered down to Queens, Manhattan, Bronx and Brooklyn."
   ]
  },
  {
   "cell_type": "code",
   "execution_count": 4,
   "id": "326687ec",
   "metadata": {},
   "outputs": [],
   "source": [
    "boroughs = ['QUEENS', 'MANHATTAN', 'BROOKLYN', 'BRONX']"
   ]
  },
  {
   "cell_type": "code",
   "execution_count": 5,
   "id": "749c9127",
   "metadata": {},
   "outputs": [],
   "source": [
    "df = df[df.work_location_borough.isin(boroughs)]"
   ]
  },
  {
   "cell_type": "code",
   "execution_count": 6,
   "id": "cf19101d",
   "metadata": {},
   "outputs": [
    {
     "data": {
      "text/plain": [
       "(2760682, 17)"
      ]
     },
     "execution_count": 6,
     "metadata": {},
     "output_type": "execute_result"
    }
   ],
   "source": [
    "df.shape"
   ]
  },
  {
   "cell_type": "markdown",
   "id": "d6a9b147",
   "metadata": {},
   "source": [
    "Note: This reduced the dataset by 103,863 rows."
   ]
  },
  {
   "cell_type": "code",
   "execution_count": 7,
   "id": "f9dbd430",
   "metadata": {},
   "outputs": [
    {
     "data": {
      "text/html": [
       "<div>\n",
       "<style scoped>\n",
       "    .dataframe tbody tr th:only-of-type {\n",
       "        vertical-align: middle;\n",
       "    }\n",
       "\n",
       "    .dataframe tbody tr th {\n",
       "        vertical-align: top;\n",
       "    }\n",
       "\n",
       "    .dataframe thead th {\n",
       "        text-align: right;\n",
       "    }\n",
       "</style>\n",
       "<table border=\"1\" class=\"dataframe\">\n",
       "  <thead>\n",
       "    <tr style=\"text-align: right;\">\n",
       "      <th></th>\n",
       "      <th>fiscal_year</th>\n",
       "      <th>payroll_number</th>\n",
       "      <th>agency_name</th>\n",
       "      <th>last_name</th>\n",
       "      <th>first_name</th>\n",
       "      <th>mid_init</th>\n",
       "      <th>agency_start_date</th>\n",
       "      <th>work_location_borough</th>\n",
       "      <th>title_description</th>\n",
       "      <th>leave_status_as_of_june_30</th>\n",
       "      <th>base_salary</th>\n",
       "      <th>pay_basis</th>\n",
       "      <th>regular_hours</th>\n",
       "      <th>regular_gross_paid</th>\n",
       "      <th>ot_hours</th>\n",
       "      <th>total_ot_paid</th>\n",
       "      <th>total_other_pay</th>\n",
       "    </tr>\n",
       "  </thead>\n",
       "  <tbody>\n",
       "    <tr>\n",
       "      <th>0</th>\n",
       "      <td>2017</td>\n",
       "      <td>NaN</td>\n",
       "      <td>ADMIN FOR CHILDREN'S SVCS</td>\n",
       "      <td>AARON</td>\n",
       "      <td>TERESA</td>\n",
       "      <td>NaN</td>\n",
       "      <td>03/21/2016</td>\n",
       "      <td>BRONX</td>\n",
       "      <td>CHILD PROTECTIVE SPECIALIST</td>\n",
       "      <td>ACTIVE</td>\n",
       "      <td>51,315.00</td>\n",
       "      <td>per Annum</td>\n",
       "      <td>1,825.00</td>\n",
       "      <td>51,709.59</td>\n",
       "      <td>588.00</td>\n",
       "      <td>22,374.31</td>\n",
       "      <td>639.66</td>\n",
       "    </tr>\n",
       "    <tr>\n",
       "      <th>1</th>\n",
       "      <td>2017</td>\n",
       "      <td>NaN</td>\n",
       "      <td>ADMIN FOR CHILDREN'S SVCS</td>\n",
       "      <td>AARONS</td>\n",
       "      <td>CAMELIA</td>\n",
       "      <td>M</td>\n",
       "      <td>08/08/2016</td>\n",
       "      <td>BROOKLYN</td>\n",
       "      <td>CHILD PROTECTIVE SPECIALIST</td>\n",
       "      <td>ACTIVE</td>\n",
       "      <td>51,315.00</td>\n",
       "      <td>per Annum</td>\n",
       "      <td>1,595.55</td>\n",
       "      <td>41,960.18</td>\n",
       "      <td>121.75</td>\n",
       "      <td>3,892.19</td>\n",
       "      <td>108.25</td>\n",
       "    </tr>\n",
       "    <tr>\n",
       "      <th>2</th>\n",
       "      <td>2017</td>\n",
       "      <td>NaN</td>\n",
       "      <td>ADMIN FOR CHILDREN'S SVCS</td>\n",
       "      <td>ABDUL</td>\n",
       "      <td>MODUPE</td>\n",
       "      <td>NaN</td>\n",
       "      <td>02/11/2008</td>\n",
       "      <td>BROOKLYN</td>\n",
       "      <td>CHILD PROTECTIVE SPECIALIST</td>\n",
       "      <td>ACTIVE</td>\n",
       "      <td>54,720.00</td>\n",
       "      <td>per Annum</td>\n",
       "      <td>1,825.00</td>\n",
       "      <td>56,298.93</td>\n",
       "      <td>54.75</td>\n",
       "      <td>2,455.88</td>\n",
       "      <td>3,938.75</td>\n",
       "    </tr>\n",
       "    <tr>\n",
       "      <th>3</th>\n",
       "      <td>2017</td>\n",
       "      <td>NaN</td>\n",
       "      <td>ADMIN FOR CHILDREN'S SVCS</td>\n",
       "      <td>ABDUL RAHMAN</td>\n",
       "      <td>ABDUL AZIZ</td>\n",
       "      <td>I</td>\n",
       "      <td>10/20/2014</td>\n",
       "      <td>MANHATTAN</td>\n",
       "      <td>CHILD PROTECTIVE SPECIALIST</td>\n",
       "      <td>ACTIVE</td>\n",
       "      <td>54,720.00</td>\n",
       "      <td>per Annum</td>\n",
       "      <td>1,825.00</td>\n",
       "      <td>55,346.09</td>\n",
       "      <td>273.00</td>\n",
       "      <td>11,069.41</td>\n",
       "      <td>1,124.51</td>\n",
       "    </tr>\n",
       "    <tr>\n",
       "      <th>4</th>\n",
       "      <td>2017</td>\n",
       "      <td>NaN</td>\n",
       "      <td>ADMIN FOR CHILDREN'S SVCS</td>\n",
       "      <td>ABDULGANIYU</td>\n",
       "      <td>MONSURAT</td>\n",
       "      <td>A</td>\n",
       "      <td>02/04/2013</td>\n",
       "      <td>BRONX</td>\n",
       "      <td>JUVENILE COUNSELOR</td>\n",
       "      <td>ACTIVE</td>\n",
       "      <td>44,409.00</td>\n",
       "      <td>per Annum</td>\n",
       "      <td>1,762.00</td>\n",
       "      <td>44,157.49</td>\n",
       "      <td>815.50</td>\n",
       "      <td>27,878.15</td>\n",
       "      <td>2,019.34</td>\n",
       "    </tr>\n",
       "  </tbody>\n",
       "</table>\n",
       "</div>"
      ],
      "text/plain": [
       "   fiscal_year  payroll_number                agency_name     last_name  \\\n",
       "0         2017             NaN  ADMIN FOR CHILDREN'S SVCS         AARON   \n",
       "1         2017             NaN  ADMIN FOR CHILDREN'S SVCS        AARONS   \n",
       "2         2017             NaN  ADMIN FOR CHILDREN'S SVCS         ABDUL   \n",
       "3         2017             NaN  ADMIN FOR CHILDREN'S SVCS  ABDUL RAHMAN   \n",
       "4         2017             NaN  ADMIN FOR CHILDREN'S SVCS   ABDULGANIYU   \n",
       "\n",
       "   first_name mid_init agency_start_date work_location_borough  \\\n",
       "0      TERESA      NaN        03/21/2016                 BRONX   \n",
       "1     CAMELIA        M        08/08/2016              BROOKLYN   \n",
       "2      MODUPE      NaN        02/11/2008              BROOKLYN   \n",
       "3  ABDUL AZIZ        I        10/20/2014             MANHATTAN   \n",
       "4    MONSURAT        A        02/04/2013                 BRONX   \n",
       "\n",
       "             title_description leave_status_as_of_june_30  base_salary  \\\n",
       "0  CHILD PROTECTIVE SPECIALIST                     ACTIVE    51,315.00   \n",
       "1  CHILD PROTECTIVE SPECIALIST                     ACTIVE    51,315.00   \n",
       "2  CHILD PROTECTIVE SPECIALIST                     ACTIVE    54,720.00   \n",
       "3  CHILD PROTECTIVE SPECIALIST                     ACTIVE    54,720.00   \n",
       "4           JUVENILE COUNSELOR                     ACTIVE    44,409.00   \n",
       "\n",
       "   pay_basis  regular_hours  regular_gross_paid  ot_hours  total_ot_paid  \\\n",
       "0  per Annum       1,825.00           51,709.59    588.00      22,374.31   \n",
       "1  per Annum       1,595.55           41,960.18    121.75       3,892.19   \n",
       "2  per Annum       1,825.00           56,298.93     54.75       2,455.88   \n",
       "3  per Annum       1,825.00           55,346.09    273.00      11,069.41   \n",
       "4  per Annum       1,762.00           44,157.49    815.50      27,878.15   \n",
       "\n",
       "   total_other_pay  \n",
       "0           639.66  \n",
       "1           108.25  \n",
       "2         3,938.75  \n",
       "3         1,124.51  \n",
       "4         2,019.34  "
      ]
     },
     "execution_count": 7,
     "metadata": {},
     "output_type": "execute_result"
    }
   ],
   "source": [
    "df.head(5)"
   ]
  },
  {
   "cell_type": "code",
   "execution_count": null,
   "id": "8766fdda",
   "metadata": {},
   "outputs": [],
   "source": [
    "chart = (\n",
    "    ggplot(df.query('ot_hours > 0'),\n",
    "        aes('total_ot_paid', 'ot_hours'))\n",
    "        + geom_point()\n",
    ")\n",
    "chart"
   ]
  },
  {
   "cell_type": "markdown",
   "id": "231d4462",
   "metadata": {},
   "source": [
    "## A note on the assumptions I'm making here on:\n",
    "\n",
    "1. From our previous analyses, \n",
    "we found that some employees tend to work more overtime \n",
    "\n"
   ]
  }
 ],
 "metadata": {
  "kernelspec": {
   "display_name": "Python 3 (ipykernel)",
   "language": "python",
   "name": "python3"
  },
  "language_info": {
   "codemirror_mode": {
    "name": "ipython",
    "version": 3
   },
   "file_extension": ".py",
   "mimetype": "text/x-python",
   "name": "python",
   "nbconvert_exporter": "python",
   "pygments_lexer": "ipython3",
   "version": "3.10.0"
  }
 },
 "nbformat": 4,
 "nbformat_minor": 5
}
