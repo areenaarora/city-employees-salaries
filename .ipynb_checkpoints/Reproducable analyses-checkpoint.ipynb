{
 "cells": [
  {
   "cell_type": "markdown",
   "id": "501a87c2",
   "metadata": {},
   "source": [
    "# Instructions\n",
    "\n",
    "### 1. If you're comfortable running Python code on Jupyter Notebooks, continue ahead!\n",
    "\n",
    "### 2. If not, read the [instruction doc](https://github.com/areenaarora) first please :)"
   ]
  },
  {
   "cell_type": "markdown",
   "id": "6809006b",
   "metadata": {},
   "source": [
    "### Here's a list of some basic questions you could ask your local agencies."
   ]
  },
  {
   "cell_type": "markdown",
   "id": "a46fc30e",
   "metadata": {},
   "source": [
    "### Load the csv you need to analyze."
   ]
  },
  {
   "cell_type": "code",
   "execution_count": 1,
   "id": "5b4cc21e",
   "metadata": {},
   "outputs": [
    {
     "name": "stderr",
     "output_type": "stream",
     "text": [
      "/Users/areena.arora/.pyenv/versions/3.10.0/lib/python3.10/site-packages/pandas/compat/__init__.py:124: UserWarning: Could not import the lzma module. Your installed Python is incomplete. Attempting to use lzma compression will result in a RuntimeError.\n",
      "  warnings.warn(msg)\n"
     ]
    }
   ],
   "source": [
    "import pandas as pd\n",
    "df = pd.read_csv(\"Citywide_Payroll_Data__Fiscal_Year_.csv\") # --> Replace this with the name of your csv\n",
    "df.columns = df.columns.str.replace(\" \", \"_\")\n",
    "df.columns = df.columns.str.replace(\"-\", \"_\")\n",
    "df.columns = df.columns.str.lower()\n",
    "pd.set_option('display.max_columns', None)\n",
    "pd.options.display.float_format = '{:,.2f}'.format"
   ]
  },
  {
   "cell_type": "markdown",
   "id": "49a753e5",
   "metadata": {},
   "source": [
    "#### Familiarize yourself with the dataset"
   ]
  },
  {
   "cell_type": "code",
   "execution_count": 2,
   "id": "76821cee",
   "metadata": {},
   "outputs": [
    {
     "data": {
      "text/html": [
       "<div>\n",
       "<style scoped>\n",
       "    .dataframe tbody tr th:only-of-type {\n",
       "        vertical-align: middle;\n",
       "    }\n",
       "\n",
       "    .dataframe tbody tr th {\n",
       "        vertical-align: top;\n",
       "    }\n",
       "\n",
       "    .dataframe thead th {\n",
       "        text-align: right;\n",
       "    }\n",
       "</style>\n",
       "<table border=\"1\" class=\"dataframe\">\n",
       "  <thead>\n",
       "    <tr style=\"text-align: right;\">\n",
       "      <th></th>\n",
       "      <th>fiscal_year</th>\n",
       "      <th>payroll_number</th>\n",
       "      <th>agency_name</th>\n",
       "      <th>last_name</th>\n",
       "      <th>first_name</th>\n",
       "      <th>mid_init</th>\n",
       "      <th>agency_start_date</th>\n",
       "      <th>work_location_borough</th>\n",
       "      <th>title_description</th>\n",
       "      <th>leave_status_as_of_june_30</th>\n",
       "      <th>base_salary</th>\n",
       "      <th>pay_basis</th>\n",
       "      <th>regular_hours</th>\n",
       "      <th>regular_gross_paid</th>\n",
       "      <th>ot_hours</th>\n",
       "      <th>total_ot_paid</th>\n",
       "      <th>total_other_pay</th>\n",
       "    </tr>\n",
       "  </thead>\n",
       "  <tbody>\n",
       "    <tr>\n",
       "      <th>0</th>\n",
       "      <td>2017</td>\n",
       "      <td>NaN</td>\n",
       "      <td>ADMIN FOR CHILDREN'S SVCS</td>\n",
       "      <td>AARON</td>\n",
       "      <td>TERESA</td>\n",
       "      <td>NaN</td>\n",
       "      <td>03/21/2016</td>\n",
       "      <td>BRONX</td>\n",
       "      <td>CHILD PROTECTIVE SPECIALIST</td>\n",
       "      <td>ACTIVE</td>\n",
       "      <td>51,315.00</td>\n",
       "      <td>per Annum</td>\n",
       "      <td>1,825.00</td>\n",
       "      <td>51,709.59</td>\n",
       "      <td>588.00</td>\n",
       "      <td>22,374.31</td>\n",
       "      <td>639.66</td>\n",
       "    </tr>\n",
       "    <tr>\n",
       "      <th>1</th>\n",
       "      <td>2017</td>\n",
       "      <td>NaN</td>\n",
       "      <td>ADMIN FOR CHILDREN'S SVCS</td>\n",
       "      <td>AARONS</td>\n",
       "      <td>CAMELIA</td>\n",
       "      <td>M</td>\n",
       "      <td>08/08/2016</td>\n",
       "      <td>BROOKLYN</td>\n",
       "      <td>CHILD PROTECTIVE SPECIALIST</td>\n",
       "      <td>ACTIVE</td>\n",
       "      <td>51,315.00</td>\n",
       "      <td>per Annum</td>\n",
       "      <td>1,595.55</td>\n",
       "      <td>41,960.18</td>\n",
       "      <td>121.75</td>\n",
       "      <td>3,892.19</td>\n",
       "      <td>108.25</td>\n",
       "    </tr>\n",
       "    <tr>\n",
       "      <th>2</th>\n",
       "      <td>2017</td>\n",
       "      <td>NaN</td>\n",
       "      <td>ADMIN FOR CHILDREN'S SVCS</td>\n",
       "      <td>ABDUL</td>\n",
       "      <td>MODUPE</td>\n",
       "      <td>NaN</td>\n",
       "      <td>02/11/2008</td>\n",
       "      <td>BROOKLYN</td>\n",
       "      <td>CHILD PROTECTIVE SPECIALIST</td>\n",
       "      <td>ACTIVE</td>\n",
       "      <td>54,720.00</td>\n",
       "      <td>per Annum</td>\n",
       "      <td>1,825.00</td>\n",
       "      <td>56,298.93</td>\n",
       "      <td>54.75</td>\n",
       "      <td>2,455.88</td>\n",
       "      <td>3,938.75</td>\n",
       "    </tr>\n",
       "  </tbody>\n",
       "</table>\n",
       "</div>"
      ],
      "text/plain": [
       "   fiscal_year  payroll_number                agency_name last_name  \\\n",
       "0         2017             NaN  ADMIN FOR CHILDREN'S SVCS     AARON   \n",
       "1         2017             NaN  ADMIN FOR CHILDREN'S SVCS    AARONS   \n",
       "2         2017             NaN  ADMIN FOR CHILDREN'S SVCS     ABDUL   \n",
       "\n",
       "  first_name mid_init agency_start_date work_location_borough  \\\n",
       "0     TERESA      NaN        03/21/2016                 BRONX   \n",
       "1    CAMELIA        M        08/08/2016              BROOKLYN   \n",
       "2     MODUPE      NaN        02/11/2008              BROOKLYN   \n",
       "\n",
       "             title_description leave_status_as_of_june_30  base_salary  \\\n",
       "0  CHILD PROTECTIVE SPECIALIST                     ACTIVE    51,315.00   \n",
       "1  CHILD PROTECTIVE SPECIALIST                     ACTIVE    51,315.00   \n",
       "2  CHILD PROTECTIVE SPECIALIST                     ACTIVE    54,720.00   \n",
       "\n",
       "   pay_basis  regular_hours  regular_gross_paid  ot_hours  total_ot_paid  \\\n",
       "0  per Annum       1,825.00           51,709.59    588.00      22,374.31   \n",
       "1  per Annum       1,595.55           41,960.18    121.75       3,892.19   \n",
       "2  per Annum       1,825.00           56,298.93     54.75       2,455.88   \n",
       "\n",
       "   total_other_pay  \n",
       "0           639.66  \n",
       "1           108.25  \n",
       "2         3,938.75  "
      ]
     },
     "execution_count": 2,
     "metadata": {},
     "output_type": "execute_result"
    }
   ],
   "source": [
    "df.head(3)"
   ]
  },
  {
   "cell_type": "markdown",
   "id": "46ad7217",
   "metadata": {},
   "source": [
    "#### Clean the data!\n",
    "\n",
    "You might need to make some editorial choices here. In this case, I'm keeping data only for employees who worked in New York City. Since the csv has enmployees who are on city payroll but work in other places — Washington DC, for instance, this will trim the data significantly."
   ]
  },
  {
   "cell_type": "code",
   "execution_count": 3,
   "id": "2ef2f957",
   "metadata": {},
   "outputs": [
    {
     "data": {
      "text/plain": [
       "(2864545, 17)"
      ]
     },
     "execution_count": 3,
     "metadata": {},
     "output_type": "execute_result"
    }
   ],
   "source": [
    "df.shape"
   ]
  },
  {
   "cell_type": "code",
   "execution_count": 4,
   "id": "5e52a277",
   "metadata": {},
   "outputs": [],
   "source": [
    "boroughs = ['QUEENS', 'MANHATTAN', 'BROOKLYN', 'BRONX']\n",
    "df = df[df.work_location_borough.isin(boroughs)]"
   ]
  },
  {
   "cell_type": "code",
   "execution_count": 5,
   "id": "161e553c",
   "metadata": {},
   "outputs": [
    {
     "data": {
      "text/plain": [
       "(2760682, 17)"
      ]
     },
     "execution_count": 5,
     "metadata": {},
     "output_type": "execute_result"
    }
   ],
   "source": [
    "df.shape"
   ]
  },
  {
   "cell_type": "markdown",
   "id": "5779adc3",
   "metadata": {},
   "source": [
    "Note: This reduced the dataset by 103,863 rows."
   ]
  },
  {
   "cell_type": "markdown",
   "id": "deef6d20",
   "metadata": {},
   "source": [
    "#### 📝 Another editorial choice\n",
    "\n",
    "\n",
    "I'm making a new column called total pay to add up overtime, gross and other pay. This might/might not be applicable depending on how your dataset is coded."
   ]
  },
  {
   "cell_type": "markdown",
   "id": "a96d37ee",
   "metadata": {},
   "source": [
    "### 🤔 First question\n",
    "#### Who are the top three earners across the entire dataset? Note that this could be the same employee if the data spans various years"
   ]
  },
  {
   "cell_type": "code",
   "execution_count": 6,
   "id": "695504fc",
   "metadata": {
    "scrolled": true
   },
   "outputs": [
    {
     "data": {
      "text/html": [
       "<div>\n",
       "<style scoped>\n",
       "    .dataframe tbody tr th:only-of-type {\n",
       "        vertical-align: middle;\n",
       "    }\n",
       "\n",
       "    .dataframe tbody tr th {\n",
       "        vertical-align: top;\n",
       "    }\n",
       "\n",
       "    .dataframe thead th {\n",
       "        text-align: right;\n",
       "    }\n",
       "</style>\n",
       "<table border=\"1\" class=\"dataframe\">\n",
       "  <thead>\n",
       "    <tr style=\"text-align: right;\">\n",
       "      <th></th>\n",
       "      <th>fiscal_year</th>\n",
       "      <th>payroll_number</th>\n",
       "      <th>agency_name</th>\n",
       "      <th>last_name</th>\n",
       "      <th>first_name</th>\n",
       "      <th>mid_init</th>\n",
       "      <th>agency_start_date</th>\n",
       "      <th>work_location_borough</th>\n",
       "      <th>title_description</th>\n",
       "      <th>leave_status_as_of_june_30</th>\n",
       "      <th>base_salary</th>\n",
       "      <th>pay_basis</th>\n",
       "      <th>regular_hours</th>\n",
       "      <th>regular_gross_paid</th>\n",
       "      <th>ot_hours</th>\n",
       "      <th>total_ot_paid</th>\n",
       "      <th>total_other_pay</th>\n",
       "      <th>total_pay</th>\n",
       "    </tr>\n",
       "  </thead>\n",
       "  <tbody>\n",
       "    <tr>\n",
       "      <th>1705625</th>\n",
       "      <td>2020</td>\n",
       "      <td>56.00</td>\n",
       "      <td>POLICE DEPARTMENT</td>\n",
       "      <td>MORALES</td>\n",
       "      <td>JOSE</td>\n",
       "      <td>NaN</td>\n",
       "      <td>12/20/1998</td>\n",
       "      <td>MANHATTAN</td>\n",
       "      <td>SUPERVISOR OF SCHOOL SECURITY</td>\n",
       "      <td>CEASED</td>\n",
       "      <td>57,813.00</td>\n",
       "      <td>per Annum</td>\n",
       "      <td>0.00</td>\n",
       "      <td>0.00</td>\n",
       "      <td>0.00</td>\n",
       "      <td>0.00</td>\n",
       "      <td>650,000.00</td>\n",
       "      <td>650,000.00</td>\n",
       "    </tr>\n",
       "    <tr>\n",
       "      <th>979064</th>\n",
       "      <td>2018</td>\n",
       "      <td>826.00</td>\n",
       "      <td>DEPT OF ENVIRONMENT PROTECTION</td>\n",
       "      <td>LAUDANDO</td>\n",
       "      <td>CHRISTOPHER</td>\n",
       "      <td>NaN</td>\n",
       "      <td>04/26/1993</td>\n",
       "      <td>BROOKLYN</td>\n",
       "      <td>SENIOR STATIONARY ENGINEER</td>\n",
       "      <td>ACTIVE</td>\n",
       "      <td>575.52</td>\n",
       "      <td>per Day</td>\n",
       "      <td>2,045.72</td>\n",
       "      <td>362,522.47</td>\n",
       "      <td>767.50</td>\n",
       "      <td>153,226.04</td>\n",
       "      <td>563.00</td>\n",
       "      <td>516,311.51</td>\n",
       "    </tr>\n",
       "    <tr>\n",
       "      <th>2291068</th>\n",
       "      <td>2021</td>\n",
       "      <td>996.00</td>\n",
       "      <td>NYC HOUSING AUTHORITY</td>\n",
       "      <td>MUSTACIUOLO</td>\n",
       "      <td>VITO</td>\n",
       "      <td>J</td>\n",
       "      <td>02/26/2018</td>\n",
       "      <td>MANHATTAN</td>\n",
       "      <td>EXECUTIVE DIRECTOR</td>\n",
       "      <td>ACTIVE</td>\n",
       "      <td>258,000.00</td>\n",
       "      <td>per Annum</td>\n",
       "      <td>1,820.00</td>\n",
       "      <td>257,260.30</td>\n",
       "      <td>0.00</td>\n",
       "      <td>0.00</td>\n",
       "      <td>258,000.00</td>\n",
       "      <td>515,260.30</td>\n",
       "    </tr>\n",
       "  </tbody>\n",
       "</table>\n",
       "</div>"
      ],
      "text/plain": [
       "         fiscal_year  payroll_number                     agency_name  \\\n",
       "1705625         2020           56.00               POLICE DEPARTMENT   \n",
       "979064          2018          826.00  DEPT OF ENVIRONMENT PROTECTION   \n",
       "2291068         2021          996.00           NYC HOUSING AUTHORITY   \n",
       "\n",
       "           last_name   first_name mid_init agency_start_date  \\\n",
       "1705625      MORALES         JOSE      NaN        12/20/1998   \n",
       "979064      LAUDANDO  CHRISTOPHER      NaN        04/26/1993   \n",
       "2291068  MUSTACIUOLO         VITO        J        02/26/2018   \n",
       "\n",
       "        work_location_borough              title_description  \\\n",
       "1705625             MANHATTAN  SUPERVISOR OF SCHOOL SECURITY   \n",
       "979064               BROOKLYN     SENIOR STATIONARY ENGINEER   \n",
       "2291068             MANHATTAN             EXECUTIVE DIRECTOR   \n",
       "\n",
       "        leave_status_as_of_june_30  base_salary  pay_basis  regular_hours  \\\n",
       "1705625                     CEASED    57,813.00  per Annum           0.00   \n",
       "979064                      ACTIVE       575.52    per Day       2,045.72   \n",
       "2291068                     ACTIVE   258,000.00  per Annum       1,820.00   \n",
       "\n",
       "         regular_gross_paid  ot_hours  total_ot_paid  total_other_pay  \\\n",
       "1705625                0.00      0.00           0.00       650,000.00   \n",
       "979064           362,522.47    767.50     153,226.04           563.00   \n",
       "2291068          257,260.30      0.00           0.00       258,000.00   \n",
       "\n",
       "         total_pay  \n",
       "1705625 650,000.00  \n",
       "979064  516,311.51  \n",
       "2291068 515,260.30  "
      ]
     },
     "execution_count": 6,
     "metadata": {},
     "output_type": "execute_result"
    }
   ],
   "source": [
    "df['total_pay'] = df.regular_gross_paid + df.total_ot_paid + df.total_other_pay\n",
    "df.sort_values(by='total_pay', ascending = False).head(3) "
   ]
  },
  {
   "cell_type": "markdown",
   "id": "1352968f",
   "metadata": {},
   "source": [
    "Note here the top three employees' salaries represent three different fiscal year. So. Let's sort to see highest earners each year"
   ]
  },
  {
   "cell_type": "code",
   "execution_count": 7,
   "id": "d102498f",
   "metadata": {},
   "outputs": [
    {
     "data": {
      "text/html": [
       "<div>\n",
       "<style scoped>\n",
       "    .dataframe tbody tr th:only-of-type {\n",
       "        vertical-align: middle;\n",
       "    }\n",
       "\n",
       "    .dataframe tbody tr th {\n",
       "        vertical-align: top;\n",
       "    }\n",
       "\n",
       "    .dataframe thead th {\n",
       "        text-align: right;\n",
       "    }\n",
       "</style>\n",
       "<table border=\"1\" class=\"dataframe\">\n",
       "  <thead>\n",
       "    <tr style=\"text-align: right;\">\n",
       "      <th></th>\n",
       "      <th>fiscal_year</th>\n",
       "      <th>payroll_number</th>\n",
       "      <th>agency_name</th>\n",
       "      <th>last_name</th>\n",
       "      <th>first_name</th>\n",
       "      <th>mid_init</th>\n",
       "      <th>agency_start_date</th>\n",
       "      <th>work_location_borough</th>\n",
       "      <th>title_description</th>\n",
       "      <th>leave_status_as_of_june_30</th>\n",
       "      <th>base_salary</th>\n",
       "      <th>pay_basis</th>\n",
       "      <th>regular_hours</th>\n",
       "      <th>regular_gross_paid</th>\n",
       "      <th>ot_hours</th>\n",
       "      <th>total_ot_paid</th>\n",
       "      <th>total_other_pay</th>\n",
       "      <th>total_pay</th>\n",
       "    </tr>\n",
       "  </thead>\n",
       "  <tbody>\n",
       "    <tr>\n",
       "      <th>1705625</th>\n",
       "      <td>2020</td>\n",
       "      <td>56.00</td>\n",
       "      <td>POLICE DEPARTMENT</td>\n",
       "      <td>MORALES</td>\n",
       "      <td>JOSE</td>\n",
       "      <td>NaN</td>\n",
       "      <td>12/20/1998</td>\n",
       "      <td>MANHATTAN</td>\n",
       "      <td>SUPERVISOR OF SCHOOL SECURITY</td>\n",
       "      <td>CEASED</td>\n",
       "      <td>57,813.00</td>\n",
       "      <td>per Annum</td>\n",
       "      <td>0.00</td>\n",
       "      <td>0.00</td>\n",
       "      <td>0.00</td>\n",
       "      <td>0.00</td>\n",
       "      <td>650,000.00</td>\n",
       "      <td>650,000.00</td>\n",
       "    </tr>\n",
       "    <tr>\n",
       "      <th>979064</th>\n",
       "      <td>2018</td>\n",
       "      <td>826.00</td>\n",
       "      <td>DEPT OF ENVIRONMENT PROTECTION</td>\n",
       "      <td>LAUDANDO</td>\n",
       "      <td>CHRISTOPHER</td>\n",
       "      <td>NaN</td>\n",
       "      <td>04/26/1993</td>\n",
       "      <td>BROOKLYN</td>\n",
       "      <td>SENIOR STATIONARY ENGINEER</td>\n",
       "      <td>ACTIVE</td>\n",
       "      <td>575.52</td>\n",
       "      <td>per Day</td>\n",
       "      <td>2,045.72</td>\n",
       "      <td>362,522.47</td>\n",
       "      <td>767.50</td>\n",
       "      <td>153,226.04</td>\n",
       "      <td>563.00</td>\n",
       "      <td>516,311.51</td>\n",
       "    </tr>\n",
       "    <tr>\n",
       "      <th>2291068</th>\n",
       "      <td>2021</td>\n",
       "      <td>996.00</td>\n",
       "      <td>NYC HOUSING AUTHORITY</td>\n",
       "      <td>MUSTACIUOLO</td>\n",
       "      <td>VITO</td>\n",
       "      <td>J</td>\n",
       "      <td>02/26/2018</td>\n",
       "      <td>MANHATTAN</td>\n",
       "      <td>EXECUTIVE DIRECTOR</td>\n",
       "      <td>ACTIVE</td>\n",
       "      <td>258,000.00</td>\n",
       "      <td>per Annum</td>\n",
       "      <td>1,820.00</td>\n",
       "      <td>257,260.30</td>\n",
       "      <td>0.00</td>\n",
       "      <td>0.00</td>\n",
       "      <td>258,000.00</td>\n",
       "      <td>515,260.30</td>\n",
       "    </tr>\n",
       "    <tr>\n",
       "      <th>1117631</th>\n",
       "      <td>2019</td>\n",
       "      <td>57.00</td>\n",
       "      <td>FIRE DEPARTMENT</td>\n",
       "      <td>PHILLIPS</td>\n",
       "      <td>LYNDELLE</td>\n",
       "      <td>T</td>\n",
       "      <td>06/05/2006</td>\n",
       "      <td>BROOKLYN</td>\n",
       "      <td>ADMINISTRATIVE STAFF ANALYST</td>\n",
       "      <td>CEASED</td>\n",
       "      <td>129,611.00</td>\n",
       "      <td>per Annum</td>\n",
       "      <td>140.00</td>\n",
       "      <td>500,000.00</td>\n",
       "      <td>0.00</td>\n",
       "      <td>0.00</td>\n",
       "      <td>0.00</td>\n",
       "      <td>500,000.00</td>\n",
       "    </tr>\n",
       "    <tr>\n",
       "      <th>96181</th>\n",
       "      <td>2017</td>\n",
       "      <td>NaN</td>\n",
       "      <td>DEPARTMENT OF CORRECTION</td>\n",
       "      <td>GRABOWSKI</td>\n",
       "      <td>GREGORY</td>\n",
       "      <td>G</td>\n",
       "      <td>06/01/2000</td>\n",
       "      <td>QUEENS</td>\n",
       "      <td>CORRECTION OFFICER</td>\n",
       "      <td>ACTIVE</td>\n",
       "      <td>82,808.00</td>\n",
       "      <td>per Annum</td>\n",
       "      <td>2,085.72</td>\n",
       "      <td>334,891.10</td>\n",
       "      <td>60.55</td>\n",
       "      <td>1,585.68</td>\n",
       "      <td>37,427.32</td>\n",
       "      <td>373,904.10</td>\n",
       "    </tr>\n",
       "  </tbody>\n",
       "</table>\n",
       "</div>"
      ],
      "text/plain": [
       "         fiscal_year  payroll_number                     agency_name  \\\n",
       "1705625         2020           56.00               POLICE DEPARTMENT   \n",
       "979064          2018          826.00  DEPT OF ENVIRONMENT PROTECTION   \n",
       "2291068         2021          996.00           NYC HOUSING AUTHORITY   \n",
       "1117631         2019           57.00                 FIRE DEPARTMENT   \n",
       "96181           2017             NaN        DEPARTMENT OF CORRECTION   \n",
       "\n",
       "           last_name   first_name mid_init agency_start_date  \\\n",
       "1705625      MORALES         JOSE      NaN        12/20/1998   \n",
       "979064      LAUDANDO  CHRISTOPHER      NaN        04/26/1993   \n",
       "2291068  MUSTACIUOLO         VITO        J        02/26/2018   \n",
       "1117631     PHILLIPS     LYNDELLE        T        06/05/2006   \n",
       "96181      GRABOWSKI      GREGORY        G        06/01/2000   \n",
       "\n",
       "        work_location_borough              title_description  \\\n",
       "1705625             MANHATTAN  SUPERVISOR OF SCHOOL SECURITY   \n",
       "979064               BROOKLYN     SENIOR STATIONARY ENGINEER   \n",
       "2291068             MANHATTAN             EXECUTIVE DIRECTOR   \n",
       "1117631              BROOKLYN   ADMINISTRATIVE STAFF ANALYST   \n",
       "96181                  QUEENS             CORRECTION OFFICER   \n",
       "\n",
       "        leave_status_as_of_june_30  base_salary  pay_basis  regular_hours  \\\n",
       "1705625                     CEASED    57,813.00  per Annum           0.00   \n",
       "979064                      ACTIVE       575.52    per Day       2,045.72   \n",
       "2291068                     ACTIVE   258,000.00  per Annum       1,820.00   \n",
       "1117631                     CEASED   129,611.00  per Annum         140.00   \n",
       "96181                       ACTIVE    82,808.00  per Annum       2,085.72   \n",
       "\n",
       "         regular_gross_paid  ot_hours  total_ot_paid  total_other_pay  \\\n",
       "1705625                0.00      0.00           0.00       650,000.00   \n",
       "979064           362,522.47    767.50     153,226.04           563.00   \n",
       "2291068          257,260.30      0.00           0.00       258,000.00   \n",
       "1117631          500,000.00      0.00           0.00             0.00   \n",
       "96181            334,891.10     60.55       1,585.68        37,427.32   \n",
       "\n",
       "         total_pay  \n",
       "1705625 650,000.00  \n",
       "979064  516,311.51  \n",
       "2291068 515,260.30  \n",
       "1117631 500,000.00  \n",
       "96181   373,904.10  "
      ]
     },
     "execution_count": 7,
     "metadata": {},
     "output_type": "execute_result"
    }
   ],
   "source": [
    "df.sort_values(\"total_pay\",ascending=False).drop_duplicates([\"fiscal_year\"])"
   ]
  },
  {
   "cell_type": "markdown",
   "id": "47fe8b5d",
   "metadata": {},
   "source": [
    "### 🤔 Second question\n",
    "#### How much did the city spend on overtime each year?"
   ]
  },
  {
   "cell_type": "code",
   "execution_count": 8,
   "id": "17825b45",
   "metadata": {},
   "outputs": [],
   "source": [
    "from plotnine import *"
   ]
  },
  {
   "cell_type": "code",
   "execution_count": 9,
   "id": "49e95973",
   "metadata": {},
   "outputs": [
    {
     "data": {
      "text/html": [
       "<div>\n",
       "<style scoped>\n",
       "    .dataframe tbody tr th:only-of-type {\n",
       "        vertical-align: middle;\n",
       "    }\n",
       "\n",
       "    .dataframe tbody tr th {\n",
       "        vertical-align: top;\n",
       "    }\n",
       "\n",
       "    .dataframe thead th {\n",
       "        text-align: right;\n",
       "    }\n",
       "</style>\n",
       "<table border=\"1\" class=\"dataframe\">\n",
       "  <thead>\n",
       "    <tr style=\"text-align: right;\">\n",
       "      <th></th>\n",
       "      <th>fiscal_year</th>\n",
       "      <th>total_ot_paid</th>\n",
       "    </tr>\n",
       "  </thead>\n",
       "  <tbody>\n",
       "    <tr>\n",
       "      <th>0</th>\n",
       "      <td>2017</td>\n",
       "      <td>1,866,990,981.37</td>\n",
       "    </tr>\n",
       "    <tr>\n",
       "      <th>1</th>\n",
       "      <td>2018</td>\n",
       "      <td>1,803,832,442.98</td>\n",
       "    </tr>\n",
       "    <tr>\n",
       "      <th>2</th>\n",
       "      <td>2019</td>\n",
       "      <td>1,781,905,103.35</td>\n",
       "    </tr>\n",
       "    <tr>\n",
       "      <th>3</th>\n",
       "      <td>2020</td>\n",
       "      <td>1,866,461,729.67</td>\n",
       "    </tr>\n",
       "    <tr>\n",
       "      <th>4</th>\n",
       "      <td>2021</td>\n",
       "      <td>1,695,474,496.70</td>\n",
       "    </tr>\n",
       "  </tbody>\n",
       "</table>\n",
       "</div>"
      ],
      "text/plain": [
       "   fiscal_year    total_ot_paid\n",
       "0         2017 1,866,990,981.37\n",
       "1         2018 1,803,832,442.98\n",
       "2         2019 1,781,905,103.35\n",
       "3         2020 1,866,461,729.67\n",
       "4         2021 1,695,474,496.70"
      ]
     },
     "execution_count": 9,
     "metadata": {},
     "output_type": "execute_result"
    }
   ],
   "source": [
    "df.groupby(by='fiscal_year').total_ot_paid.sum().reset_index()"
   ]
  },
  {
   "cell_type": "code",
   "execution_count": 10,
   "id": "57ba69a7",
   "metadata": {},
   "outputs": [
    {
     "data": {
      "image/png": "[encoded data removed]",
      "text/plain": [
       "<Figure size 640x480 with 1 Axes>"
      ]
     },
     "metadata": {},
     "output_type": "display_data"
    },
    {
     "data": {
      "text/plain": [
       "<ggplot: (766422731)>"
      ]
     },
     "execution_count": 10,
     "metadata": {},
     "output_type": "execute_result"
    }
   ],
   "source": [
    "import numpy as np\n",
    "chart = (\n",
    "    ggplot(df,\n",
    "    aes('fiscal_year', 'total_ot_paid'))\n",
    "    + geom_bar(stat='summary', fun_y=np.sum)\n",
    "\n",
    ")\n",
    "chart"
   ]
  },
  {
   "cell_type": "code",
   "execution_count": 11,
   "id": "efc7ed5f",
   "metadata": {},
   "outputs": [
    {
     "data": {
      "text/plain": [
       "9014664754.070004"
      ]
     },
     "execution_count": 11,
     "metadata": {},
     "output_type": "execute_result"
    }
   ],
   "source": [
    "df.total_ot_paid.sum()"
   ]
  },
  {
   "cell_type": "markdown",
   "id": "84f7a517",
   "metadata": {},
   "source": [
    "### 🤔 Third question\n",
    "#### How does overtime compare to total pay? What's the ratio of overtime to total pay each year"
   ]
  },
  {
   "cell_type": "code",
   "execution_count": 12,
   "id": "41772343",
   "metadata": {},
   "outputs": [
    {
     "data": {
      "text/html": [
       "<div>\n",
       "<style scoped>\n",
       "    .dataframe tbody tr th:only-of-type {\n",
       "        vertical-align: middle;\n",
       "    }\n",
       "\n",
       "    .dataframe tbody tr th {\n",
       "        vertical-align: top;\n",
       "    }\n",
       "\n",
       "    .dataframe thead th {\n",
       "        text-align: right;\n",
       "    }\n",
       "</style>\n",
       "<table border=\"1\" class=\"dataframe\">\n",
       "  <thead>\n",
       "    <tr style=\"text-align: right;\">\n",
       "      <th></th>\n",
       "      <th>fiscal_year</th>\n",
       "      <th>total_pay</th>\n",
       "    </tr>\n",
       "  </thead>\n",
       "  <tbody>\n",
       "    <tr>\n",
       "      <th>0</th>\n",
       "      <td>2017</td>\n",
       "      <td>25,418,114,048.67</td>\n",
       "    </tr>\n",
       "    <tr>\n",
       "      <th>1</th>\n",
       "      <td>2018</td>\n",
       "      <td>25,905,889,595.04</td>\n",
       "    </tr>\n",
       "    <tr>\n",
       "      <th>2</th>\n",
       "      <td>2019</td>\n",
       "      <td>27,812,730,850.36</td>\n",
       "    </tr>\n",
       "    <tr>\n",
       "      <th>3</th>\n",
       "      <td>2020</td>\n",
       "      <td>28,793,781,660.12</td>\n",
       "    </tr>\n",
       "    <tr>\n",
       "      <th>4</th>\n",
       "      <td>2021</td>\n",
       "      <td>28,380,398,935.99</td>\n",
       "    </tr>\n",
       "  </tbody>\n",
       "</table>\n",
       "</div>"
      ],
      "text/plain": [
       "   fiscal_year         total_pay\n",
       "0         2017 25,418,114,048.67\n",
       "1         2018 25,905,889,595.04\n",
       "2         2019 27,812,730,850.36\n",
       "3         2020 28,793,781,660.12\n",
       "4         2021 28,380,398,935.99"
      ]
     },
     "execution_count": 12,
     "metadata": {},
     "output_type": "execute_result"
    }
   ],
   "source": [
    "df.groupby(by='fiscal_year').total_pay.sum().reset_index()"
   ]
  },
  {
   "cell_type": "code",
   "execution_count": 13,
   "id": "f3ac9f2e",
   "metadata": {},
   "outputs": [
    {
     "data": {
      "image/png": "[encoded data removed]",
      "text/plain": [
       "<Figure size 640x480 with 1 Axes>"
      ]
     },
     "metadata": {},
     "output_type": "display_data"
    },
    {
     "data": {
      "text/plain": [
       "<ggplot: (400443507)>"
      ]
     },
     "execution_count": 13,
     "metadata": {},
     "output_type": "execute_result"
    }
   ],
   "source": [
    "chart = (\n",
    "    ggplot(df,\n",
    "    aes('fiscal_year', 'total_pay'))\n",
    "    + geom_bar(stat='summary', fun_y=np.sum)\n",
    "\n",
    ")\n",
    "chart"
   ]
  },
  {
   "cell_type": "code",
   "execution_count": 14,
   "id": "5ff9c036",
   "metadata": {},
   "outputs": [
    {
     "data": {
      "text/plain": [
       "136310915090.17996"
      ]
     },
     "execution_count": 14,
     "metadata": {},
     "output_type": "execute_result"
    }
   ],
   "source": [
    "df.total_pay.sum()"
   ]
  },
  {
   "cell_type": "markdown",
   "id": "1c0dc9de",
   "metadata": {},
   "source": [
    "### 🤔 Fourth question\n",
    "#### What is the spread of overtime by different agencies?"
   ]
  },
  {
   "cell_type": "code",
   "execution_count": 15,
   "id": "06eed6f8",
   "metadata": {},
   "outputs": [
    {
     "data": {
      "text/html": [
       "<div>\n",
       "<style scoped>\n",
       "    .dataframe tbody tr th:only-of-type {\n",
       "        vertical-align: middle;\n",
       "    }\n",
       "\n",
       "    .dataframe tbody tr th {\n",
       "        vertical-align: top;\n",
       "    }\n",
       "\n",
       "    .dataframe thead th {\n",
       "        text-align: right;\n",
       "    }\n",
       "</style>\n",
       "<table border=\"1\" class=\"dataframe\">\n",
       "  <thead>\n",
       "    <tr style=\"text-align: right;\">\n",
       "      <th></th>\n",
       "      <th>agency_name</th>\n",
       "      <th>total_ot_paid</th>\n",
       "    </tr>\n",
       "  </thead>\n",
       "  <tbody>\n",
       "    <tr>\n",
       "      <th>125</th>\n",
       "      <td>POLICE DEPARTMENT</td>\n",
       "      <td>3,410,660,240.39</td>\n",
       "    </tr>\n",
       "    <tr>\n",
       "      <th>88</th>\n",
       "      <td>FIRE DEPARTMENT</td>\n",
       "      <td>1,596,842,055.03</td>\n",
       "    </tr>\n",
       "    <tr>\n",
       "      <th>59</th>\n",
       "      <td>DEPARTMENT OF CORRECTION</td>\n",
       "      <td>981,672,183.09</td>\n",
       "    </tr>\n",
       "    <tr>\n",
       "      <th>65</th>\n",
       "      <td>DEPARTMENT OF SANITATION</td>\n",
       "      <td>790,873,824.62</td>\n",
       "    </tr>\n",
       "    <tr>\n",
       "      <th>114</th>\n",
       "      <td>NYC HOUSING AUTHORITY</td>\n",
       "      <td>553,297,085.88</td>\n",
       "    </tr>\n",
       "  </tbody>\n",
       "</table>\n",
       "</div>"
      ],
      "text/plain": [
       "                  agency_name    total_ot_paid\n",
       "125         POLICE DEPARTMENT 3,410,660,240.39\n",
       "88            FIRE DEPARTMENT 1,596,842,055.03\n",
       "59   DEPARTMENT OF CORRECTION   981,672,183.09\n",
       "65   DEPARTMENT OF SANITATION   790,873,824.62\n",
       "114     NYC HOUSING AUTHORITY   553,297,085.88"
      ]
     },
     "execution_count": 15,
     "metadata": {},
     "output_type": "execute_result"
    }
   ],
   "source": [
    "df.groupby(by='agency_name').total_ot_paid.sum().reset_index().sort_values(by='total_ot_paid', ascending=False).head(5)"
   ]
  },
  {
   "cell_type": "markdown",
   "id": "220b62cd",
   "metadata": {},
   "source": [
    "### 🤔 Fifth question\n",
    "#### Let's zoom into individuals. Who are the top overtime earners?"
   ]
  },
  {
   "cell_type": "code",
   "execution_count": 16,
   "id": "78bbdd6d",
   "metadata": {},
   "outputs": [
    {
     "data": {
      "text/html": [
       "<div>\n",
       "<style scoped>\n",
       "    .dataframe tbody tr th:only-of-type {\n",
       "        vertical-align: middle;\n",
       "    }\n",
       "\n",
       "    .dataframe tbody tr th {\n",
       "        vertical-align: top;\n",
       "    }\n",
       "\n",
       "    .dataframe thead th {\n",
       "        text-align: right;\n",
       "    }\n",
       "</style>\n",
       "<table border=\"1\" class=\"dataframe\">\n",
       "  <thead>\n",
       "    <tr style=\"text-align: right;\">\n",
       "      <th></th>\n",
       "      <th>fiscal_year</th>\n",
       "      <th>payroll_number</th>\n",
       "      <th>agency_name</th>\n",
       "      <th>last_name</th>\n",
       "      <th>first_name</th>\n",
       "      <th>mid_init</th>\n",
       "      <th>agency_start_date</th>\n",
       "      <th>work_location_borough</th>\n",
       "      <th>title_description</th>\n",
       "      <th>leave_status_as_of_june_30</th>\n",
       "      <th>base_salary</th>\n",
       "      <th>pay_basis</th>\n",
       "      <th>regular_hours</th>\n",
       "      <th>regular_gross_paid</th>\n",
       "      <th>ot_hours</th>\n",
       "      <th>total_ot_paid</th>\n",
       "      <th>total_other_pay</th>\n",
       "      <th>total_pay</th>\n",
       "    </tr>\n",
       "  </thead>\n",
       "  <tbody>\n",
       "    <tr>\n",
       "      <th>2291076</th>\n",
       "      <td>2021</td>\n",
       "      <td>996.00</td>\n",
       "      <td>NYC HOUSING AUTHORITY</td>\n",
       "      <td>PROCIDA</td>\n",
       "      <td>ROBERT</td>\n",
       "      <td>NaN</td>\n",
       "      <td>04/13/1987</td>\n",
       "      <td>BRONX</td>\n",
       "      <td>SUPERVISOR PLUMBER</td>\n",
       "      <td>ACTIVE</td>\n",
       "      <td>387.03</td>\n",
       "      <td>per Day</td>\n",
       "      <td>1,820.00</td>\n",
       "      <td>100,627.80</td>\n",
       "      <td>2,249.50</td>\n",
       "      <td>248,749.72</td>\n",
       "      <td>7,215.34</td>\n",
       "      <td>356,592.86</td>\n",
       "    </tr>\n",
       "    <tr>\n",
       "      <th>2291070</th>\n",
       "      <td>2021</td>\n",
       "      <td>816.00</td>\n",
       "      <td>DEPT OF HEALTH/MENTAL HYGIENE</td>\n",
       "      <td>MCGROARTY</td>\n",
       "      <td>MICHAEL</td>\n",
       "      <td>NaN</td>\n",
       "      <td>10/06/2014</td>\n",
       "      <td>QUEENS</td>\n",
       "      <td>STATIONARY ENGINEER</td>\n",
       "      <td>ACTIVE</td>\n",
       "      <td>508.80</td>\n",
       "      <td>per Day</td>\n",
       "      <td>2,080.00</td>\n",
       "      <td>132,288.00</td>\n",
       "      <td>2,374.75</td>\n",
       "      <td>238,829.13</td>\n",
       "      <td>40,105.00</td>\n",
       "      <td>411,222.13</td>\n",
       "    </tr>\n",
       "    <tr>\n",
       "      <th>2291085</th>\n",
       "      <td>2021</td>\n",
       "      <td>996.00</td>\n",
       "      <td>NYC HOUSING AUTHORITY</td>\n",
       "      <td>MARKOWSKI</td>\n",
       "      <td>JAKUB</td>\n",
       "      <td>NaN</td>\n",
       "      <td>05/31/2016</td>\n",
       "      <td>BRONX</td>\n",
       "      <td>PLUMBER</td>\n",
       "      <td>ACTIVE</td>\n",
       "      <td>369.53</td>\n",
       "      <td>per Day</td>\n",
       "      <td>1,820.00</td>\n",
       "      <td>96,077.80</td>\n",
       "      <td>2,119.50</td>\n",
       "      <td>223,776.86</td>\n",
       "      <td>5,899.29</td>\n",
       "      <td>325,753.95</td>\n",
       "    </tr>\n",
       "  </tbody>\n",
       "</table>\n",
       "</div>"
      ],
      "text/plain": [
       "         fiscal_year  payroll_number                    agency_name  \\\n",
       "2291076         2021          996.00          NYC HOUSING AUTHORITY   \n",
       "2291070         2021          816.00  DEPT OF HEALTH/MENTAL HYGIENE   \n",
       "2291085         2021          996.00          NYC HOUSING AUTHORITY   \n",
       "\n",
       "         last_name first_name mid_init agency_start_date  \\\n",
       "2291076    PROCIDA     ROBERT      NaN        04/13/1987   \n",
       "2291070  MCGROARTY    MICHAEL      NaN        10/06/2014   \n",
       "2291085  MARKOWSKI      JAKUB      NaN        05/31/2016   \n",
       "\n",
       "        work_location_borough    title_description leave_status_as_of_june_30  \\\n",
       "2291076                 BRONX   SUPERVISOR PLUMBER                     ACTIVE   \n",
       "2291070                QUEENS  STATIONARY ENGINEER                     ACTIVE   \n",
       "2291085                 BRONX              PLUMBER                     ACTIVE   \n",
       "\n",
       "         base_salary pay_basis  regular_hours  regular_gross_paid  ot_hours  \\\n",
       "2291076       387.03   per Day       1,820.00          100,627.80  2,249.50   \n",
       "2291070       508.80   per Day       2,080.00          132,288.00  2,374.75   \n",
       "2291085       369.53   per Day       1,820.00           96,077.80  2,119.50   \n",
       "\n",
       "         total_ot_paid  total_other_pay  total_pay  \n",
       "2291076     248,749.72         7,215.34 356,592.86  \n",
       "2291070     238,829.13        40,105.00 411,222.13  \n",
       "2291085     223,776.86         5,899.29 325,753.95  "
      ]
     },
     "execution_count": 16,
     "metadata": {},
     "output_type": "execute_result"
    }
   ],
   "source": [
    "df.sort_values(by='total_ot_paid', ascending = False).head(3) "
   ]
  },
  {
   "cell_type": "markdown",
   "id": "9863cfe0",
   "metadata": {},
   "source": [
    "#### Did someone work more hours than these three yet make less? Let's check! "
   ]
  },
  {
   "cell_type": "code",
   "execution_count": 17,
   "id": "789d2316",
   "metadata": {},
   "outputs": [
    {
     "data": {
      "text/html": [
       "<div>\n",
       "<style scoped>\n",
       "    .dataframe tbody tr th:only-of-type {\n",
       "        vertical-align: middle;\n",
       "    }\n",
       "\n",
       "    .dataframe tbody tr th {\n",
       "        vertical-align: top;\n",
       "    }\n",
       "\n",
       "    .dataframe thead th {\n",
       "        text-align: right;\n",
       "    }\n",
       "</style>\n",
       "<table border=\"1\" class=\"dataframe\">\n",
       "  <thead>\n",
       "    <tr style=\"text-align: right;\">\n",
       "      <th></th>\n",
       "      <th>fiscal_year</th>\n",
       "      <th>payroll_number</th>\n",
       "      <th>agency_name</th>\n",
       "      <th>last_name</th>\n",
       "      <th>first_name</th>\n",
       "      <th>mid_init</th>\n",
       "      <th>agency_start_date</th>\n",
       "      <th>work_location_borough</th>\n",
       "      <th>title_description</th>\n",
       "      <th>leave_status_as_of_june_30</th>\n",
       "      <th>base_salary</th>\n",
       "      <th>pay_basis</th>\n",
       "      <th>regular_hours</th>\n",
       "      <th>regular_gross_paid</th>\n",
       "      <th>ot_hours</th>\n",
       "      <th>total_ot_paid</th>\n",
       "      <th>total_other_pay</th>\n",
       "      <th>total_pay</th>\n",
       "    </tr>\n",
       "  </thead>\n",
       "  <tbody>\n",
       "    <tr>\n",
       "      <th>1811427</th>\n",
       "      <td>2020</td>\n",
       "      <td>72.00</td>\n",
       "      <td>DEPARTMENT OF CORRECTION</td>\n",
       "      <td>MALCOLM</td>\n",
       "      <td>OMAR</td>\n",
       "      <td>T</td>\n",
       "      <td>09/06/2012</td>\n",
       "      <td>QUEENS</td>\n",
       "      <td>WARDEN-ASSISTANT DEPUTY WARDEN TED &lt; 11/1/92</td>\n",
       "      <td>ACTIVE</td>\n",
       "      <td>111,142.00</td>\n",
       "      <td>per Annum</td>\n",
       "      <td>2,080.00</td>\n",
       "      <td>110,385.63</td>\n",
       "      <td>3,147.00</td>\n",
       "      <td>127,375.43</td>\n",
       "      <td>13,559.40</td>\n",
       "      <td>251,320.46</td>\n",
       "    </tr>\n",
       "    <tr>\n",
       "      <th>2291089</th>\n",
       "      <td>2021</td>\n",
       "      <td>72.00</td>\n",
       "      <td>DEPARTMENT OF CORRECTION</td>\n",
       "      <td>GIVES</td>\n",
       "      <td>DEMETRIA</td>\n",
       "      <td>NaN</td>\n",
       "      <td>10/23/1997</td>\n",
       "      <td>QUEENS</td>\n",
       "      <td>WARDEN-ASSISTANT DEPUTY WARDEN TED &lt; 11/1/92</td>\n",
       "      <td>ACTIVE</td>\n",
       "      <td>128,355.00</td>\n",
       "      <td>per Annum</td>\n",
       "      <td>2,080.00</td>\n",
       "      <td>127,452.46</td>\n",
       "      <td>2,809.50</td>\n",
       "      <td>162,012.85</td>\n",
       "      <td>24,946.87</td>\n",
       "      <td>314,412.18</td>\n",
       "    </tr>\n",
       "    <tr>\n",
       "      <th>88859</th>\n",
       "      <td>2017</td>\n",
       "      <td>NaN</td>\n",
       "      <td>DEPARTMENT OF BUILDINGS</td>\n",
       "      <td>CHERENFANT</td>\n",
       "      <td>DANIEL</td>\n",
       "      <td>F</td>\n",
       "      <td>12/07/2008</td>\n",
       "      <td>MANHATTAN</td>\n",
       "      <td>COMMUNITY ASSOCIATE</td>\n",
       "      <td>ACTIVE</td>\n",
       "      <td>45,156.00</td>\n",
       "      <td>per Annum</td>\n",
       "      <td>1,795.00</td>\n",
       "      <td>45,598.06</td>\n",
       "      <td>2,736.67</td>\n",
       "      <td>63,325.21</td>\n",
       "      <td>164.65</td>\n",
       "      <td>109,087.92</td>\n",
       "    </tr>\n",
       "  </tbody>\n",
       "</table>\n",
       "</div>"
      ],
      "text/plain": [
       "         fiscal_year  payroll_number               agency_name   last_name  \\\n",
       "1811427         2020           72.00  DEPARTMENT OF CORRECTION     MALCOLM   \n",
       "2291089         2021           72.00  DEPARTMENT OF CORRECTION       GIVES   \n",
       "88859           2017             NaN   DEPARTMENT OF BUILDINGS  CHERENFANT   \n",
       "\n",
       "        first_name mid_init agency_start_date work_location_borough  \\\n",
       "1811427       OMAR        T        09/06/2012                QUEENS   \n",
       "2291089   DEMETRIA      NaN        10/23/1997                QUEENS   \n",
       "88859       DANIEL        F        12/07/2008             MANHATTAN   \n",
       "\n",
       "                                    title_description  \\\n",
       "1811427  WARDEN-ASSISTANT DEPUTY WARDEN TED < 11/1/92   \n",
       "2291089  WARDEN-ASSISTANT DEPUTY WARDEN TED < 11/1/92   \n",
       "88859                             COMMUNITY ASSOCIATE   \n",
       "\n",
       "        leave_status_as_of_june_30  base_salary  pay_basis  regular_hours  \\\n",
       "1811427                     ACTIVE   111,142.00  per Annum       2,080.00   \n",
       "2291089                     ACTIVE   128,355.00  per Annum       2,080.00   \n",
       "88859                       ACTIVE    45,156.00  per Annum       1,795.00   \n",
       "\n",
       "         regular_gross_paid  ot_hours  total_ot_paid  total_other_pay  \\\n",
       "1811427          110,385.63  3,147.00     127,375.43        13,559.40   \n",
       "2291089          127,452.46  2,809.50     162,012.85        24,946.87   \n",
       "88859             45,598.06  2,736.67      63,325.21           164.65   \n",
       "\n",
       "         total_pay  \n",
       "1811427 251,320.46  \n",
       "2291089 314,412.18  \n",
       "88859   109,087.92  "
      ]
     },
     "execution_count": 17,
     "metadata": {},
     "output_type": "execute_result"
    }
   ],
   "source": [
    "df.sort_values(by='ot_hours', ascending = False).head(3) "
   ]
  },
  {
   "cell_type": "markdown",
   "id": "aabb6fe9",
   "metadata": {},
   "source": [
    "#### This reveals three new people. Notice the top one, clocked in 3,147 hours in overtime. A regular work year, with 8 hours a day, five days a week is 2040 hours."
   ]
  },
  {
   "cell_type": "markdown",
   "id": "cf7fd020",
   "metadata": {},
   "source": [
    "#### There's a ton more possibilities here, and if you'd like to see a detailed analyses for NYC, refer to [this notebook](https://github.com/areenaarora/city-employees-salaries/blob/main/check-in-2.ipynb)"
   ]
  }
 ],
 "metadata": {
  "kernelspec": {
   "display_name": "Python 3 (ipykernel)",
   "language": "python",
   "name": "python3"
  },
  "language_info": {
   "codemirror_mode": {
    "name": "ipython",
    "version": 3
   },
   "file_extension": ".py",
   "mimetype": "text/x-python",
   "name": "python",
   "nbconvert_exporter": "python",
   "pygments_lexer": "ipython3",
   "version": "3.10.0"
  }
 },
 "nbformat": 4,
 "nbformat_minor": 5
}
